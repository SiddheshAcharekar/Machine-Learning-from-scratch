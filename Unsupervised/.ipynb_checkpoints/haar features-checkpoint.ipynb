{
 "cells": [
  {
   "cell_type": "markdown",
   "metadata": {},
   "source": [
    "# Extracting HARR features from MNIST image dataset "
   ]
  },
  {
   "cell_type": "markdown",
   "metadata": {},
   "source": [
    "### Implement and run HAAR feature Extraction for each image on the Digit Dataset. Then repeat the classification task with the extracted features. "
   ]
  },
  {
   "cell_type": "code",
   "execution_count": 166,
   "metadata": {},
   "outputs": [],
   "source": [
    "import numpy as np\n",
    "from sklearn.model_selection import train_test_split\n",
    "from random import *\n",
    "from sklearn.linear_model import LogisticRegression"
   ]
  },
  {
   "cell_type": "code",
   "execution_count": 167,
   "metadata": {},
   "outputs": [],
   "source": [
    "# Fetch dataset\n",
    "from sklearn.datasets import fetch_mldata\n",
    "mnist_data = fetch_mldata('MNIST original')"
   ]
  },
  {
   "cell_type": "code",
   "execution_count": 168,
   "metadata": {},
   "outputs": [],
   "source": [
    "def preprocess_harr(data, r, c):\n",
    "    rect = np.zeros((r+1,c+1), dtype=int)\n",
    "    for i in range(1, r+1):\n",
    "        for j in range(1, c+1):\n",
    "            rect[i, j] = rect[i, j-1] + rect[i-1, j] - rect[i-1, j-1]\n",
    "            if data[i-1, j-1] != 0:\n",
    "                rect[i, j] += 1\n",
    "    return rect.flatten()"
   ]
  },
  {
   "cell_type": "code",
   "execution_count": 169,
   "metadata": {},
   "outputs": [],
   "source": [
    "# Write a function that keeps and stores preprocessed values of black pixels for every image in dataset\n",
    "def run_black_matrix(data):\n",
    "    data_row, data_col = data.shape\n",
    "    print (data.shape)\n",
    "    black_count_matrix = np.zeros(shape = (data_row, 841))\n",
    "    for c, row in enumerate(data):\n",
    "        black_count_matrix[c,:] = preprocess_harr(row.reshape(28, 28), 28, 28)\n",
    "        \n",
    "    return black_count_matrix"
   ]
  },
  {
   "cell_type": "code",
   "execution_count": 170,
   "metadata": {},
   "outputs": [],
   "source": [
    "mnist_train, mnist_test, mnist_train_l, mnist_test_l = train_test_split(mnist_data.data, mnist_data.target, test_size = 0.2, random_state = 42)"
   ]
  },
  {
   "cell_type": "code",
   "execution_count": 171,
   "metadata": {},
   "outputs": [
    {
     "name": "stdout",
     "output_type": "stream",
     "text": [
      "(56000, 784)\n",
      "(14000, 784)\n"
     ]
    }
   ],
   "source": [
    "train_black_matrix = run_black_matrix(mnist_train)\n",
    "test_black_matrix = run_black_matrix(mnist_test)"
   ]
  },
  {
   "cell_type": "code",
   "execution_count": 172,
   "metadata": {},
   "outputs": [],
   "source": [
    "def gen_rects():\n",
    "    all_rects = []\n",
    "    while len(all_rects) < 100:\n",
    "        x = randint(1, 28)\n",
    "        y = randint(1, 28)\n",
    "        l = randint(5, 28)\n",
    "        b = randint(5, 28)\n",
    "\n",
    "        if x+b > 28 or y+l > 28 or l*b < 130 or l*b > 170:\n",
    "            continue\n",
    "        else:\n",
    "            all_rects.append((x,y,l,b))\n",
    "    return all_rects"
   ]
  },
  {
   "cell_type": "code",
   "execution_count": 174,
   "metadata": {},
   "outputs": [],
   "source": [
    "random_rects = gen_rects()"
   ]
  },
  {
   "cell_type": "code",
   "execution_count": 175,
   "metadata": {},
   "outputs": [],
   "source": [
    "def get_haar(black_matrix, rectangles):\n",
    "    haar_features = np.zeros((black_matrix.shape[0], 200))\n",
    "    for c, digit in enumerate(black_matrix):\n",
    "        digit_mat_blk = digit.reshape(29, 29)\n",
    "        feat_num = 0\n",
    "        for rectangle in rectangles:\n",
    "            x, y, l, b = rectangle\n",
    "            top_blk = digit_mat_blk[x+round(b/2), y+l] - digit_mat_blk[x+round(b/2), y] - digit_mat_blk[x,y+l] + digit_mat_blk[x, y]\n",
    "            bot_blk = digit_mat_blk[x+b, y+l] - digit_mat_blk[x+b, y] - digit_mat_blk[x+round(b/2),y+l] + digit_mat_blk[x+round(b/2), y]\n",
    "\n",
    "            haar_features[c, feat_num] = top_blk - bot_blk\n",
    "            feat_num += 1\n",
    "\n",
    "            left = digit_mat_blk[x+b, y+round(l/2)] - digit_mat_blk[x + b, y] - digit_mat_blk[x, y+round(l/2)] + digit_mat_blk[x,y]\n",
    "            right = digit_mat_blk[x +b, y+l] - digit_mat_blk[x+b,y+round(l/2)] - digit_mat_blk[x,y+l] + digit_mat_blk[x, y+round(l/2)]\n",
    "\n",
    "            haar_features[c, feat_num] = left - right\n",
    "            feat_num += 1\n",
    "    return haar_features"
   ]
  },
  {
   "cell_type": "code",
   "execution_count": 176,
   "metadata": {},
   "outputs": [],
   "source": [
    "train_haar_features = get_haar(train_black_matrix, random_rects)\n",
    "test_haar_features = get_haar(test_black_matrix, random_rects)"
   ]
  },
  {
   "cell_type": "code",
   "execution_count": 177,
   "metadata": {},
   "outputs": [
    {
     "data": {
      "text/plain": [
       "LogisticRegression(C=1.0, class_weight=None, dual=False, fit_intercept=True,\n",
       "          intercept_scaling=1, max_iter=100, multi_class='multinomial',\n",
       "          n_jobs=1, penalty='l2', random_state=None, solver='saga',\n",
       "          tol=0.1, verbose=0, warm_start=False)"
      ]
     },
     "execution_count": 177,
     "metadata": {},
     "output_type": "execute_result"
    }
   ],
   "source": [
    "mnist_logreg = LogisticRegression(multi_class='multinomial', penalty = 'l2', solver = 'saga', tol = 0.1)   \n",
    "mnist_logreg.fit(train_haar_features, mnist_train_l)"
   ]
  },
  {
   "cell_type": "code",
   "execution_count": 178,
   "metadata": {},
   "outputs": [
    {
     "data": {
      "text/plain": [
       "0.9056607142857143"
      ]
     },
     "execution_count": 178,
     "metadata": {},
     "output_type": "execute_result"
    }
   ],
   "source": [
    "mnist_logreg.score(train_haar_features, mnist_train_l)"
   ]
  },
  {
   "cell_type": "code",
   "execution_count": 179,
   "metadata": {},
   "outputs": [
    {
     "data": {
      "text/plain": [
       "0.9078571428571428"
      ]
     },
     "execution_count": 179,
     "metadata": {},
     "output_type": "execute_result"
    }
   ],
   "source": [
    "mnist_logreg.score(test_haar_features, mnist_test_l)"
   ]
  }
 ],
 "metadata": {
  "kernelspec": {
   "display_name": "Python 3",
   "language": "python",
   "name": "python3"
  },
  "language_info": {
   "codemirror_mode": {
    "name": "ipython",
    "version": 3
   },
   "file_extension": ".py",
   "mimetype": "text/x-python",
   "name": "python",
   "nbconvert_exporter": "python",
   "pygments_lexer": "ipython3",
   "version": "3.6.4"
  }
 },
 "nbformat": 4,
 "nbformat_minor": 2
}
