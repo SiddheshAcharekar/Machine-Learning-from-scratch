{
 "cells": [
  {
   "cell_type": "code",
   "execution_count": 2,
   "metadata": {},
   "outputs": [],
   "source": [
    "import numpy as np\n",
    "from scipy.stats import multivariate_normal\n",
    "import random\n",
    "np.random.seed(123)\n",
    "random.seed(123)"
   ]
  },
  {
   "cell_type": "code",
   "execution_count": 3,
   "metadata": {},
   "outputs": [],
   "source": [
    "def gaussian_e(gaussian_data, init_means, covariance_mat, weights):\n",
    "    weighted_total = np.array([np.multiply(weights, [multivariate_normal.pdf(gaussian_data[j], mean=init_means[i], \\\n",
    "                                                    cov=covariance_mat[i]) for i in xrange(0, len(init_means))]) for j in \\\n",
    "                                                    range(0,len(gaussian_data))])\n",
    "    memberships = np.array([w/sum(w) for w in [wts for wts in weighted_total]])\n",
    "    return weighted_total, memberships\n",
    "\n",
    "def gaussian_m(gaussian_data, memberships, init_means, K):\n",
    "    covariance_mat = np.array([sum([memberships[i][j] * np.matmul(np.transpose(np.matrix(gaussian_data[i] - init_means[j])),\\\n",
    "                                    np.matrix(gaussian_data[i] - init_means[j]))/sum(memberships[:,j]) for i in range(0, \\\n",
    "                                    len(gaussian_data))]) for j in range(0,K)])\n",
    "    # Forming covariance matrix takes the most amount of time\n",
    "    weights = np.array([sum(np.array(memberships[:,i])) for i in range(0, K)])/len(gaussian_data)\n",
    "    init_means = np.array([sum([data*prob for data, prob in zip(gaussian_data, memberships[:,i])])/sum(memberships[:,i]) \\\n",
    "                           for i in range(0,K)])\n",
    "    return covariance_mat, weights, init_means\n",
    "\n",
    "def gaussian_em(gaussian_data, K):\n",
    "    memberships = np.random.dirichlet(np.ones(K),size=len(gaussian_data))\n",
    "    weights = np.random.dirichlet(np.ones(K), size=1).flatten()\n",
    "    samples = random.sample(range(0, len(gaussian_data)), K)\n",
    "    init_means = np.array([gaussian_data[samples[i]] for i in range(0, len(samples))])\n",
    "    covariance_mat = np.array([sum([memberships[i][j] * np.matmul(np.transpose(np.matrix(gaussian_data[i] - init_means[j])),\\\n",
    "                                    np.matrix(gaussian_data[i] - init_means[j]))/sum(memberships[:,j]) for i in range(0, \\\n",
    "                                    len(gaussian_data))]) for j in range(0,K)])\n",
    "    \n",
    "    while True:\n",
    "        prev_means = init_means\n",
    "        weighted_total, memberships = gaussian_e(gaussian_data, init_means, covariance_mat, weights)\n",
    "#         print 'e step done'\n",
    "        covariance_mat, weights, init_means = gaussian_m(gaussian_data, memberships, init_means, K)\n",
    "#         print 'm done'\n",
    "        if np.all(np.absolute(prev_means - init_means) < 10**-4):\n",
    "            break\n",
    "    return init_means, covariance_mat"
   ]
  },
  {
   "cell_type": "code",
   "execution_count": null,
   "metadata": {},
   "outputs": [],
   "source": [
    "# Run this and pass the data to get back the means and covariances\n",
    "means, covariances = gaussian_em(gaussian_data, 2)"
   ]
  }
 ],
 "metadata": {
  "kernelspec": {
   "display_name": "Python 3",
   "language": "python",
   "name": "python3"
  },
  "language_info": {
   "codemirror_mode": {
    "name": "ipython",
    "version": 3
   },
   "file_extension": ".py",
   "mimetype": "text/x-python",
   "name": "python",
   "nbconvert_exporter": "python",
   "pygments_lexer": "ipython3",
   "version": "3.6.4"
  }
 },
 "nbformat": 4,
 "nbformat_minor": 2
}
