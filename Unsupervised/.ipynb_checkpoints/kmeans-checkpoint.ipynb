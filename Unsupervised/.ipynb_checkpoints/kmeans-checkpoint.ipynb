{
 "cells": [
  {
   "cell_type": "code",
   "execution_count": 1,
   "metadata": {},
   "outputs": [],
   "source": [
    "import numpy as np\n",
    "from sklearn.metrics.pairwise import euclidean_distances\n",
    "import time\n",
    "from scipy import sparse"
   ]
  },
  {
   "cell_type": "code",
   "execution_count": 3,
   "metadata": {},
   "outputs": [],
   "source": [
    "def random_centroid_generator(data, K):\n",
    "    rant_inds = np.random.randint(data.shape[0], size = K)\n",
    "    return data[rant_inds, :]\n",
    "\n",
    "def assignClusters(data, centroids):\n",
    "    distance_matrix = euclidean_distances(data, centroids)\n",
    "    min_indices = [np.argmin(i) for i in distance_matrix]\n",
    "    assigned_clusters = [centroids[j] for j in min_indices]\n",
    "    return min_indices, assigned_clusters\n",
    "    \n",
    "\n",
    "def moveCentroids(data, clusters, sparse = False):\n",
    "    print('start centmove')\n",
    "    # take all datapoints in a cluster, find their mean, return that as a matrix of centroids\n",
    "    grouped_data = []\n",
    "    for cluster_id in range(len(np.unique(clusters))):\n",
    "        grouped_data.append([data[i] for i in range(data.shape[0]) if clusters[i] == cluster_id])\n",
    "    grouped_data = np.array(grouped_data)\n",
    "    return np.array([np.mean(part,axis=0) for part in grouped_data])\n",
    "\n",
    "def objective_function(data, centroids):\n",
    "    centroids = np.asarray(centroids)\n",
    "    dist_per_point = []\n",
    "    for i in range(data.shape[0]):\n",
    "        dist_per_point.append(euclidean_distances(data[i].reshape(1,-1), centroids[i].reshape(1,-1)))\n",
    "    return np.sum(dist_per_point)\n",
    "\n",
    "def run_kmeans(data, K, want_objective_function = False, sparse = False):\n",
    "    '''\n",
    "    Function that clusters data by K clusters and returns arrays of:\n",
    "    1) Cluster indices assigned to each datapoint \n",
    "    2) Centroid vectors for each datapoint \n",
    "    3) Centroids of clusters \n",
    "    '''\n",
    "    t_start = time.time()\n",
    "    print('Starting K-means...')\n",
    "    current_centroids = random_centroid_generator(data, K)\n",
    "    objective_func_values = []                         # Maintain a list of objective function values to see if it reduces\n",
    "    while True:\n",
    "        clusters_assigned, cluster_vectors = assignClusters(data, current_centroids)\n",
    "        new_centroids = moveCentroids(data, clusters_assigned, sparse = sparse)\n",
    "\n",
    "        if want_objective_function:\n",
    "            '''\n",
    "            Compute objective function for each iteration only if needed\n",
    "            Slows down computation right now\n",
    "            '''\n",
    "            cluster_vectors = np.asarray(cluster_vectors)\n",
    "            objective_func_values.append(objective_function(data, cluster_vectors))\n",
    "        if np.all(current_centroids == new_centroids):\n",
    "            '''\n",
    "            Stop K-means when cluster centroids stop changing positions.\n",
    "            '''\n",
    "            print('Clustered!')\n",
    "            print('Time taken: ', time.time() - t_start)\n",
    "            return (clusters_assigned, cluster_vectors, new_centroids, objective_func_values)\n",
    "            break\n",
    "        current_centroids = new_centroids"
   ]
  },
  {
   "cell_type": "markdown",
   "metadata": {},
   "source": [
    "## Purity and Gini function to evaluate clustering"
   ]
  },
  {
   "cell_type": "code",
   "execution_count": 4,
   "metadata": {},
   "outputs": [],
   "source": [
    "def purity_gini(conf_mat):\n",
    "    '''\n",
    "    Function that takes in a confusion matrix and returns purity and gini index for cluster evaluation\n",
    "    '''\n",
    "    all_weighted_gini = []\n",
    "    for cluster in conf_mat.T:\n",
    "        gini_cluster = 1\n",
    "        changed = (cluster/float(np.sum(cluster)))**2\n",
    "        for num in changed:\n",
    "            gini_cluster -= num\n",
    "        all_weighted_gini.append(gini_cluster * np.sum(cluster))\n",
    "\n",
    "    gini_coeff = np.sum(all_weighted_gini)/np.sum(conf_mat)\n",
    "    \n",
    "    purity = np.sum(np.max(conf_mat, axis=0))/float(np.sum(conf_mat))\n",
    "    \n",
    "    return purity, gini_coeff"
   ]
  }
 ],
 "metadata": {
  "kernelspec": {
   "display_name": "Python 3",
   "language": "python",
   "name": "python3"
  },
  "language_info": {
   "codemirror_mode": {
    "name": "ipython",
    "version": 3
   },
   "file_extension": ".py",
   "mimetype": "text/x-python",
   "name": "python",
   "nbconvert_exporter": "python",
   "pygments_lexer": "ipython3",
   "version": "3.6.4"
  }
 },
 "nbformat": 4,
 "nbformat_minor": 2
}
