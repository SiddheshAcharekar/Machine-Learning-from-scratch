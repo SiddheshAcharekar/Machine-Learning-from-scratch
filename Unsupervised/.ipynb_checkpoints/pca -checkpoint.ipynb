{
 "cells": [
  {
   "cell_type": "code",
   "execution_count": 1,
   "metadata": {},
   "outputs": [],
   "source": [
    "import numpy as np\n",
    "import scipy"
   ]
  },
  {
   "cell_type": "markdown",
   "metadata": {},
   "source": [
    "I've used SVD, you can also use Eigenvalue Decomposition."
   ]
  },
  {
   "cell_type": "code",
   "execution_count": 2,
   "metadata": {},
   "outputs": [],
   "source": [
    "def PCAcustom_SVD(data, components):\n",
    "    cov_matrix = np.cov(data, rowvar=False)\n",
    "    U, S, V = scipy.linalg.svd(cov_matrix, full_matrices = True, compute_uv = True)\n",
    "#     print U.shape                        # Check for 784x784\n",
    "    only_components = U[:,:components]\n",
    "    y = data.dot(only_components)\n",
    "#     print y.shape                        # Check for data.shape[0]xcomponents\n",
    "    return y"
   ]
  }
 ],
 "metadata": {
  "kernelspec": {
   "display_name": "Python 3",
   "language": "python",
   "name": "python3"
  },
  "language_info": {
   "codemirror_mode": {
    "name": "ipython",
    "version": 3
   },
   "file_extension": ".py",
   "mimetype": "text/x-python",
   "name": "python",
   "nbconvert_exporter": "python",
   "pygments_lexer": "ipython3",
   "version": "3.6.4"
  }
 },
 "nbformat": 4,
 "nbformat_minor": 2
}
