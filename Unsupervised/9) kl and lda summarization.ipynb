{
 "cells": [
  {
   "cell_type": "markdown",
   "metadata": {},
   "source": [
    "# Extractive Summarization"
   ]
  },
  {
   "cell_type": "markdown",
   "metadata": {},
   "source": [
    "#### Implement the KL-Sum summarization method for each dataset. Follow the ideas in this paper ; you are allowed to use libraries for text cleaning, segmentation into sentences, etc. Run it twice : \n",
    "- A) KL_summary based on words_PD; PD is a distribution proportional to counts of words in document \n",
    "- B) LDA_summary based on LDA topics_PD on obtained in PB2. The only difference is that PD, while still a distribution over words, is computed using topic modeling\n",
    "- ES: Add two new fields to the document type, \"KL_summary\" and \"LDA_summary\" to store the obtained summaries. \n",
    "\n",
    "For DUC dataset evaluate KL_summaries and LDA_summaries against human gold summaries with ROUGE. ROUGE Perl package \n",
    "\n",
    "EXTRA CREDIT. KL Summarization: Can we make both PD and PS distributions over topics, instead of distributions over words? Would that help? "
   ]
  },
  {
   "cell_type": "code",
   "execution_count": 84,
   "metadata": {},
   "outputs": [],
   "source": [
    "import numpy as np\n",
    "import nltk\n",
    "from nltk.tokenize import sent_tokenize, word_tokenize\n",
    "from nltk.corpus import stopwords\n",
    "import string\n",
    "from collections import Counter\n",
    "from elasticsearch import Elasticsearch\n",
    "from sklearn.feature_extraction.text import TfidfVectorizer, CountVectorizer\n",
    "from sklearn.decomposition import LatentDirichletAllocation\n",
    "from subprocess import check_output\n",
    "from subprocess import check_call\n",
    "import json"
   ]
  },
  {
   "cell_type": "code",
   "execution_count": 2,
   "metadata": {},
   "outputs": [],
   "source": [
    "from sklearn.datasets import fetch_20newsgroups\n",
    "dataset = fetch_20newsgroups(shuffle=True, random_state=1, remove=('headers', 'footers', 'quotes'))\n",
    "documents = dataset.data\n",
    "stop = stopwords.words('english') + list(string.punctuation)\n",
    "tokenizer = nltk.data.load('tokenizers/punkt/english.pickle')\n",
    "stop_words = stopwords.words('english')"
   ]
  },
  {
   "cell_type": "markdown",
   "metadata": {},
   "source": [
    "### KL Summarization over words_PD"
   ]
  },
  {
   "cell_type": "code",
   "execution_count": 3,
   "metadata": {},
   "outputs": [],
   "source": [
    "def KL(p, q):\n",
    "    result = 0\n",
    "    for k, v in q.items():\n",
    "        result += p[k] * np.log(p[k]/np.float32(q[k]))\n",
    "    return result"
   ]
  },
  {
   "cell_type": "code",
   "execution_count": 4,
   "metadata": {},
   "outputs": [],
   "source": [
    "def removeStopWords(input, stop_words):\n",
    "    output = []\n",
    "    for w in input:\n",
    "        if w.lower() not in stop_words:\n",
    "            output.append(w)\n",
    "    return output"
   ]
  },
  {
   "cell_type": "code",
   "execution_count": 5,
   "metadata": {},
   "outputs": [],
   "source": [
    "def relativeFrequency(input):\n",
    "    input_frequency = Counter(input)\n",
    "    len_input = len(input)\n",
    "    for k, v in input_frequency.items():\n",
    "        input_frequency[k] = v/np.float32(len_input)\n",
    "    return input_frequency"
   ]
  },
  {
   "cell_type": "code",
   "execution_count": 6,
   "metadata": {},
   "outputs": [],
   "source": [
    "def jointFrequency(sentence, summ):\n",
    "    [summ.append(s) for s in sentence]\n",
    "    return relativeFrequency(summ)"
   ]
  },
  {
   "cell_type": "code",
   "execution_count": 7,
   "metadata": {},
   "outputs": [],
   "source": [
    "def get_summary_as_words(input, stop_words):\n",
    "    if len(input) == 0:\n",
    "        return input\n",
    "    clean_input_sentences_words = [removeStopWords(word_tokenize(i.translate(string.punctuation)), stop_words) for i in input] \n",
    "    input_flat = [ii for i in clean_input_sentences_words for ii in i]\n",
    "    return input_flat"
   ]
  },
  {
   "cell_type": "code",
   "execution_count": 8,
   "metadata": {},
   "outputs": [],
   "source": [
    "def klsum(document, L = 5):\n",
    "    \n",
    "    document_as_sentences = tokenizer.tokenize(document)\n",
    "    clean_input_words = removeStopWords(word_tokenize(document.translate(string.punctuation)), stop_words)\n",
    "    clean_input_sentences_words = [removeStopWords(word_tokenize(i.translate(string.punctuation)), stop_words) for i in document_as_sentences]\n",
    "    clean_input_word_frequency = relativeFrequency(clean_input_words)\n",
    "    \n",
    "    i = 0\n",
    "    summary = []\n",
    "    score = {}\n",
    "    while(i < L and len(document_as_sentences) > 0):\n",
    "        kl_list = []\n",
    "        clean_summary_words = get_summary_as_words(summary, stop_words)\n",
    "        for s in clean_input_sentences_words:\n",
    "            joint_frequency = jointFrequency(s, clean_summary_words[:])\n",
    "            kl_list.append(KL(clean_input_word_frequency, joint_frequency))\n",
    "        best = kl_list.index(min(kl_list))\n",
    "        summary.append(document_as_sentences[best])\n",
    "        del document_as_sentences[best]\n",
    "        del clean_input_sentences_words[best]\n",
    "        i += 1\n",
    "    return summary"
   ]
  },
  {
   "cell_type": "code",
   "execution_count": 9,
   "metadata": {},
   "outputs": [
    {
     "name": "stderr",
     "output_type": "stream",
     "text": [
      "C:\\Users\\Siddhesh Acharekar\\Anaconda3\\lib\\site-packages\\ipykernel_launcher.py:4: RuntimeWarning: divide by zero encountered in log\n",
      "  after removing the cwd from sys.path.\n",
      "C:\\Users\\Siddhesh Acharekar\\Anaconda3\\lib\\site-packages\\ipykernel_launcher.py:4: RuntimeWarning: invalid value encountered in double_scalars\n",
      "  after removing the cwd from sys.path.\n"
     ]
    },
    {
     "data": {
      "text/plain": [
       "['The U.S. media as a whole seem to try to\\nignore them.',\n",
       " 'What\\nI disagree with is your statement that the U.S. Media is out to\\nruin Israels reputation.',\n",
       " 'The U.S. media is\\nthe most pro-israeli media in the world.',\n",
       " 'That is rediculous.',\n",
       " \"Well i'm not sure about the story nad it did seem biased.\"]"
      ]
     },
     "execution_count": 9,
     "metadata": {},
     "output_type": "execute_result"
    }
   ],
   "source": [
    "# Test for one document\n",
    "klsum(documents[0])"
   ]
  },
  {
   "cell_type": "code",
   "execution_count": 10,
   "metadata": {},
   "outputs": [],
   "source": [
    "# Connect to Elastic search and add KL Summary\n",
    "es = Elasticsearch([{'host': '192.168.99.100', 'port': 9200}])"
   ]
  },
  {
   "cell_type": "code",
   "execution_count": 16,
   "metadata": {},
   "outputs": [
    {
     "name": "stderr",
     "output_type": "stream",
     "text": [
      "C:\\Users\\Siddhesh Acharekar\\Anaconda3\\lib\\site-packages\\ipykernel_launcher.py:4: RuntimeWarning: divide by zero encountered in log\n",
      "  after removing the cwd from sys.path.\n",
      "C:\\Users\\Siddhesh Acharekar\\Anaconda3\\lib\\site-packages\\ipykernel_launcher.py:4: RuntimeWarning: invalid value encountered in double_scalars\n",
      "  after removing the cwd from sys.path.\n"
     ]
    }
   ],
   "source": [
    "# Try getting data from the ES source and summarizing it\n",
    "true = es.get(index=\"ng_data\", doc_type='test', id=1)['_source']['doc_text']\n",
    "summ = klsum(true)"
   ]
  },
  {
   "cell_type": "code",
   "execution_count": 27,
   "metadata": {},
   "outputs": [
    {
     "data": {
      "text/plain": [
       "\"From: lerxst@wam.umd.edu (where's my thing)\\nSubject: WHAT car is this!?\\nNntp-Posting-Host: rac3.wam.umd.edu\\nOrganization: University of Maryland, College Park\\nLines: 15\\n\\n I was wondering if anyone out there could enlighten me on this car I saw\\nthe other day. It was a 2-door sports car, looked to be from the late 60s/\\nearly 70s. It was called a Bricklin. The doors were really small. In addition,\\nthe front bumper was separate from the rest of the body. This is \\nall I know. If anyone can tellme a model name, engine specs, years\\nof production, where this car is made, history, or whatever info you\\nhave on this funky looking car, please e-mail.\\n\\nThanks,\\n- IL\\n   ---- brought to you by your neighborhood Lerxst ----\""
      ]
     },
     "execution_count": 27,
     "metadata": {},
     "output_type": "execute_result"
    }
   ],
   "source": [
    "true"
   ]
  },
  {
   "cell_type": "code",
   "execution_count": 28,
   "metadata": {},
   "outputs": [
    {
     "data": {
      "text/plain": [
       "\"From: lerxst@wam.umd.edu (where's my thing)\\nSubject: WHAT car is this!? Nntp-Posting-Host: rac3.wam.umd.edu\\nOrganization: University of Maryland, College Park\\nLines: 15\\n\\n I was wondering if anyone out there could enlighten me on this car I saw\\nthe other day. It was a 2-door sports car, looked to be from the late 60s/\\nearly 70s. It was called a Bricklin. The doors were really small.\""
      ]
     },
     "execution_count": 28,
     "metadata": {},
     "output_type": "execute_result"
    }
   ],
   "source": [
    "summ"
   ]
  },
  {
   "cell_type": "markdown",
   "metadata": {},
   "source": [
    "#### Add KL Summaries for every 20NG document"
   ]
  },
  {
   "cell_type": "code",
   "execution_count": 31,
   "metadata": {},
   "outputs": [
    {
     "name": "stdout",
     "output_type": "stream",
     "text": [
      "Pushing KL Summaries for each 20NG document\n",
      "0 thousandth summary pushed.\n"
     ]
    },
    {
     "name": "stderr",
     "output_type": "stream",
     "text": [
      "C:\\Users\\Siddhesh Acharekar\\Anaconda3\\lib\\site-packages\\ipykernel_launcher.py:4: RuntimeWarning: divide by zero encountered in log\n",
      "  after removing the cwd from sys.path.\n",
      "C:\\Users\\Siddhesh Acharekar\\Anaconda3\\lib\\site-packages\\ipykernel_launcher.py:4: RuntimeWarning: invalid value encountered in double_scalars\n",
      "  after removing the cwd from sys.path.\n"
     ]
    },
    {
     "name": "stdout",
     "output_type": "stream",
     "text": [
      "1000 thousandth summary pushed.\n",
      "2000 thousandth summary pushed.\n",
      "3000 thousandth summary pushed.\n",
      "4000 thousandth summary pushed.\n",
      "5000 thousandth summary pushed.\n",
      "6000 thousandth summary pushed.\n",
      "7000 thousandth summary pushed.\n",
      "8000 thousandth summary pushed.\n",
      "9000 thousandth summary pushed.\n",
      "10000 thousandth summary pushed.\n",
      "11000 thousandth summary pushed.\n"
     ]
    }
   ],
   "source": [
    "print('Pushing KL Summaries for each 20NG document')\n",
    "\n",
    "for i in range(len(documents)):\n",
    "    id_i = i+1\n",
    "    true = es.get(index=\"ng_data\", doc_type='test', id=id_i)['_source']['doc_text']\n",
    "    summ = klsum(true)\n",
    "    summ = ' '.join(summ)\n",
    "    es.update(index='ng_data', doc_type='test', id=id_i,\\\n",
    "              body={'doc':{'KL_Summary':summ}})\n",
    "    if i%1000 == 0: print(i,'thousandth summary pushed.')"
   ]
  },
  {
   "cell_type": "markdown",
   "metadata": {},
   "source": [
    "#### Add KL Summaries for every DUC document"
   ]
  },
  {
   "cell_type": "code",
   "execution_count": 33,
   "metadata": {},
   "outputs": [
    {
     "name": "stdout",
     "output_type": "stream",
     "text": [
      "Pushing KL Summaries for each DUC document\n"
     ]
    },
    {
     "name": "stderr",
     "output_type": "stream",
     "text": [
      "C:\\Users\\Siddhesh Acharekar\\Anaconda3\\lib\\site-packages\\ipykernel_launcher.py:4: RuntimeWarning: divide by zero encountered in log\n",
      "  after removing the cwd from sys.path.\n",
      "C:\\Users\\Siddhesh Acharekar\\Anaconda3\\lib\\site-packages\\ipykernel_launcher.py:4: RuntimeWarning: invalid value encountered in double_scalars\n",
      "  after removing the cwd from sys.path.\n"
     ]
    },
    {
     "name": "stdout",
     "output_type": "stream",
     "text": [
      "0 hundredth summary pushed.\n",
      "100 hundredth summary pushed.\n",
      "200 hundredth summary pushed.\n",
      "300 hundredth summary pushed.\n"
     ]
    }
   ],
   "source": [
    "print('Pushing KL Summaries for each DUC document')\n",
    "\n",
    "for i in range(308):\n",
    "    id_i = i+1\n",
    "    true = es.get(index=\"duc_data\", doc_type='test', id=id_i)['_source']['doc_text']\n",
    "    summ = klsum(true)\n",
    "    summ = ' '.join(summ)\n",
    "    es.update(index='duc_data', doc_type='test', id=id_i,\\\n",
    "              body={'doc':{'KL_Summary':summ}})\n",
    "    if i%100 == 0: print(i,'hundredth summary pushed.')"
   ]
  },
  {
   "cell_type": "markdown",
   "metadata": {},
   "source": [
    "### LDA Summarization over document-topic distribution"
   ]
  },
  {
   "cell_type": "code",
   "execution_count": 42,
   "metadata": {},
   "outputs": [],
   "source": [
    "def ldasum(input, input_frequency, L = 5):\n",
    "    \n",
    "    def KL(p, q):\n",
    "        result = 0\n",
    "        for k, v in q.items():\n",
    "            if k in p:\n",
    "                result += p[k] * np.log(p[k]/np.float32(q[k]))\n",
    "        return result\n",
    "    \n",
    "    def removeStopWords(input, stop_words):\n",
    "        output = []\n",
    "        for w in input:\n",
    "            if w.lower() not in stop_words:\n",
    "                output.append(w)\n",
    "        return output\n",
    "    \n",
    "    def relativeFrequency(input):\n",
    "        input_frequency = Counter(input)\n",
    "        len_input = len(input)\n",
    "        for k, v in input_frequency.items():\n",
    "            input_frequency[k] = v/np.float32(len_input)\n",
    "        return input_frequency\n",
    "    \n",
    "    def jointFrequency(sentence, summ):\n",
    "        [summ.append(s) for s in sentence]\n",
    "        return relativeFrequency(summ)\n",
    "    \n",
    "    def get_summary_as_words(input, stop_words):\n",
    "        if len(input) == 0:\n",
    "            return input\n",
    "        clean_input_sentences_words = [removeStopWords(word_tokenize(i.translate(string.punctuation)), stop_words) for i in input] \n",
    "        input_flat = [ii for i in clean_input_sentences_words for ii in i]\n",
    "        return input_flat\n",
    "    \n",
    "    tokenizer = nltk.data.load('tokenizers/punkt/english.pickle')\n",
    "    stop_words = stopwords.words('english')\n",
    "    input_sentences = tokenizer.tokenize(input)\n",
    "    clean_input_words = removeStopWords(word_tokenize(input.translate(string.punctuation)), stop_words)\n",
    "    clean_input_sentences_words = [removeStopWords(word_tokenize(i.translate(string.punctuation)), stop_words) for i in input_sentences]\n",
    "    # -- difference between lda and kl\n",
    "    # clean_input_word_frequency = relativeFrequency(clean_input_words)\n",
    "    clean_input_word_frequency = input_frequency\n",
    "    \n",
    "    i = 0\n",
    "    summary = []\n",
    "    score = {}\n",
    "    while(i < L and len(input_sentences) > 0):\n",
    "        kl_list = []\n",
    "        clean_summary_words = get_summary_as_words(summary, stop_words)\n",
    "        for s in clean_input_sentences_words:\n",
    "            joint_frequency = jointFrequency(s, clean_summary_words[:])\n",
    "            kl_list.append(KL(clean_input_word_frequency, joint_frequency))\n",
    "        best = kl_list.index(min(kl_list))\n",
    "        summary.append(input_sentences[best])\n",
    "        del input_sentences[best]\n",
    "        del clean_input_sentences_words[best]\n",
    "        i += 1\n",
    "    return summary"
   ]
  },
  {
   "cell_type": "markdown",
   "metadata": {},
   "source": [
    "#### Create LDA dcoument-to-topic PDF matrix for 20NG"
   ]
  },
  {
   "cell_type": "code",
   "execution_count": 43,
   "metadata": {},
   "outputs": [],
   "source": [
    "tf_vectorizer_20ng = CountVectorizer(max_df=0.95, min_df=2, stop_words='english')\n",
    "tf_20ng = tf_vectorizer_20ng.fit_transform(documents)\n",
    "def run_lda(no_topics, tf):\n",
    "    # Run LDA\n",
    "    lda = LatentDirichletAllocation(n_components=no_topics, max_iter=5, learning_method='online', learning_offset=50.,random_state=0).fit(tf)\n",
    "    \n",
    "    return lda\n",
    "lda_20 = run_lda(20, tf_20ng)\n",
    "doc_topic_20ng = lda_20.transform(tf_20ng)"
   ]
  },
  {
   "cell_type": "code",
   "execution_count": 44,
   "metadata": {},
   "outputs": [
    {
     "name": "stderr",
     "output_type": "stream",
     "text": [
      "C:\\Users\\Siddhesh Acharekar\\Anaconda3\\lib\\site-packages\\ipykernel_launcher.py:6: FutureWarning: elementwise comparison failed; returning scalar instead, but in the future will perform elementwise comparison\n",
      "  \n"
     ]
    },
    {
     "data": {
      "text/plain": [
       "[\"Well i'm not sure about the story nad it did seem biased.\",\n",
       " 'What\\nI disagree with is your statement that the U.S. Media is out to\\nruin Israels reputation.',\n",
       " 'That is rediculous.',\n",
       " 'The U.S. media is\\nthe most pro-israeli media in the world.',\n",
       " 'Having lived in Europe\\nI realize that incidences such as the one described in the\\nletter have occured.']"
      ]
     },
     "execution_count": 44,
     "metadata": {},
     "output_type": "execute_result"
    }
   ],
   "source": [
    "ldasum(documents[0], doc_topic_20ng[0,:])"
   ]
  },
  {
   "cell_type": "markdown",
   "metadata": {},
   "source": [
    "#### Add LDA Summaries for every 20NG document"
   ]
  },
  {
   "cell_type": "code",
   "execution_count": 46,
   "metadata": {},
   "outputs": [
    {
     "name": "stdout",
     "output_type": "stream",
     "text": [
      "Pushing LDA Summaries for each 20NG document\n",
      "0 thousandth summary pushed.\n"
     ]
    },
    {
     "name": "stderr",
     "output_type": "stream",
     "text": [
      "C:\\Users\\Siddhesh Acharekar\\Anaconda3\\lib\\site-packages\\ipykernel_launcher.py:6: FutureWarning: elementwise comparison failed; returning scalar instead, but in the future will perform elementwise comparison\n",
      "  \n"
     ]
    },
    {
     "name": "stdout",
     "output_type": "stream",
     "text": [
      "1000 thousandth summary pushed.\n",
      "2000 thousandth summary pushed.\n",
      "3000 thousandth summary pushed.\n",
      "4000 thousandth summary pushed.\n",
      "5000 thousandth summary pushed.\n",
      "6000 thousandth summary pushed.\n",
      "7000 thousandth summary pushed.\n",
      "8000 thousandth summary pushed.\n",
      "9000 thousandth summary pushed.\n",
      "10000 thousandth summary pushed.\n",
      "11000 thousandth summary pushed.\n"
     ]
    }
   ],
   "source": [
    "print('Pushing LDA Summaries for each 20NG document')\n",
    "\n",
    "for i in range(len(documents)):\n",
    "    id_i = i+1\n",
    "    true = es.get(index=\"ng_data\", doc_type='test', id=id_i)['_source']['doc_text']\n",
    "    summ = ldasum(true, doc_topic_20ng[i, :])\n",
    "    summ = ' '.join(summ)\n",
    "    es.update(index='ng_data', doc_type='test', id=id_i,\\\n",
    "              body={'doc':{'LDA_Summary':summ}})\n",
    "    if i%1000 == 0: print(i,'thousandth summary pushed.')"
   ]
  },
  {
   "cell_type": "markdown",
   "metadata": {},
   "source": [
    "#### Create LDA dcoument-to-topic PDF matrix for DUC"
   ]
  },
  {
   "cell_type": "code",
   "execution_count": 50,
   "metadata": {},
   "outputs": [],
   "source": [
    "duc_doc = []\n",
    "for i in range(308):\n",
    "    duc_doc.append(es.get(index=\"duc_data\", doc_type='test', id=i+1)['_source']['doc_text'])\n",
    "\n",
    "tf_vectorizer_duc = CountVectorizer(max_df=0.95, min_df=2, stop_words='english')\n",
    "tf_duc = tf_vectorizer_duc.fit_transform(duc_doc)\n",
    "def run_lda(no_topics, tf):\n",
    "    # Run LDA\n",
    "    lda = LatentDirichletAllocation(n_components=no_topics, max_iter=5, learning_method='online', learning_offset=50.,random_state=0).fit(tf)\n",
    "    \n",
    "    return lda\n",
    "lda_duc = run_lda(20, tf_duc)\n",
    "doc_topic_duc = lda_duc.transform(tf_duc)"
   ]
  },
  {
   "cell_type": "markdown",
   "metadata": {},
   "source": [
    "#### Add LDA Summaries for every DUC document"
   ]
  },
  {
   "cell_type": "code",
   "execution_count": 53,
   "metadata": {},
   "outputs": [
    {
     "name": "stdout",
     "output_type": "stream",
     "text": [
      "Pushing LDA Summaries for each DUC document\n",
      "0 hundredth summary pushed.\n"
     ]
    },
    {
     "name": "stderr",
     "output_type": "stream",
     "text": [
      "C:\\Users\\Siddhesh Acharekar\\Anaconda3\\lib\\site-packages\\ipykernel_launcher.py:6: FutureWarning: elementwise comparison failed; returning scalar instead, but in the future will perform elementwise comparison\n",
      "  \n"
     ]
    },
    {
     "name": "stdout",
     "output_type": "stream",
     "text": [
      "100 hundredth summary pushed.\n",
      "200 hundredth summary pushed.\n",
      "300 hundredth summary pushed.\n"
     ]
    }
   ],
   "source": [
    "print('Pushing LDA Summaries for each DUC document')\n",
    "\n",
    "for i in range(308):\n",
    "    id_i = i+1\n",
    "    true = es.get(index=\"duc_data\", doc_type='test', id=id_i)['_source']['doc_text']\n",
    "    summ = ldasum(true, doc_topic_duc[i, :])\n",
    "    summ = ' '.join(summ)\n",
    "    es.update(index='duc_data', doc_type='test', id=id_i,\\\n",
    "              body={'doc':{'LDA_Summary':summ}})\n",
    "    if i%100 == 0: print(i,'hundredth summary pushed.')"
   ]
  },
  {
   "cell_type": "markdown",
   "metadata": {},
   "source": [
    "### Rouge evaluation"
   ]
  },
  {
   "cell_type": "code",
   "execution_count": 68,
   "metadata": {},
   "outputs": [],
   "source": [
    "hypothesis = \"foo\"\n",
    "reference = \"bar\""
   ]
  },
  {
   "cell_type": "code",
   "execution_count": 88,
   "metadata": {},
   "outputs": [],
   "source": [
    "cmnd = [\"rouge.exe\", hypothesis, reference]"
   ]
  },
  {
   "cell_type": "code",
   "execution_count": 89,
   "metadata": {},
   "outputs": [
    {
     "name": "stdout",
     "output_type": "stream",
     "text": [
      "Status : FAIL 1 \n"
     ]
    }
   ],
   "source": [
    "import subprocess\n",
    "try:\n",
    "    output = subprocess.check_output(\n",
    "        cmnd, stderr=subprocess.STDOUT, shell=True, timeout=3,\n",
    "        universal_newlines=True)\n",
    "except subprocess.CalledProcessError as exc:\n",
    "    print(\"Status : FAIL\", exc.returncode, exc.output)\n",
    "else:\n",
    "    print(\"Output: \\n{}\\n\".format(output))"
   ]
  },
  {
   "cell_type": "code",
   "execution_count": 93,
   "metadata": {
    "collapsed": true
   },
   "outputs": [
    {
     "data": {
      "text/plain": [
       "{'KL_Summary': 'One\\nletter writer who also knows something about the\\nConstitution, though disagreeing with me on another point,\\nagreed on the central issue, that regulation of gun ownership\\nand use does not violate the Constitution. Another letter writer thinks I have confused the issue by\\ncalling the duty to serve in the militia a right to serve,\\nbut if he will look at the debates in the First Congress he\\nwill see that there is no confusion at all, that the authors\\nof the Second Amendment were talking about the right to\\nserve. The real issue is that the Second Amendment addressed a\\nserious public concern, to protect the right of citizens to\\nserve as defenders of the community in times of peril, not\\nthe personal uses of guns. But my main point was to show how far Congress can go in\\ngun-control legislation without exceeding its constitutional\\npowers, using as a model the legislation of the Second\\nCongress, which included most of the authors of the Second\\nAmendment. In the same way, the right to own a gun is not disparaged\\nby being licensed or otherwise regulated and controlled.',\n",
       " 'LDA_Summary': '\\n   That same correspondent accused me of calling for \"removal\\nof all guns from American citizens through the implementation\\nof total regulations.\" I said nothing like that. I said that\\nalthough the Second Amendment has nothing to do with private\\nuses of arms, there is an unenumerated but undeniable right\\nto own a gun. We have many rights not enumerated in the Constitution,\\nsuch as the right to marry, drive a car or own a dog. These\\nrights are not denied just because the Constitution doesn\\'t\\nmention them; and the rights are not disparaged by the fact\\nthat we must obtain a marriage license, driver\\'s license or a\\ndog license.',\n",
       " 'doc_text': '\\n   That same correspondent accused me of calling for \"removal\\nof all guns from American citizens through the implementation\\nof total regulations.\" I said nothing like that. I said that\\nalthough the Second Amendment has nothing to do with private\\nuses of arms, there is an unenumerated but undeniable right\\nto own a gun.\\n   We have many rights not enumerated in the Constitution,\\nsuch as the right to marry, drive a car or own a dog. These\\nrights are not denied just because the Constitution doesn\\'t\\nmention them; and the rights are not disparaged by the fact\\nthat we must obtain a marriage license, driver\\'s license or a\\ndog license.\\n   In the same way, the right to own a gun is not disparaged\\nby being licensed or otherwise regulated and controlled. One\\nletter writer who also knows something about the\\nConstitution, though disagreeing with me on another point,\\nagreed on the central issue, that regulation of gun ownership\\nand use does not violate the Constitution.\\n   All the letters missed entirely my point about requiring\\ngun owners to \"sign up\" with (not \"join\") the National Guard.\\nI likened it to the current law requiring 18-year-old men to\\nregister with the Selective Service. Registering is very\\ndifferent from enlisting for active service. Requiring gun\\nowners to register with the National Guard would provide the\\nkind of scrutiny the Brady and Staggers bills contemplated,\\nand, if Congress dared, could provide an additional measure\\nof control over who owns what kinds of weapons.\\n   But my main point was to show how far Congress can go in\\ngun-control legislation without exceeding its constitutional\\npowers, using as a model the legislation of the Second\\nCongress, which included most of the authors of the Second\\nAmendment.\\n   Another letter writer thinks I have confused the issue by\\ncalling the duty to serve in the militia a right to serve,\\nbut if he will look at the debates in the First Congress he\\nwill see that there is no confusion at all, that the authors\\nof the Second Amendment were talking about the right to\\nserve. Consistent with all of the Bill of Rights, its subject\\nis rights, not duties. Elbridge Gerry opposed James Madison\\'s\\nclause exempting persons \"religiously scrupulous,\" because of\\nthe danger that it might be abused to discriminate against\\nmembers of certain sects, \"to declare who are those who are\\nreligiously scrupulous,\" and then keep them out of the\\nmilitia.\\n   The real issue is that the Second Amendment addressed a\\nserious public concern, to protect the right of citizens to\\nserve as defenders of the community in times of peril, not\\nthe personal uses of guns. And since the proliferation of\\nguns in the hands of criminals has become a national\\ncalamity, as police officials all over the nation attest, it\\nis essential that we recapture the true purpose of the Second\\nAmendment. Plain and simple, it is no barrier to sensible gun\\ncontrol.\\n   Robert A. Goldwin\\n   Resident Scholar\\n   American Enterprise Institute\\n   Washington\\n',\n",
       " 'doc_top5_prob': '0.9957013574434848 0.0002262443464136675 0.0002262443459009238 0.0002262443452807339 0.00022624434517193702',\n",
       " 'gold_summary': 'Abstract:\\nThe author of an article in the Wall Street Journal believes that opponents of gun control write passionately but do not read well. He forms this opinion from some \"Letters to the Editor\" he received in response to his article recommending sensible gun control. One letter writer accuses him of wanting to remove all guns from American citizens through total regulation. The author vigorously denies making any such statement. Other writers accuse him of distorting the Second Amendment on the \"..right to keep and bear arms\". The author simply maintains that the Amendment is not a barrier to gun control.\\nIntroduction:\\n\\nOpponents of any sort of gun control write passionately,\\nbut, judging from their letters (\"Smile When You Say Gun\\nControl,\" Jan. 14), they don\\'t read well.\\n\\nFor example, one letter writer, commenting on my Dec. 12\\nCounterpoint, \"Gun Control Is Constitutional,\" felt compelled\\nto instruct me that the word militia means \"the whole\\npeople,\" a point I quoted three times and also paraphrased\\nonce in my brief article. He and the others who dwelt on this\\npoint also don\\'t read the Second Amendment very well. The\\nsubject is not just the militia but \"a well-regulated\\nmilitia,\" people trained, disciplined and armed for defense\\nof the community under commanding officers.\\n\\nThat same correspondent accused me of calling for \"removal\\nof all guns from American citizens through the implementation\\nof total regulations.\" I said nothing like that. I said that\\nalthough the Second Amendment has nothing to do with private\\nuses of arms, there is an unenumerated but undeniable right\\nto own a gun.\\n\\nWe have many rights not enumerated in the Constitution,\\nsuch as the right to marry, drive a car or own a dog. These\\nrights are not denied just because the Constitution doesn\\'t\\nmention them; and the rights are not disparaged by the fact\\nthat we must obtain a marriage license, driver\\'s license or a\\ndog license.\\n\\nIn the same way, the right to own a gun is not disparaged\\nby being licensed or otherwise regulated and controlled. One\\nletter writer who also knows something about the\\nConstitution, though disagreeing with me on another point,\\nagreed on the central issue, that regulation of gun ownership\\nand use does not violate the Constitution.\\n\\nAll the letters missed entirely my point about requiring\\ngun owners to \"sign up\" with (not \"join\") the National Guard.\\nI likened it to the current law requiring 18-year-old men to\\nregister with the Selective Service. Registering is very\\ndifferent from enlisting for active service. Requiring gun\\nowners to register with the National Guard would provide the\\nkind of scrutiny the Brady and Staggers bills contemplated,\\nand, if Congress dared, could provide an additional measure\\nof control over who owns what kinds of weapons.\\n\\nBut my main point was to show how far Congress can go in\\ngun-control legislation without exceeding its constitutional\\npowers, using as a model the legislation of the Second\\nCongress, which included most of the authors of the Second\\nAmendment.\\n\\nAnother letter writer thinks I have confused the issue by\\ncalling the duty to serve in the militia a right to serve,\\nbut if he will look at the debates in the First Congress he\\nwill see that there is no confusion at all, that the authors\\nof the Second Amendment were talking about the right to\\nserve. Consistent with all of the Bill of Rights, its subject\\nis rights, not duties. Elbridge Gerry opposed James Madison\\'s\\nclause exempting persons \"religiously scrupulous,\" because of\\nthe danger that it might be abused to discriminate against\\nmembers of certain sects, \"to declare who are those who are\\nreligiously scrupulous,\" and then keep them out of the\\nmilitia.\\n\\nThe real issue is that the Second Amendment addressed a\\nserious public concern, to protect the right of citizens to\\nserve as defenders of the community in times of peril, not\\nthe personal uses of guns. And since the proliferation of\\nguns in the hands of criminals has become a national\\ncalamity, as police officials all over the nation attest, it\\nis essential that we recapture the true purpose of the Second\\nAmendment. Plain and simple, it is no barrier to sensible gun\\ncontrol.\\n\\nRobert A. Goldwin\\n\\nResident Scholar\\n\\nAmerican Enterprise Institute\\n\\nWashington\\n\\x1a',\n",
       " 'top5_doc_topics': '6 11 19 7 13'}"
      ]
     },
     "execution_count": 93,
     "metadata": {},
     "output_type": "execute_result"
    }
   ],
   "source": [
    "es.get(index=\"duc_data\", doc_type='test', id=id_i)['_source']"
   ]
  },
  {
   "cell_type": "code",
   "execution_count": 113,
   "metadata": {},
   "outputs": [
    {
     "name": "stdout",
     "output_type": "stream",
     "text": [
      "{'rouge-1': {'f': 0.1907356930974319, 'p': 1.0, 'r': 0.10542168674698796}, 'rouge-2': {'f': 0.12406947768671826, 'p': 0.9493670886075949, 'r': 0.06637168141592921}, 'rouge-l': {'f': 0.044467756263833494, 'p': 0.7160493827160493, 'r': 0.04430863254392666}}\n",
      "{'rouge-1': {'f': 0.7535211219837333, 'p': 0.9553571428571429, 'r': 0.622093023255814}, 'rouge-2': {'f': 0.6635513973163596, 'p': 0.9466666666666667, 'r': 0.5107913669064749}, 'rouge-l': {'f': 0.48189499239126865, 'p': 0.9683544303797469, 'r': 0.43714285714285717}}\n",
      "{'rouge-1': {'f': 0.36862744787574014, 'p': 0.9591836734693877, 'r': 0.22815533980582525}, 'rouge-2': {'f': 0.3055555528285699, 'p': 0.937984496124031, 'r': 0.18250377073906485}, 'rouge-l': {'f': 0.14393606017745403, 'p': 0.8161764705882353, 'r': 0.14050632911392405}}\n",
      "{'rouge-1': {'f': 0.5058823490209343, 'p': 0.945054945054945, 'r': 0.3453815261044177}, 'rouge-2': {'f': 0.3892100159495993, 'p': 0.926605504587156, 'r': 0.24634146341463414}, 'rouge-l': {'f': 0.2318585466562926, 'p': 0.954954954954955, 'r': 0.22268907563025211}}\n",
      "{'rouge-1': {'f': 0.3838862527071495, 'p': 0.9529411764705882, 'r': 0.2403560830860534}, 'rouge-2': {'f': 0.30171072823704986, 'p': 0.9326923076923077, 'r': 0.17996289424860853}, 'rouge-l': {'f': 0.17452716240644262, 'p': 0.963302752293578, 'r': 0.17017828200972449}}\n",
      "{'rouge-1': {'f': 0.47887323570783585, 'p': 0.9659090909090909, 'r': 0.31835205992509363}, 'rouge-2': {'f': 0.37757009025794397, 'p': 0.9439252336448598, 'r': 0.23598130841121495}, 'rouge-l': {'f': 0.21830752866295433, 'p': 0.9545454545454546, 'r': 0.21042084168336672}}\n",
      "{'rouge-1': {'f': 0.3188976350880402, 'p': 0.9878048780487805, 'r': 0.19014084507042253}, 'rouge-2': {'f': 0.2385786779681582, 'p': 0.9306930693069307, 'r': 0.13682678311499272}, 'rouge-l': {'f': 0.09994222693459016, 'p': 0.7596153846153846, 'r': 0.09850374064837905}}\n",
      "{'rouge-1': {'f': 0.38616714375337396, 'p': 0.9571428571428572, 'r': 0.24187725631768953}, 'rouge-2': {'f': 0.2930402904114506, 'p': 0.9411764705882353, 'r': 0.1735357917570499}, 'rouge-l': {'f': 0.1469764430282488, 'p': 0.9418604651162791, 'r': 0.14412811387900357}}\n",
      "{'rouge-1': {'f': 0.3794212187508401, 'p': 0.9833333333333333, 'r': 0.2350597609561753}, 'rouge-2': {'f': 0.2826552436445672, 'p': 0.9166666666666666, 'r': 0.1670886075949367}, 'rouge-l': {'f': 0.10067493762003017, 'p': 0.5945945945945946, 'r': 0.09843400447427293}}\n",
      "{'rouge-1': {'f': 0.43859648770698684, 'p': 0.9615384615384616, 'r': 0.2840909090909091}, 'rouge-2': {'f': 0.3244274779964018, 'p': 0.9139784946236559, 'r': 0.19721577726218098}, 'rouge-l': {'f': 0.11113651464609346, 'p': 0.5684210526315789, 'r': 0.108}}\n",
      "{'rouge-1': {'f': 0.403712293679513, 'p': 0.9666666666666667, 'r': 0.25513196480938416}, 'rouge-2': {'f': 0.33855799075520093, 'p': 0.9310344827586207, 'r': 0.20689655172413793}, 'rouge-l': {'f': 0.1306301087802306, 'p': 0.6386554621848739, 'r': 0.12666666666666668}}\n",
      "{'rouge-1': {'f': 0.32857142569943315, 'p': 0.9452054794520548, 'r': 0.1988472622478386}, 'rouge-2': {'f': 0.2555720629756099, 'p': 0.9148936170212766, 'r': 0.14853195164075994}, 'rouge-l': {'f': 0.10206320881925958, 'p': 0.696969696969697, 'r': 0.1002906976744186}}\n",
      "{'rouge-1': {'f': 0.4588528641886557, 'p': 0.9583333333333334, 'r': 0.3016393442622951}, 'rouge-2': {'f': 0.3559322002929618, 'p': 0.9292035398230089, 'r': 0.22012578616352202}, 'rouge-l': {'f': 0.13242925735312636, 'p': 0.5897435897435898, 'r': 0.12777777777777777}}\n",
      "{'rouge-1': {'f': 0.41176470252703284, 'p': 0.9655172413793104, 'r': 0.2616822429906542}, 'rouge-2': {'f': 0.32876712038979594, 'p': 0.935064935064935, 'r': 0.1994459833795014}, 'rouge-l': {'f': 0.13813892946844292, 'p': 0.7407407407407407, 'r': 0.13452914798206278}}\n",
      "{'rouge-1': {'f': 0.2668863237386993, 'p': 0.9310344827586207, 'r': 0.15576923076923077}, 'rouge-2': {'f': 0.1970649875752102, 'p': 0.9038461538461539, 'r': 0.11058823529411765}, 'rouge-l': {'f': 0.10466025526345489, 'p': 0.9444444444444444, 'r': 0.10355329949238579}}\n",
      "{'rouge-1': {'f': 0.3326885851829294, 'p': 0.9772727272727273, 'r': 0.20046620046620048}, 'rouge-2': {'f': 0.23745409812716017, 'p': 0.9238095238095239, 'r': 0.13623595505617977}, 'rouge-l': {'f': 0.07884245546549944, 'p': 0.6296296296296297, 'r': 0.07780320366132723}}\n",
      "{'rouge-1': {'f': 0.445497626765796, 'p': 0.9591836734693877, 'r': 0.29012345679012347}, 'rouge-2': {'f': 0.3655913947089318, 'p': 0.937007874015748, 'r': 0.22709923664122136}, 'rouge-l': {'f': 0.20403386993614744, 'p': 0.9615384615384616, 'r': 0.19747235387045814}}\n",
      "{'rouge-1': {'f': 0.3669250615064533, 'p': 0.9594594594594594, 'r': 0.2268370607028754}, 'rouge-2': {'f': 0.30956521467971276, 'p': 0.956989247311828, 'r': 0.18464730290456433}, 'rouge-l': {'f': 0.15909389178104913, 'p': 0.9583333333333334, 'r': 0.155668358714044}}\n",
      "{'rouge-1': {'f': 0.4060150342990308, 'p': 0.9759036144578314, 'r': 0.2563291139240506}, 'rouge-2': {'f': 0.310679608894335, 'p': 0.9411764705882353, 'r': 0.18604651162790697}, 'rouge-l': {'f': 0.095973031955416, 'p': 0.5384615384615384, 'r': 0.09364548494983277}}\n",
      "{'rouge-1': {'f': 0.1606837591488641, 'p': 0.9591836734693877, 'r': 0.08768656716417911}, 'rouge-2': {'f': 0.09745762607763574, 'p': 0.8846153846153846, 'r': 0.0515695067264574}, 'rouge-l': {'f': 0.03691480998000007, 'p': 0.7358490566037735, 'r': 0.036827195467422094}}\n",
      "{'rouge-1': {'f': 0.342424239487787, 'p': 0.9576271186440678, 'r': 0.20848708487084872}, 'rouge-2': {'f': 0.22262118281649582, 'p': 0.9323308270676691, 'r': 0.12640163098878696}, 'rouge-l': {'f': 0.11301515441782033, 'p': 0.9626865671641791, 'r': 0.11168831168831168}}\n",
      "{'rouge-1': {'f': 0.6492537268581533, 'p': 0.9560439560439561, 'r': 0.4915254237288136}, 'rouge-2': {'f': 0.5478036134364256, 'p': 0.9380530973451328, 'r': 0.38686131386861317}, 'rouge-l': {'f': 0.3730355380255762, 'p': 0.9576271186440678, 'r': 0.345565749235474}}\n",
      "{'rouge-1': {'f': 0.060453399823360336, 'p': 0.8571428571428571, 'r': 0.031331592689295036}, 'rouge-2': {'f': 0.03603603562445328, 'p': 0.8571428571428571, 'r': 0.018404907975460124}, 'rouge-l': {'f': 0.017225204459628447, 'p': 0.8666666666666667, 'r': 0.017218543046357615}}\n",
      "{'rouge-1': {'f': 0.5399239502956528, 'p': 0.9466666666666667, 'r': 0.3776595744680851}, 'rouge-2': {'f': 0.46153845782183794, 'p': 0.9354838709677419, 'r': 0.30633802816901406}, 'rouge-l': {'f': 0.29579894115608524, 'p': 0.9595959595959596, 'r': 0.27941176470588236}}\n",
      "{'rouge-1': {'f': 0.40208876957154255, 'p': 0.9746835443037974, 'r': 0.2532894736842105}, 'rouge-2': {'f': 0.3404255289834754, 'p': 0.9541284403669725, 'r': 0.20717131474103587}, 'rouge-l': {'f': 0.1139952836614558, 'p': 0.6, 'r': 0.11092436974789915}}\n",
      "{'rouge-1': {'f': 0.29916897252507274, 'p': 1.0, 'r': 0.1758957654723127}, 'rouge-2': {'f': 0.21052631376418393, 'p': 0.9206349206349206, 'r': 0.11885245901639344}, 'rouge-l': {'f': 0.10795245289581504, 'p': 0.921875, 'r': 0.10669077757685352}}\n",
      "{'rouge-1': {'f': 0.3981693331407716, 'p': 0.9775280898876404, 'r': 0.25}, 'rouge-2': {'f': 0.3084112122382353, 'p': 0.9519230769230769, 'r': 0.18401486988847585}, 'rouge-l': {'f': 0.14153576653580932, 'p': 0.8095238095238095, 'r': 0.13821138211382114}}\n",
      "{'rouge-1': {'f': 0.4042553158297024, 'p': 0.9620253164556962, 'r': 0.2558922558922559}, 'rouge-2': {'f': 0.3259005117376556, 'p': 0.95, 'r': 0.19668737060041408}, 'rouge-l': {'f': 0.17905081079032198, 'p': 0.9607843137254902, 'r': 0.17437722419928825}}\n",
      "{'rouge-1': {'f': 0.2921348288715062, 'p': 0.9558823529411765, 'r': 0.1724137931034483}, 'rouge-2': {'f': 0.20895522189240368, 'p': 0.9333333333333333, 'r': 0.11764705882352941}, 'rouge-l': {'f': 0.11036450556806178, 'p': 0.9605263157894737, 'r': 0.10911808669656203}}\n",
      "{'rouge-1': {'f': 0.5454545414653877, 'p': 0.9910714285714286, 'r': 0.376271186440678}, 'rouge-2': {'f': 0.45551601062188934, 'p': 0.9624060150375939, 'r': 0.29836829836829837}, 'rouge-l': {'f': 0.18337042901412187, 'p': 0.6492537313432836, 'r': 0.1743486973947896}}\n",
      "{'rouge-1': {'f': 0.2956521713630435, 'p': 0.9855072463768116, 'r': 0.17391304347826086}, 'rouge-2': {'f': 0.22562673881731987, 'p': 0.9310344827586207, 'r': 0.12836767036450078}, 'rouge-l': {'f': 0.08373151895547959, 'p': 0.6704545454545454, 'r': 0.08263305322128851}}\n"
     ]
    },
    {
     "name": "stdout",
     "output_type": "stream",
     "text": [
      "{'rouge-1': {'f': 0.33027522650923746, 'p': 0.96, 'r': 0.1994459833795014}, 'rouge-2': {'f': 0.2384500722587237, 'p': 0.9195402298850575, 'r': 0.136986301369863}, 'rouge-l': {'f': 0.09039587254895673, 'p': 0.6404494382022472, 'r': 0.08892355694227769}}\n",
      "{'rouge-1': {'f': 0.02173913021975426, 'p': 0.01098901098901099, 'r': 1.0}, 'rouge-2': {'f': 0.0, 'p': 0.0, 'r': 0.0}, 'rouge-l': {'f': 0.00862132478951945, 'p': 0.008620689655172414, 'r': 1.0}}\n",
      "{'rouge-1': {'f': 0.3090909064152893, 'p': 0.9714285714285714, 'r': 0.1837837837837838}, 'rouge-2': {'f': 0.20783132327406015, 'p': 0.9078947368421053, 'r': 0.11734693877551021}, 'rouge-l': {'f': 0.07410094775475212, 'p': 0.6363636363636364, 'r': 0.07324364723467862}}\n",
      "{'rouge-1': {'f': 0.3462686538143907, 'p': 0.9830508474576272, 'r': 0.21014492753623187}, 'rouge-2': {'f': 0.23941067915373634, 'p': 0.9285714285714286, 'r': 0.13742071881606766}, 'rouge-l': {'f': 0.09589786221985412, 'p': 0.7162162162162162, 'r': 0.0944741532976827}}\n",
      "{'rouge-1': {'f': 0.26788432031442216, 'p': 0.9777777777777777, 'r': 0.15520282186948853}, 'rouge-2': {'f': 0.19726562312852863, 'p': 0.9439252336448598, 'r': 0.11014176663031625}, 'rouge-l': {'f': 0.07353147839111941, 'p': 0.6846846846846847, 'r': 0.07279693486590039}}\n",
      "{'rouge-1': {'f': 0.34108526835459946, 'p': 0.9428571428571428, 'r': 0.2082018927444795}, 'rouge-2': {'f': 0.25684931263000793, 'p': 0.9036144578313253, 'r': 0.1497005988023952}, 'rouge-l': {'f': 0.10624351924347036, 'p': 0.7142857142857143, 'r': 0.10434782608695652}}\n",
      "{'rouge-1': {'f': 0.570605183145446, 'p': 0.9611650485436893, 'r': 0.4057377049180328}, 'rouge-2': {'f': 0.46327683242235634, 'p': 0.9318181818181818, 'r': 0.3082706766917293}, 'rouge-l': {'f': 0.2943032464411316, 'p': 0.9555555555555556, 'r': 0.27801724137931033}}\n",
      "{'rouge-1': {'f': 0.3691148745322935, 'p': 0.98, 'r': 0.2273781902552204}, 'rouge-2': {'f': 0.27327690199304316, 'p': 0.9416666666666667, 'r': 0.15983026874115983}, 'rouge-l': {'f': 0.12553827829440597, 'p': 0.7777777777777778, 'r': 0.12296110414052698}}\n",
      "{'rouge-1': {'f': 0.4292237408185819, 'p': 0.9591836734693877, 'r': 0.27647058823529413}, 'rouge-2': {'f': 0.35045316917986336, 'p': 0.943089430894309, 'r': 0.21521335807050093}, 'rouge-l': {'f': 0.2077553809717715, 'p': 0.9689922480620154, 'r': 0.20096463022508038}}\n",
      "{'rouge-1': {'f': 0.5562499959570313, 'p': 0.9888888888888889, 'r': 0.3869565217391304}, 'rouge-2': {'f': 0.45714285350762185, 'p': 0.9572649572649573, 'r': 0.3002680965147453}, 'rouge-l': {'f': 0.15775265650573883, 'p': 0.5882352941176471, 'r': 0.15053763440860216}}\n",
      "{'rouge-1': {'f': 0.4444444409249925, 'p': 0.975, 'r': 0.2878228782287823}, 'rouge-2': {'f': 0.3483146037447573, 'p': 0.9489795918367347, 'r': 0.21330275229357798}, 'rouge-l': {'f': 0.11937093293517222, 'p': 0.6435643564356436, 'r': 0.11627906976744186}}\n",
      "{'rouge-1': {'f': 0.14988290251556255, 'p': 0.9411764705882353, 'r': 0.08142493638676845}, 'rouge-2': {'f': 0.10264385589129495, 'p': 0.9428571428571428, 'r': 0.054276315789473686}, 'rouge-l': {'f': 0.049984929768794005, 'p': 0.9444444444444444, 'r': 0.04985337243401759}}\n",
      "{'rouge-1': {'f': 0.5042016767993962, 'p': 0.96, 'r': 0.3418803418803419}, 'rouge-2': {'f': 0.4236311204341868, 'p': 0.9423076923076923, 'r': 0.2732342007434944}, 'rouge-l': {'f': 0.2662654576586741, 'p': 0.968944099378882, 'r': 0.25365853658536586}}\n",
      "{'rouge-1': {'f': 0.3989501279773493, 'p': 0.9743589743589743, 'r': 0.2508250825082508}, 'rouge-2': {'f': 0.3030303003203755, 'p': 0.9375, 'r': 0.18072289156626506}, 'rouge-l': {'f': 0.11377849358960444, 'p': 0.6804123711340206, 'r': 0.11129848229342328}}\n",
      "{'rouge-1': {'f': 0.2228047161367232, 'p': 0.9444444444444444, 'r': 0.1263001485884101}, 'rouge-2': {'f': 0.17133163530241197, 'p': 0.926605504587156, 'r': 0.09439252336448598}, 'rouge-l': {'f': 0.09041638287387971, 'p': 0.9557522123893806, 'r': 0.08970099667774087}}\n",
      "{'rouge-1': {'f': 0.3356401355241796, 'p': 0.9603960396039604, 'r': 0.20335429769392033}, 'rouge-2': {'f': 0.267108165359877, 'p': 0.952755905511811, 'r': 0.15532734274711169}, 'rouge-l': {'f': 0.14215072592955671, 'p': 0.9612403100775194, 'r': 0.13963963963963963}}\n",
      "{'rouge-1': {'f': 0.21068702096782244, 'p': 0.971830985915493, 'r': 0.11815068493150685}, 'rouge-2': {'f': 0.1440758279502078, 'p': 0.926829268292683, 'r': 0.07810894141829394}, 'rouge-l': {'f': 0.05311509915915842, 'p': 0.6867469879518072, 'r': 0.05282669138090825}}\n",
      "{'rouge-1': {'f': 0.20415878824732617, 'p': 0.9473684210526315, 'r': 0.11440677966101695}, 'rouge-2': {'f': 0.14617169224325882, 'p': 0.9, 'r': 0.07954545454545454}, 'rouge-l': {'f': 0.05154511559482713, 'p': 0.6527777777777778, 'r': 0.05125408942202835}}\n",
      "{'rouge-1': {'f': 0.6126126082298515, 'p': 0.9444444444444444, 'r': 0.4533333333333333}, 'rouge-2': {'f': 0.5333333292469051, 'p': 0.9315068493150684, 'r': 0.37362637362637363}, 'rouge-l': {'f': 0.33251669927182337, 'p': 0.9602649006622517, 'r': 0.3111587982832618}}\n",
      "{'rouge-1': {'f': 0.3405940565281051, 'p': 0.9772727272727273, 'r': 0.20623501199040767}, 'rouge-2': {'f': 0.25162126874263385, 'p': 0.9326923076923077, 'r': 0.1454272863568216}, 'rouge-l': {'f': 0.11778332167062665, 'p': 0.839622641509434, 'r': 0.11588541666666667}}\n",
      "{'rouge-1': {'f': 0.38073394175963726, 'p': 0.9540229885057471, 'r': 0.23782234957020057}, 'rouge-2': {'f': 0.30344827315534845, 'p': 0.9401709401709402, 'r': 0.18092105263157895}, 'rouge-l': {'f': 0.16972917778658778, 'p': 0.9666666666666667, 'r': 0.1657142857142857}}\n",
      "{'rouge-1': {'f': 0.5779036784726626, 'p': 0.9444444444444444, 'r': 0.4163265306122449}, 'rouge-2': {'f': 0.47513811773782516, 'p': 0.9280575539568345, 'r': 0.3193069306930693}, 'rouge-l': {'f': 0.3068368046095221, 'p': 0.9586206896551724, 'r': 0.288981288981289}}\n",
      "{'rouge-1': {'f': 0.4791666629166667, 'p': 0.9583333333333334, 'r': 0.3194444444444444}, 'rouge-2': {'f': 0.3886524789688246, 'p': 0.9319727891156463, 'r': 0.24551971326164876}, 'rouge-l': {'f': 0.14161254452417138, 'p': 0.5986842105263158, 'r': 0.13622754491017963}}\n",
      "{'rouge-1': {'f': 0.2993827134821293, 'p': 0.9897959183673469, 'r': 0.17636363636363636}, 'rouge-2': {'f': 0.21237303587292578, 'p': 0.9504132231404959, 'r': 0.11954261954261955}, 'rouge-l': {'f': 0.08561629266452449, 'p': 0.7459016393442623, 'r': 0.08465116279069768}}\n",
      "{'rouge-1': {'f': 0.2731411204676235, 'p': 0.9574468085106383, 'r': 0.1592920353982301}, 'rouge-2': {'f': 0.20656370459006648, 'p': 0.9304347826086956, 'r': 0.11617806731813246}, 'rouge-l': {'f': 0.11118223906198245, 'p': 0.9568965517241379, 'r': 0.1099009900990099}}\n",
      "{'rouge-1': {'f': 0.4533333297555557, 'p': 0.9714285714285714, 'r': 0.2956521739130435}, 'rouge-2': {'f': 0.358974355841643, 'p': 0.9230769230769231, 'r': 0.22281167108753316}, 'rouge-l': {'f': 0.14084668831696248, 'p': 0.6326530612244898, 'r': 0.13596491228070176}}\n",
      "{'rouge-1': {'f': 0.2815356464714631, 'p': 0.9506172839506173, 'r': 0.16523605150214593}, 'rouge-2': {'f': 0.22195985624100065, 'p': 0.94, 'r': 0.12583668005354753}, 'rouge-l': {'f': 0.1182557282187366, 'p': 0.9611650485436893, 'r': 0.11674528301886793}}\n",
      "{'rouge-1': {'f': 0.38664323053919414, 'p': 0.9649122807017544, 'r': 0.24175824175824176}, 'rouge-2': {'f': 0.311403506008796, 'p': 0.9403973509933775, 'r': 0.18659658344283836}, 'rouge-l': {'f': 0.15287256008737463, 'p': 0.8397435897435898, 'r': 0.149032992036405}}\n",
      "{'rouge-1': {'f': 0.24357239292838034, 'p': 0.967741935483871, 'r': 0.1393188854489164}, 'rouge-2': {'f': 0.18589743413343404, 'p': 0.9508196721311475, 'r': 0.10301953818827708}, 'rouge-l': {'f': 0.09488238333337333, 'p': 0.96875, 'r': 0.09408194233687406}}\n",
      "{'rouge-1': {'f': 0.73359072888657, 'p': 0.9693877551020408, 'r': 0.5900621118012422}, 'rouge-2': {'f': 0.6723646677952291, 'p': 0.9516129032258065, 'r': 0.5198237885462555}, 'rouge-l': {'f': 0.4473586241659159, 'p': 0.9606299212598425, 'r': 0.4080267558528428}}\n",
      "{'rouge-1': {'f': 0.28571428314527514, 'p': 0.9438202247191011, 'r': 0.1683366733466934}, 'rouge-2': {'f': 0.21325051556427865, 'p': 0.9279279279279279, 'r': 0.12046783625730995}, 'rouge-l': {'f': 0.11648567424299242, 'p': 0.9568965517241379, 'r': 0.11502590673575129}}\n",
      "{'rouge-1': {'f': 0.3977695134535869, 'p': 0.963963963963964, 'r': 0.2505854800936768}, 'rouge-2': {'f': 0.3085983482628354, 'p': 0.9424460431654677, 'r': 0.18450704225352113}, 'rouge-l': {'f': 0.16755143502283534, 'p': 0.9645390070921985, 'r': 0.16365824308062576}}\n"
     ]
    },
    {
     "name": "stdout",
     "output_type": "stream",
     "text": [
      "{'rouge-1': {'f': 0.21192052785469936, 'p': 0.9696969696969697, 'r': 0.11895910780669144}, 'rouge-2': {'f': 0.1371308003020572, 'p': 0.9154929577464789, 'r': 0.07411630558722919}, 'rouge-l': {'f': 0.05361720917880675, 'p': 0.7397260273972602, 'r': 0.0533596837944664}}\n",
      "{'rouge-1': {'f': 0.5449438161362202, 'p': 0.9509803921568627, 'r': 0.38188976377952755}, 'rouge-2': {'f': 0.4682395606919609, 'p': 0.9416058394160584, 'r': 0.3115942028985507}, 'rouge-l': {'f': 0.32831508046695845, 'p': 0.9655172413793104, 'r': 0.3076923076923077}}\n",
      "{'rouge-1': {'f': 0.36904761598836294, 'p': 0.9789473684210527, 'r': 0.2273838630806846}, 'rouge-2': {'f': 0.280052837693391, 'p': 0.9724770642201835, 'r': 0.16358024691358025}, 'rouge-l': {'f': 0.14876012806813005, 'p': 0.9727272727272728, 'r': 0.14597544338335608}}\n",
      "{'rouge-1': {'f': 0.4421052596849031, 'p': 0.9882352941176471, 'r': 0.2847457627118644}, 'rouge-2': {'f': 0.36297640347113486, 'p': 0.9615384615384616, 'r': 0.22371364653243847}, 'rouge-l': {'f': 0.2056351164410016, 'p': 0.9906542056074766, 'r': 0.19924812030075187}}\n",
      "{'rouge-1': {'f': 0.27436822855028736, 'p': 0.9382716049382716, 'r': 0.160676532769556}, 'rouge-2': {'f': 0.21653084775030124, 'p': 0.9207920792079208, 'r': 0.12269129287598944}, 'rouge-l': {'f': 0.10867021257236865, 'p': 0.9514563106796117, 'r': 0.1074561403508772}}\n",
      "{'rouge-1': {'f': 0.30528375464416885, 'p': 0.9512195121951219, 'r': 0.18181818181818182}, 'rouge-2': {'f': 0.23949044359881538, 'p': 0.9215686274509803, 'r': 0.1376281112737921}, 'rouge-l': {'f': 0.12492060737153152, 'p': 0.941747572815534, 'r': 0.12309644670050761}}\n",
      "{'rouge-1': {'f': 0.23892099973567077, 'p': 0.9538461538461539, 'r': 0.13656387665198239}, 'rouge-2': {'f': 0.16132858677332976, 'p': 0.918918918918919, 'r': 0.08842652795838751}, 'rouge-l': {'f': 0.056654056345541624, 'p': 0.6710526315789473, 'r': 0.056291390728476824}}\n",
      "{'rouge-1': {'f': 0.5526315748063106, 'p': 0.9438202247191011, 'r': 0.39069767441860465}, 'rouge-2': {'f': 0.47511311832220887, 'p': 0.9130434782608695, 'r': 0.3211009174311927}, 'rouge-l': {'f': 0.3209814178004074, 'p': 0.9516129032258065, 'r': 0.3010204081632653}}\n",
      "{'rouge-1': {'f': 0.5612903184599376, 'p': 0.9666666666666667, 'r': 0.39545454545454545}, 'rouge-2': {'f': 0.47855530098476934, 'p': 0.954954954954955, 'r': 0.3192771084337349}, 'rouge-l': {'f': 0.275687253055361, 'p': 0.9649122807017544, 'r': 0.2619047619047619}}\n",
      "{'rouge-1': {'f': 0.43119265711640437, 'p': 0.9791666666666666, 'r': 0.27647058823529413}, 'rouge-2': {'f': 0.3328335803155394, 'p': 0.9487179487179487, 'r': 0.2018181818181818}, 'rouge-l': {'f': 0.1327092121666343, 'p': 0.680672268907563, 'r': 0.12898089171974522}}\n",
      "{'rouge-1': {'f': 0.42890442543042046, 'p': 0.9583333333333334, 'r': 0.27627627627627627}, 'rouge-2': {'f': 0.3595839493529449, 'p': 0.937984496124031, 'r': 0.22242647058823528}, 'rouge-l': {'f': 0.2037755838068748, 'p': 0.9626865671641791, 'r': 0.19724770642201836}}\n",
      "{'rouge-1': {'f': 0.299638986497413, 'p': 0.9431818181818182, 'r': 0.1781115879828326}, 'rouge-2': {'f': 0.2522522498960295, 'p': 0.9245283018867925, 'r': 0.14605067064083457}, 'rouge-l': {'f': 0.13538850443998332, 'p': 0.9532710280373832, 'r': 0.13315926892950392}}\n",
      "{'rouge-1': {'f': 0.2696245709228995, 'p': 0.9404761904761905, 'r': 0.15737051792828685}, 'rouge-2': {'f': 0.19957081351813905, 'p': 0.9207920792079208, 'r': 0.11191335740072202}, 'rouge-l': {'f': 0.10368141031722919, 'p': 0.9514563106796117, 'r': 0.10261780104712041}}\n",
      "{'rouge-1': {'f': 0.4547677225174408, 'p': 0.9489795918367347, 'r': 0.2990353697749196}, 'rouge-2': {'f': 0.3616352169866699, 'p': 0.9274193548387096, 'r': 0.224609375}, 'rouge-l': {'f': 0.21161867514881902, 'p': 0.9534883720930233, 'r': 0.20431893687707642}}\n",
      "{'rouge-1': {'f': 0.4129930360325365, 'p': 0.9468085106382979, 'r': 0.26409495548961426}, 'rouge-2': {'f': 0.34700315154454725, 'p': 0.9322033898305084, 'r': 0.2131782945736434}, 'rouge-l': {'f': 0.19434084360480886, 'p': 0.9583333333333334, 'r': 0.1885245901639344}}\n",
      "{'rouge-1': {'f': 0.3569230739124261, 'p': 0.9666666666666667, 'r': 0.2188679245283019}, 'rouge-2': {'f': 0.283298094670606, 'p': 0.9305555555555556, 'r': 0.16708229426433915}, 'rouge-l': {'f': 0.12647006985336504, 'p': 0.7972972972972973, 'r': 0.12394957983193278}}\n",
      "{'rouge-1': {'f': 0.4148606777904515, 'p': 0.9852941176470589, 'r': 0.2627450980392157}, 'rouge-2': {'f': 0.30857142580636737, 'p': 0.9310344827586207, 'r': 0.18493150684931506}, 'rouge-l': {'f': 0.1345266124272746, 'p': 0.711340206185567, 'r': 0.13092979127134724}}\n",
      "{'rouge-1': {'f': 0.46735394816594045, 'p': 0.9444444444444444, 'r': 0.3105022831050228}, 'rouge-2': {'f': 0.3679245250962309, 'p': 0.9176470588235294, 'r': 0.23008849557522124}, 'rouge-l': {'f': 0.21009408824132875, 'p': 0.9540229885057471, 'r': 0.20293398533007334}}\n",
      "{'rouge-1': {'f': 0.2661396550790601, 'p': 0.9711538461538461, 'r': 0.15419847328244274}, 'rouge-2': {'f': 0.20333333141445836, 'p': 0.9457364341085271, 'r': 0.11391223155929038}, 'rouge-l': {'f': 0.08758747430673715, 'p': 0.7777777777777778, 'r': 0.08663366336633663}}\n",
      "{'rouge-1': {'f': 0.07407407336076818, 'p': 0.038461538461538464, 'r': 1.0}, 'rouge-2': {'f': 0.0, 'p': 0.0, 'r': 0.0}, 'rouge-l': {'f': 0.03452234522341763, 'p': 0.034482758620689655, 'r': 1.0}}\n",
      "{'rouge-1': {'f': 0.42739725679024215, 'p': 0.9512195121951219, 'r': 0.2756183745583039}, 'rouge-2': {'f': 0.3508771899328409, 'p': 0.9345794392523364, 'r': 0.2159827213822894}, 'rouge-l': {'f': 0.2055380961038349, 'p': 0.9636363636363636, 'r': 0.19887429643527205}}\n",
      "{'rouge-1': {'f': 0.08943089340541711, 'p': 0.9428571428571428, 'r': 0.04694167852062589}, 'rouge-2': {'f': 0.06270626997338223, 'p': 0.926829268292683, 'r': 0.032450896669513236}, 'rouge-l': {'f': 0.023334037055648973, 'p': 0.7142857142857143, 'r': 0.023310023310023312}}\n",
      "{'rouge-1': {'f': 0.11764705769158648, 'p': 0.9767441860465116, 'r': 0.06259314456035768}, 'rouge-2': {'f': 0.08389261663057128, 'p': 0.9803921568627451, 'r': 0.04382120946538125}, 'rouge-l': {'f': 0.038941244540005686, 'p': 0.9615384615384616, 'r': 0.038880248833592534}}\n",
      "{'rouge-1': {'f': 0.32443531544746573, 'p': 0.9518072289156626, 'r': 0.19554455445544555}, 'rouge-2': {'f': 0.23622047018011036, 'p': 0.9090909090909091, 'r': 0.13574660633484162}, 'rouge-l': {'f': 0.12504996469840382, 'p': 0.9405940594059405, 'r': 0.12321660181582361}}\n",
      "{'rouge-1': {'f': 0.401028274278124, 'p': 0.9397590361445783, 'r': 0.2549019607843137}, 'rouge-2': {'f': 0.33707864869535653, 'p': 0.9210526315789473, 'r': 0.206286836935167}, 'rouge-l': {'f': 0.19824464636771494, 'p': 0.9572649572649573, 'r': 0.19210977701543738}}\n",
      "{'rouge-1': {'f': 0.3561643805643085, 'p': 0.9701492537313433, 'r': 0.2181208053691275}, 'rouge-2': {'f': 0.2541436440279601, 'p': 0.92, 'r': 0.14743589743589744}, 'rouge-l': {'f': 0.09942100950654066, 'p': 0.7105263157894737, 'r': 0.09782608695652174}}\n",
      "{'rouge-1': {'f': 0.3139534856856747, 'p': 0.9818181818181818, 'r': 0.18685121107266436}, 'rouge-2': {'f': 0.24953095456635074, 'p': 0.95, 'r': 0.14362850971922247}, 'rouge-l': {'f': 0.0961694823374215, 'p': 0.6923076923076923, 'r': 0.09464627151051626}}\n",
      "{'rouge-1': {'f': 0.5614035046583564, 'p': 0.9696969696969697, 'r': 0.3950617283950617}, 'rouge-2': {'f': 0.45186640107039894, 'p': 0.9426229508196722, 'r': 0.2971576227390181}, 'rouge-l': {'f': 0.2939142625696144, 'p': 0.96, 'r': 0.2777777777777778}}\n",
      "{'rouge-1': {'f': 0.19235836449041024, 'p': 0.9733333333333334, 'r': 0.1067251461988304}, 'rouge-2': {'f': 0.14236706548530553, 'p': 0.9325842696629213, 'r': 0.07706592386258125}, 'rouge-l': {'f': 0.04599058014848, 'p': 0.6086956521739131, 'r': 0.0457516339869281}}\n",
      "{'rouge-1': {'f': 0.2926829242735806, 'p': 0.972972972972973, 'r': 0.1722488038277512}, 'rouge-2': {'f': 0.20259740069434984, 'p': 0.9512195121951219, 'r': 0.11337209302325581}, 'rouge-l': {'f': 0.10137877470578142, 'p': 0.9518072289156626, 'r': 0.10038119440914867}}\n",
      "{'rouge-1': {'f': 0.07734806545343549, 'p': 0.875, 'r': 0.04046242774566474}, 'rouge-2': {'f': 0.050909090344198354, 'p': 0.875, 'r': 0.026217228464419477}, 'rouge-l': {'f': 0.02489483544599072, 'p': 0.8823529411764706, 'r': 0.024875621890547265}}\n",
      "{'rouge-1': {'f': 0.09538461442078107, 'p': 0.9393939393939394, 'r': 0.050243111831442464}, 'rouge-2': {'f': 0.05970149192310371, 'p': 0.9411764705882353, 'r': 0.030828516377649325}, 'rouge-l': {'f': 0.028253802489309792, 'p': 0.9428571428571428, 'r': 0.028229255774165955}}\n"
     ]
    },
    {
     "name": "stdout",
     "output_type": "stream",
     "text": [
      "{'rouge-1': {'f': 0.49411764318462137, 'p': 0.9402985074626866, 'r': 0.3351063829787234}, 'rouge-2': {'f': 0.36974789590628415, 'p': 0.9041095890410958, 'r': 0.2323943661971831}, 'rouge-l': {'f': 0.2054156067430515, 'p': 0.918918918918919, 'r': 0.19825072886297376}}\n",
      "{'rouge-1': {'f': 0.41916167323084375, 'p': 0.958904109589041, 'r': 0.2681992337164751}, 'rouge-2': {'f': 0.32926828982459194, 'p': 0.9529411764705882, 'r': 0.19901719901719903}, 'rouge-l': {'f': 0.16905421089577574, 'p': 0.9534883720930233, 'r': 0.16498993963782696}}\n",
      "{'rouge-1': {'f': 0.649999995528125, 'p': 0.9629629629629629, 'r': 0.49056603773584906}, 'rouge-2': {'f': 0.5527426118886752, 'p': 0.9424460431654677, 'r': 0.39104477611940297}, 'rouge-l': {'f': 0.3576365657791168, 'p': 0.9574468085106383, 'r': 0.33251231527093594}}\n",
      "{'rouge-1': {'f': 0.3582089521886835, 'p': 0.96, 'r': 0.22018348623853212}, 'rouge-2': {'f': 0.2706766892446656, 'p': 0.9310344827586207, 'r': 0.15835777126099707}, 'rouge-l': {'f': 0.14593977319698073, 'p': 0.9572649572649573, 'r': 0.1432225063938619}}\n",
      "{'rouge-1': {'f': 0.3524590133593961, 'p': 0.945054945054945, 'r': 0.21662468513853905}, 'rouge-2': {'f': 0.2721437715526802, 'p': 0.9217391304347826, 'r': 0.15963855421686746}, 'rouge-l': {'f': 0.15047023205562116, 'p': 0.9576271186440678, 'r': 0.1475195822454308}}\n",
      "{'rouge-1': {'f': 0.5387205346932853, 'p': 0.963855421686747, 'r': 0.37383177570093457}, 'rouge-2': {'f': 0.4302600437212526, 'p': 0.9285714285714286, 'r': 0.28}, 'rouge-l': {'f': 0.2450148277733103, 'p': 0.9494949494949495, 'r': 0.2344139650872818}}\n",
      "{'rouge-1': {'f': 0.75829383408998, 'p': 0.963855421686747, 'r': 0.625}, 'rouge-2': {'f': 0.6622073533226698, 'p': 0.9519230769230769, 'r': 0.5076923076923077}, 'rouge-l': {'f': 0.4182805476906092, 'p': 0.9532710280373832, 'r': 0.38345864661654133}}\n",
      "{'rouge-1': {'f': 0.34077078816847634, 'p': 0.9655172413793104, 'r': 0.20689655172413793}, 'rouge-2': {'f': 0.2575757552020521, 'p': 0.9357798165137615, 'r': 0.1493411420204978}, 'rouge-l': {'f': 0.08566327248387574, 'p': 0.6090909090909091, 'r': 0.08427672955974842}}\n",
      "{'rouge-1': {'f': 0.31999999728488004, 'p': 0.9876543209876543, 'r': 0.1909307875894988}, 'rouge-2': {'f': 0.24802110588898713, 'p': 0.94, 'r': 0.14285714285714285}, 'rouge-l': {'f': 0.09398449878064884, 'p': 0.696078431372549, 'r': 0.09256844850065189}}\n",
      "{'rouge-1': {'f': 0.3668341677644505, 'p': 0.9605263157894737, 'r': 0.2267080745341615}, 'rouge-2': {'f': 0.304347823324068, 'p': 0.9191919191919192, 'r': 0.18236472945891782}, 'rouge-l': {'f': 0.10310220158376782, 'p': 0.59, 'r': 0.10068259385665529}}\n",
      "{'rouge-1': {'f': 0.4151785679855908, 'p': 0.9393939393939394, 'r': 0.2664756446991404}, 'rouge-2': {'f': 0.3515509570333975, 'p': 0.9224806201550387, 'r': 0.21715328467153286}, 'rouge-l': {'f': 0.18251171028624558, 'p': 0.8444444444444444, 'r': 0.17647058823529413}}\n",
      "{'rouge-1': {'f': 0.446511624387669, 'p': 0.9795918367346939, 'r': 0.2891566265060241}, 'rouge-2': {'f': 0.3490136540199549, 'p': 0.9349593495934959, 'r': 0.21455223880597016}, 'rouge-l': {'f': 0.18700396825402307, 'p': 0.90625, 'r': 0.18125}}\n",
      "{'rouge-1': {'f': 0.5525525484489895, 'p': 0.9583333333333334, 'r': 0.3881856540084388}, 'rouge-2': {'f': 0.46990290884720526, 'p': 0.9307692307692308, 'r': 0.3142857142857143}, 'rouge-l': {'f': 0.18898303603296351, 'p': 0.5777777777777777, 'r': 0.1776765375854214}}\n",
      "{'rouge-1': {'f': 0.2870228981973545, 'p': 0.9494949494949495, 'r': 0.16906474820143885}, 'rouge-2': {'f': 0.21828908347933704, 'p': 0.9327731092436975, 'r': 0.12360801781737193}, 'rouge-l': {'f': 0.11527534594475916, 'p': 0.9583333333333334, 'r': 0.11386138613861387}}\n",
      "{'rouge-1': {'f': 0.4113475143266883, 'p': 0.9456521739130435, 'r': 0.2628398791540785}, 'rouge-2': {'f': 0.32305432898074665, 'p': 0.9243697478991597, 'r': 0.19572953736654805}, 'rouge-l': {'f': 0.1826511776481643, 'p': 0.9508196721311475, 'r': 0.1776416539050536}}\n",
      "{'rouge-1': {'f': 0.3513513484201607, 'p': 0.9848484848484849, 'r': 0.2138157894736842}, 'rouge-2': {'f': 0.2716468566134653, 'p': 0.9411764705882353, 'r': 0.15873015873015872}, 'rouge-l': {'f': 0.13242746986611498, 'p': 0.8461538461538461, 'r': 0.12984822934232715}}\n",
      "{'rouge-1': {'f': 0.21359223106383732, 'p': 0.9777777777777777, 'r': 0.11989100817438691}, 'rouge-2': {'f': 0.14916286003396279, 'p': 0.9423076923076923, 'r': 0.08099173553719008}, 'rouge-l': {'f': 0.05428622175809326, 'p': 0.7358490566037735, 'r': 0.054016620498614956}}\n",
      "{'rouge-1': {'f': 0.245421243185874, 'p': 0.9571428571428572, 'r': 0.1407563025210084}, 'rouge-2': {'f': 0.1790341561066647, 'p': 0.9382716049382716, 'r': 0.09895833333333333}, 'rouge-l': {'f': 0.09060808074005426, 'p': 0.9642857142857143, 'r': 0.08990011098779134}}\n",
      "{'rouge-1': {'f': 0.4163568738574647, 'p': 0.9333333333333333, 'r': 0.2679425837320574}, 'rouge-2': {'f': 0.30617283667928674, 'p': 0.8985507246376812, 'r': 0.18452380952380953}, 'rouge-l': {'f': 0.17727052251107828, 'p': 0.9444444444444444, 'r': 0.17258883248730963}}\n",
      "{'rouge-1': {'f': 0.34299516617739045, 'p': 0.9726027397260274, 'r': 0.20821114369501467}, 'rouge-2': {'f': 0.26810477410215083, 'p': 0.925531914893617, 'r': 0.15675675675675677}, 'rouge-l': {'f': 0.10071226198112689, 'p': 0.65, 'r': 0.09878419452887538}}\n",
      "{'rouge-1': {'f': 0.3169164854687766, 'p': 0.961038961038961, 'r': 0.18974358974358974}, 'rouge-2': {'f': 0.23665223441356467, 'p': 0.9213483146067416, 'r': 0.1357615894039735}, 'rouge-l': {'f': 0.09023558573307987, 'p': 0.7, 'r': 0.08898305084745763}}\n",
      "{'rouge-1': {'f': 0.2316784848770183, 'p': 0.9607843137254902, 'r': 0.13172043010752688}, 'rouge-2': {'f': 0.15929203378494794, 'p': 0.9, 'r': 0.08737864077669903}, 'rouge-l': {'f': 0.056300625294431056, 'p': 0.6612903225806451, 'r': 0.05593451568894952}}\n",
      "{'rouge-1': {'f': 0.26086956285097485, 'p': 0.9512195121951219, 'r': 0.1511627906976744}, 'rouge-2': {'f': 0.19812304293740987, 'p': 0.9313725490196079, 'r': 0.11085180863477247}, 'rouge-l': {'f': 0.09893427536816708, 'p': 0.9611650485436893, 'r': 0.09801980198019802}}\n",
      "{'rouge-1': {'f': 0.293286216479604, 'p': 0.9540229885057471, 'r': 0.1732776617954071}, 'rouge-2': {'f': 0.23201855931048507, 'p': 0.9345794392523364, 'r': 0.13245033112582782}, 'rouge-l': {'f': 0.12237168742443859, 'p': 0.9545454545454546, 'r': 0.1206896551724138}}\n",
      "{'rouge-1': {'f': 0.4195402264389285, 'p': 0.948051948051948, 'r': 0.2693726937269373}, 'rouge-2': {'f': 0.3314285684160726, 'p': 0.8969072164948454, 'r': 0.20327102803738317}, 'rouge-l': {'f': 0.19154788536286743, 'p': 0.94, 'r': 0.1857707509881423}}\n",
      "{'rouge-1': {'f': 0.34368529720081104, 'p': 0.9325842696629213, 'r': 0.21065989847715735}, 'rouge-2': {'f': 0.2703448250507111, 'p': 0.9074074074074074, 'r': 0.15883306320907617}, 'rouge-l': {'f': 0.15316104143369114, 'p': 0.9459459459459459, 'r': 0.15}}\n",
      "{'rouge-1': {'f': 0.3666666635680556, 'p': 0.9565217391304348, 'r': 0.2268041237113402}, 'rouge-2': {'f': 0.2833333307445988, 'p': 0.9272727272727272, 'r': 0.16721311475409836}, 'rouge-l': {'f': 0.12547306296400454, 'p': 0.7787610619469026, 'r': 0.12290502793296089}}\n",
      "{'rouge-1': {'f': 0.0, 'p': 0.0, 'r': 0.0}, 'rouge-2': {'f': 0.0, 'p': 0.0, 'r': 0.0}, 'rouge-l': {'f': 0.0, 'p': 0.0, 'r': 0.0}}\n",
      "{'rouge-1': {'f': 0.0, 'p': 0.0, 'r': 0.0}, 'rouge-2': {'f': 0.0, 'p': 0.0, 'r': 0.0}, 'rouge-l': {'f': 0.0, 'p': 0.0, 'r': 0.0}}\n",
      "{'rouge-1': {'f': 0.4831804244700689, 'p': 1.0, 'r': 0.3185483870967742}, 'rouge-2': {'f': 0.39323466906909704, 'p': 0.96875, 'r': 0.246684350132626}, 'rouge-l': {'f': 0.20450497283743774, 'p': 0.8165137614678899, 'r': 0.1960352422907489}}\n",
      "{'rouge-1': {'f': 0.2499999950255103, 'p': 0.23333333333333334, 'r': 0.2692307692307692}, 'rouge-2': {'f': 0.06511627413737194, 'p': 0.058333333333333334, 'r': 0.07368421052631578}, 'rouge-l': {'f': 0.12386048154998455, 'p': 0.11382113821138211, 'r': 0.14432989690721648}}\n",
      "{'rouge-1': {'f': 0.2357615873242753, 'p': 1.0, 'r': 0.13363363363363365}, 'rouge-2': {'f': 0.16666666509156788, 'p': 0.9669421487603306, 'r': 0.09119251753702261}, 'rouge-l': {'f': 0.07155459004346452, 'p': 0.8503937007874016, 'r': 0.07109940750493746}}\n",
      "{'rouge-1': {'f': 0.19620252948185385, 'p': 0.7948717948717948, 'r': 0.11191335740072202}, 'rouge-2': {'f': 0.12587412439508044, 'p': 0.782608695652174, 'r': 0.06844106463878327}, 'rouge-l': {'f': 0.055026572284886055, 'p': 0.7096774193548387, 'r': 0.05472636815920398}}\n"
     ]
    },
    {
     "name": "stdout",
     "output_type": "stream",
     "text": [
      "{'rouge-1': {'f': 0.2740157456439457, 'p': 0.9886363636363636, 'r': 0.1590493601462523}, 'rouge-2': {'f': 0.1946740110396899, 'p': 0.9636363636363636, 'r': 0.10827374872318693}, 'rouge-l': {'f': 0.04577922907291883, 'p': 0.5132743362831859, 'r': 0.045454545454545456}}\n",
      "{'rouge-1': {'f': 0.33766233271630974, 'p': 0.3058823529411765, 'r': 0.37681159420289856}, 'rouge-2': {'f': 0.14213197475224837, 'p': 0.12844036697247707, 'r': 0.1590909090909091}, 'rouge-l': {'f': 0.181323692266936, 'p': 0.16666666666666666, 'r': 0.2111111111111111}}\n",
      "{'rouge-1': {'f': 0.55555555154321, 'p': 1.0, 'r': 0.38461538461538464}, 'rouge-2': {'f': 0.4565587698276979, 'p': 0.9710144927536232, 'r': 0.2984409799554566}, 'rouge-l': {'f': 0.2807776817773625, 'p': 0.9668874172185431, 'r': 0.2664233576642336}}\n",
      "{'rouge-1': {'f': 0.0, 'p': 0.0, 'r': 0.0}, 'rouge-2': {'f': 0.0, 'p': 0.0, 'r': 0.0}, 'rouge-l': {'f': 0.0, 'p': 0.0, 'r': 0.0}}\n",
      "{'rouge-1': {'f': 0.14285714137126182, 'p': 0.8837209302325582, 'r': 0.07770961145194274}, 'rouge-2': {'f': 0.0811504869097335, 'p': 0.7523809523809524, 'r': 0.04288816503800217}, 'rouge-l': {'f': 0.03270407243560022, 'p': 0.6822429906542056, 'r': 0.03263299061242736}}\n",
      "{'rouge-1': {'f': 0.6008230410642009, 'p': 1.0, 'r': 0.4294117647058823}, 'rouge-2': {'f': 0.49729729345449236, 'p': 0.9583333333333334, 'r': 0.3357664233576642}, 'rouge-l': {'f': 0.237980668672861, 'p': 0.6826923076923077, 'r': 0.2225705329153605}}\n",
      "{'rouge-1': {'f': 0.12865496952255018, 'p': 0.9705882352941176, 'r': 0.06889352818371608}, 'rouge-2': {'f': 0.08759954402745906, 'p': 0.9166666666666666, 'r': 0.045997610513739545}, 'rouge-l': {'f': 0.033060564796917366, 'p': 0.8470588235294118, 'r': 0.033012379642365884}}\n",
      "{'rouge-1': {'f': 0.2488188953886292, 'p': 0.9634146341463414, 'r': 0.14285714285714285}, 'rouge-2': {'f': 0.16330275070238198, 'p': 0.9368421052631579, 'r': 0.08944723618090453}, 'rouge-l': {'f': 0.08135408140378209, 'p': 0.9479166666666666, 'r': 0.08081705150976909}}\n",
      "{'rouge-1': {'f': 0.43434343085871346, 'p': 0.9662921348314607, 'r': 0.28013029315960913}, 'rouge-2': {'f': 0.3535528565327743, 'p': 0.9272727272727272, 'r': 0.21841541755888652}, 'rouge-l': {'f': 0.12595851265427827, 'p': 0.5357142857142857, 'r': 0.12121212121212122}}\n",
      "{'rouge-1': {'f': 0.42328041985316767, 'p': 0.963855421686747, 'r': 0.2711864406779661}, 'rouge-2': {'f': 0.32517482224436406, 'p': 0.9117647058823529, 'r': 0.19787234042553192}, 'rouge-l': {'f': 0.1306871292850511, 'p': 0.6481481481481481, 'r': 0.12681159420289856}}\n",
      "{'rouge-1': {'f': 0.6122448935057061, 'p': 0.9146341463414634, 'r': 0.4601226993865031}, 'rouge-2': {'f': 0.5380116917205295, 'p': 0.9019607843137255, 'r': 0.38333333333333336}, 'rouge-l': {'f': 0.36491121625665396, 'p': 0.9333333333333333, 'r': 0.33793103448275863}}\n",
      "{'rouge-1': {'f': 0.39999999664688096, 'p': 0.9387755102040817, 'r': 0.2541436464088398}, 'rouge-2': {'f': 0.3405483375548102, 'p': 0.9291338582677166, 'r': 0.20848056537102475}, 'rouge-l': {'f': 0.20023514395312347, 'p': 0.9393939393939394, 'r': 0.19375}}\n",
      "{'rouge-1': {'f': 0.3874091976994648, 'p': 0.9411764705882353, 'r': 0.24390243902439024}, 'rouge-2': {'f': 0.32398753602003083, 'p': 0.9122807017543859, 'r': 0.19696969696969696}, 'rouge-l': {'f': 0.2000746406776389, 'p': 0.9396551724137931, 'r': 0.1936056838365897}}\n",
      "{'rouge-1': {'f': 0.49616367895971386, 'p': 0.9326923076923077, 'r': 0.33797909407665505}, 'rouge-2': {'f': 0.4232081875802282, 'p': 0.9185185185185185, 'r': 0.2749445676274945}, 'rouge-l': {'f': 0.2948136009895792, 'p': 0.9452054794520548, 'r': 0.2782258064516129}}\n",
      "{'rouge-1': {'f': 0.5934065890909579, 'p': 0.9418604651162791, 'r': 0.43315508021390375}, 'rouge-2': {'f': 0.5103448235704584, 'p': 0.9173553719008265, 'r': 0.3535031847133758}, 'rouge-l': {'f': 0.35607981969966623, 'p': 0.937984496124031, 'r': 0.33060109289617484}}\n",
      "{'rouge-1': {'f': 0.32443531544746573, 'p': 0.9518072289156626, 'r': 0.19554455445544555}, 'rouge-2': {'f': 0.24653739379589634, 'p': 0.9175257731958762, 'r': 0.1424}, 'rouge-l': {'f': 0.10694629308532268, 'p': 0.7171717171717171, 'r': 0.10502958579881656}}\n",
      "{'rouge-1': {'f': 0.46498599074045316, 'p': 0.9651162790697675, 'r': 0.3062730627306273}, 'rouge-2': {'f': 0.35316698348606146, 'p': 0.9292929292929293, 'r': 0.21800947867298578}, 'rouge-l': {'f': 0.19234787085924518, 'p': 0.94, 'r': 0.1865079365079365}}\n",
      "{'rouge-1': {'f': 0.6335403682332859, 'p': 0.9532710280373832, 'r': 0.4744186046511628}, 'rouge-2': {'f': 0.5315904098273694, 'p': 0.9172932330827067, 'r': 0.37423312883435583}, 'rouge-l': {'f': 0.36800052717428544, 'p': 0.9333333333333333, 'r': 0.34054054054054056}}\n",
      "{'rouge-1': {'f': 0.6319702556764003, 'p': 0.9042553191489362, 'r': 0.4857142857142857}, 'rouge-2': {'f': 0.5372340383070678, 'p': 0.8782608695652174, 'r': 0.38697318007662834}, 'rouge-l': {'f': 0.3687658655626786, 'p': 0.9159663865546218, 'r': 0.340625}}\n",
      "{'rouge-1': {'f': 0.47404062827611865, 'p': 0.9375, 'r': 0.31722054380664655}, 'rouge-2': {'f': 0.3842917218318977, 'p': 0.9319727891156463, 'r': 0.2420494699646643}, 'rouge-l': {'f': 0.23722549700308537, 'p': 0.948051948051948, 'r': 0.22741433021806853}}\n",
      "{'rouge-1': {'f': 0.5303030262906847, 'p': 0.9545454545454546, 'r': 0.36713286713286714}, 'rouge-2': {'f': 0.45375217784417465, 'p': 0.9420289855072463, 'r': 0.2988505747126437}, 'rouge-l': {'f': 0.29868610328404305, 'p': 0.9444444444444444, 'r': 0.2815734989648033}}\n",
      "{'rouge-1': {'f': 0.4581497760413555, 'p': 0.9369369369369369, 'r': 0.3032069970845481}, 'rouge-2': {'f': 0.37181408970705054, 'p': 0.9117647058823529, 'r': 0.2335216572504708}, 'rouge-l': {'f': 0.15348664976786128, 'p': 0.635036496350365, 'r': 0.14745762711864407}}\n",
      "{'rouge-1': {'f': 0.37168141279348427, 'p': 0.9545454545454546, 'r': 0.23076923076923078}, 'rouge-2': {'f': 0.27999999739644976, 'p': 0.91, 'r': 0.16545454545454547}, 'rouge-l': {'f': 0.13684159602278198, 'p': 0.803921568627451, 'r': 0.13376835236541598}}\n",
      "{'rouge-1': {'f': 0.2282996412046132, 'p': 0.9696969696969697, 'r': 0.1293800539083558}, 'rouge-2': {'f': 0.17709065183144695, 'p': 0.9333333333333333, 'r': 0.09782608695652174}, 'rouge-l': {'f': 0.18514097861925985, 'p': 0.8050139275766016, 'r': 0.17839506172839506}}\n",
      "{'rouge-1': {'f': 0.5989010945787043, 'p': 0.9478260869565217, 'r': 0.43775100401606426}, 'rouge-2': {'f': 0.5133079807468665, 'p': 0.9121621621621622, 'r': 0.35714285714285715}, 'rouge-l': {'f': 0.3585205327843735, 'p': 0.9342105263157895, 'r': 0.3325526932084309}}\n",
      "{'rouge-1': {'f': 0.29453681454051267, 'p': 0.9763779527559056, 'r': 0.17342657342657342}, 'rouge-2': {'f': 0.22790357715715992, 'p': 0.9570552147239264, 'r': 0.12935323383084577}, 'rouge-l': {'f': 0.07900273191027608, 'p': 0.611764705882353, 'r': 0.07790262172284644}}\n",
      "{'rouge-1': {'f': 0.5552050431466131, 'p': 0.9361702127659575, 'r': 0.39461883408071746}, 'rouge-2': {'f': 0.4791208752581573, 'p': 0.9159663865546218, 'r': 0.3244047619047619}, 'rouge-l': {'f': 0.32901833397973496, 'p': 0.943089430894309, 'r': 0.3076923076923077}}\n",
      "{'rouge-1': {'f': 0.45454545091867093, 'p': 0.9550561797752809, 'r': 0.2982456140350877}, 'rouge-2': {'f': 0.3430531702016835, 'p': 0.9174311926605505, 'r': 0.2109704641350211}, 'rouge-l': {'f': 0.16526313466346176, 'p': 0.7767857142857143, 'r': 0.15992647058823528}}\n",
      "{'rouge-1': {'f': 0.510385752734285, 'p': 0.945054945054945, 'r': 0.34959349593495936}, 'rouge-2': {'f': 0.42510121098133063, 'p': 0.9051724137931034, 'r': 0.2777777777777778}, 'rouge-l': {'f': 0.26020225075092274, 'p': 0.940677966101695, 'r': 0.24776785714285715}}\n",
      "{'rouge-1': {'f': 0.328282825372411, 'p': 0.9285714285714286, 'r': 0.19938650306748465}, 'rouge-2': {'f': 0.26527050358146864, 'p': 0.8941176470588236, 'r': 0.1557377049180328}, 'rouge-l': {'f': 0.10376449893092386, 'p': 0.6206896551724138, 'r': 0.10150375939849623}}\n",
      "{'rouge-1': {'f': 0.37453183200150103, 'p': 0.9345794392523364, 'r': 0.234192037470726}, 'rouge-2': {'f': 0.2987341744997276, 'p': 0.921875, 'r': 0.1782477341389728}, 'rouge-l': {'f': 0.1809789719911671, 'p': 0.9457364341085271, 'r': 0.17604617604617603}}\n",
      "{'rouge-1': {'f': 0.24448897577969564, 'p': 0.9838709677419355, 'r': 0.13958810068649885}, 'rouge-2': {'f': 0.16797900095617968, 'p': 0.9142857142857143, 'r': 0.09248554913294797}, 'rouge-l': {'f': 0.07289546198754338, 'p': 0.75, 'r': 0.07228915662650602}}\n"
     ]
    },
    {
     "name": "stdout",
     "output_type": "stream",
     "text": [
      "{'rouge-1': {'f': 0.2940226145936565, 'p': 0.9891304347826086, 'r': 0.17267552182163187}, 'rouge-2': {'f': 0.22649572440520221, 'p': 0.954954954954955, 'r': 0.12848484848484848}, 'rouge-l': {'f': 0.07679198068613141, 'p': 0.584070796460177, 'r': 0.07568807339449542}}\n",
      "{'rouge-1': {'f': 0.37436761913328354, 'p': 0.9652173913043478, 'r': 0.23221757322175732}, 'rouge-2': {'f': 0.26579520449387933, 'p': 0.9172932330827067, 'r': 0.1554140127388535}, 'rouge-l': {'f': 0.10338739888776802, 'p': 0.6592592592592592, 'r': 0.10136674259681093}}\n",
      "{'rouge-1': {'f': 0.42592592246913585, 'p': 0.9583333333333334, 'r': 0.27380952380952384}, 'rouge-2': {'f': 0.35168195415163334, 'p': 0.9426229508196722, 'r': 0.2161654135338346}, 'rouge-l': {'f': 0.16192873512653083, 'p': 0.7580645161290323, 'r': 0.15666666666666668}}\n",
      "{'rouge-1': {'f': 0.0, 'p': 0.0, 'r': 0.0}, 'rouge-2': {'f': 0.0, 'p': 0.0, 'r': 0.0}, 'rouge-l': {'f': 0.0, 'p': 0.0, 'r': 0.0}}\n",
      "{'rouge-1': {'f': 0.6829268246281975, 'p': 0.9333333333333333, 'r': 0.5384615384615384}, 'rouge-2': {'f': 0.5939675130480565, 'p': 0.927536231884058, 'r': 0.43686006825938567}, 'rouge-l': {'f': 0.426558193017554, 'p': 0.9432624113475178, 'r': 0.39002932551319647}}\n",
      "{'rouge-1': {'f': 0.11267605523319889, 'p': 0.96, 'r': 0.059850374064837904}, 'rouge-2': {'f': 0.061855669424378715, 'p': 0.8793103448275862, 'r': 0.03205531112507857}, 'rouge-l': {'f': 0.024918851757898163, 'p': 0.7419354838709677, 'r': 0.024891774891774892}}\n",
      "{'rouge-1': {'f': 0.48275861702734846, 'p': 1.0, 'r': 0.3181818181818182}, 'rouge-2': {'f': 0.39337473786916666, 'p': 0.9313725490196079, 'r': 0.24934383202099739}, 'rouge-l': {'f': 0.12789250961690818, 'p': 0.49523809523809526, 'r': 0.1223529411764706}}\n",
      "{'rouge-1': {'f': 0.2768079776110845, 'p': 0.9736842105263158, 'r': 0.1613372093023256}, 'rouge-2': {'f': 0.2142310614841045, 'p': 0.9395973154362416, 'r': 0.12089810017271158}, 'rouge-l': {'f': 0.07542638613775181, 'p': 0.6118421052631579, 'r': 0.0744595676541233}}\n",
      "{'rouge-1': {'f': 0.27848101013233756, 'p': 0.9390243902439024, 'r': 0.16348195329087048}, 'rouge-2': {'f': 0.21303257935612843, 'p': 0.8947368421052632, 'r': 0.12091038406827881}, 'rouge-l': {'f': 0.12049113513122879, 'p': 0.9285714285714286, 'r': 0.11879895561357702}}\n",
      "{'rouge-1': {'f': 0.2525050077541858, 'p': 0.9692307692307692, 'r': 0.14516129032258066}, 'rouge-2': {'f': 0.1833952893960375, 'p': 0.9135802469135802, 'r': 0.10192837465564739}, 'rouge-l': {'f': 0.09049193424430327, 'p': 0.5639097744360902, 'r': 0.08865248226950355}}\n",
      "{'rouge-1': {'f': 0.4459770080035937, 'p': 0.9897959183673469, 'r': 0.2878338278931751}, 'rouge-2': {'f': 0.3344155814610917, 'p': 0.9279279279279279, 'r': 0.20396039603960395}, 'rouge-l': {'f': 0.10741833449484667, 'p': 0.5, 'r': 0.1038961038961039}}\n",
      "{'rouge-1': {'f': 0.636904757402388, 'p': 0.9304347826086956, 'r': 0.4841628959276018}, 'rouge-2': {'f': 0.5477178381170262, 'p': 0.9103448275862069, 'r': 0.3916913946587537}, 'rouge-l': {'f': 0.41410410464879893, 'p': 0.934640522875817, 'r': 0.3793103448275862}}\n",
      "{'rouge-1': {'f': 0.39697542201478697, 'p': 0.9459459459459459, 'r': 0.2511961722488038}, 'rouge-2': {'f': 0.31435079446349906, 'p': 0.9324324324324325, 'r': 0.18904109589041096}, 'rouge-l': {'f': 0.18356958826083322, 'p': 0.9548387096774194, 'r': 0.17852834740651388}}\n",
      "{'rouge-1': {'f': 0.2636484663222938, 'p': 0.9519230769230769, 'r': 0.15301391035548687}, 'rouge-2': {'f': 0.18707482805892509, 'p': 0.8943089430894309, 'r': 0.10446343779677113}, 'rouge-l': {'f': 0.0527756425464203, 'p': 0.48031496062992124, 'r': 0.052226027397260275}}\n",
      "{'rouge-1': {'f': 0.5409252627707349, 'p': 0.926829268292683, 'r': 0.38190954773869346}, 'rouge-2': {'f': 0.4190476154195012, 'p': 0.88, 'r': 0.275}, 'rouge-l': {'f': 0.18475277724965497, 'p': 0.6310679611650486, 'r': 0.1752021563342318}}\n",
      "{'rouge-1': {'f': 0.3370786488333404, 'p': 0.9782608695652174, 'r': 0.20361990950226244}, 'rouge-2': {'f': 0.2610722586999637, 'p': 0.9491525423728814, 'r': 0.15135135135135136}, 'rouge-l': {'f': 0.09352901688311298, 'p': 0.6111111111111112, 'r': 0.09177592371871275}}\n",
      "{'rouge-1': {'f': 0.24074073855324077, 'p': 0.9629629629629629, 'r': 0.13756613756613756}, 'rouge-2': {'f': 0.17357762604534818, 'p': 0.9090909090909091, 'r': 0.09594882729211088}, 'rouge-l': {'f': 0.07276851519523493, 'p': 0.73, 'r': 0.07213438735177866}}\n",
      "{'rouge-1': {'f': 0.40549827845343117, 'p': 0.959349593495935, 'r': 0.2570806100217865}, 'rouge-2': {'f': 0.3146779275261065, 'p': 0.9430379746835443, 'r': 0.1888466413181242}, 'rouge-l': {'f': 0.13436696783577998, 'p': 0.6829268292682927, 'r': 0.13053613053613053}}\n",
      "{'rouge-1': {'f': 0.4605543673223891, 'p': 0.9473684210526315, 'r': 0.30422535211267604}, 'rouge-2': {'f': 0.36078431063696875, 'p': 0.9452054794520548, 'r': 0.22294022617124395}, 'rouge-l': {'f': 0.21574162520677936, 'p': 0.959731543624161, 'r': 0.2081513828238719}}\n",
      "{'rouge-1': {'f': 0.5010799096850758, 'p': 0.9354838709677419, 'r': 0.3421828908554572}, 'rouge-2': {'f': 0.4401114169986267, 'p': 0.9294117647058824, 'r': 0.28832116788321166}, 'rouge-l': {'f': 0.2730172505131255, 'p': 0.9444444444444444, 'r': 0.25914634146341464}}\n",
      "{'rouge-1': {'f': 0.015637216389563537, 'p': 0.8333333333333334, 'r': 0.007892659826361484}, 'rouge-2': {'f': 0.00788091057848553, 'p': 0.75, 'r': 0.003961267605633803}, 'rouge-l': {'f': 0.004756388204424782, 'p': 0.8571428571428571, 'r': 0.0047562425683709865}}\n",
      "{'rouge-1': {'f': 0.07324840684956795, 'p': 0.8846153846153846, 'r': 0.03820598006644518}, 'rouge-2': {'f': 0.03971119086025166, 'p': 0.8148148148148148, 'r': 0.020351526364477335}, 'rouge-l': {'f': 0.020810935522352934, 'p': 0.896551724137931, 'r': 0.0208}}\n",
      "{'rouge-1': {'f': 0.19762845662258438, 'p': 0.9433962264150944, 'r': 0.11037527593818984}, 'rouge-2': {'f': 0.12452350564493865, 'p': 0.8596491228070176, 'r': 0.06712328767123288}, 'rouge-l': {'f': 0.05184025652749935, 'p': 0.7241379310344828, 'r': 0.051597051597051594}}\n",
      "{'rouge-1': {'f': 0.2677824243678332, 'p': 0.9552238805970149, 'r': 0.15571776155717762}, 'rouge-2': {'f': 0.18465539481690543, 'p': 0.922077922077922, 'r': 0.10260115606936417}, 'rouge-l': {'f': 0.07602911956086397, 'p': 0.7692307692307693, 'r': 0.07537688442211055}}\n",
      "{'rouge-1': {'f': 0.12926391252174868, 'p': 0.9230769230769231, 'r': 0.0694980694980695}, 'rouge-2': {'f': 0.07760532061985931, 'p': 0.8333333333333334, 'r': 0.040697674418604654}, 'rouge-l': {'f': 0.02450977235482617, 'p': 0.5581395348837209, 'r': 0.024464831804281346}}\n",
      "{'rouge-1': {'f': 0.38095237769136847, 'p': 0.9285714285714286, 'r': 0.23963133640552994}, 'rouge-2': {'f': 0.28850855471763087, 'p': 0.8805970149253731, 'r': 0.17251461988304093}, 'rouge-l': {'f': 0.12187170715560465, 'p': 0.6764705882352942, 'r': 0.11886304909560723}}\n",
      "{'rouge-1': {'f': 0.15025041583217438, 'p': 0.9, 'r': 0.08196721311475409}, 'rouge-2': {'f': 0.09124767123151241, 'p': 0.8448275862068966, 'r': 0.04822834645669291}, 'rouge-l': {'f': 0.04340029822062268, 'p': 0.85, 'r': 0.0432937181663837}}\n",
      "{'rouge-1': {'f': 0.0904836183402007, 'p': 0.8529411764705882, 'r': 0.047775947281713346}, 'rouge-2': {'f': 0.047945204882013516, 'p': 0.7777777777777778, 'r': 0.024734982332155476}, 'rouge-l': {'f': 0.01838701610971603, 'p': 0.6052631578947368, 'r': 0.018370607028753993}}\n",
      "{'rouge-1': {'f': 0.36714975527736937, 'p': 0.926829268292683, 'r': 0.2289156626506024}, 'rouge-2': {'f': 0.2285714262139582, 'p': 0.8372093023255814, 'r': 0.1323529411764706}, 'rouge-l': {'f': 0.09392087309535502, 'p': 0.7045454545454546, 'r': 0.09253731343283582}}\n",
      "{'rouge-1': {'f': 0.04753819977896985, 'p': 0.8235294117647058, 'r': 0.024475524475524476}, 'rouge-2': {'f': 0.026476578051526256, 'p': 0.7222222222222222, 'r': 0.013485477178423237}, 'rouge-l': {'f': 0.015516019703321093, 'p': 0.85, 'r': 0.01551094890510949}}\n",
      "{'rouge-1': {'f': 0.06939281187834455, 'p': 0.6511627906976745, 'r': 0.03664921465968586}, 'rouge-2': {'f': 0.03338391427880798, 'p': 0.43137254901960786, 'r': 0.017363851617995266}, 'rouge-l': {'f': 0.00920943871378273, 'p': 0.22077922077922077, 'r': 0.009194159004867496}}\n",
      "{'rouge-1': {'f': 0.017441860206910836, 'p': 0.6666666666666666, 'r': 0.008836524300441826}, 'rouge-2': {'f': 0.006745362396025587, 'p': 0.4, 'r': 0.003401360544217687}, 'rouge-l': {'f': 0.00530741682187606, 'p': 0.6363636363636364, 'r': 0.00530705079605762}}\n"
     ]
    },
    {
     "name": "stdout",
     "output_type": "stream",
     "text": [
      "{'rouge-1': {'f': 0.09642301605025046, 'p': 0.8611111111111112, 'r': 0.051070840197693576}, 'rouge-2': {'f': 0.057197330075308916, 'p': 0.7692307692307693, 'r': 0.0297029702970297}, 'rouge-l': {'f': 0.03123252765059312, 'p': 0.875, 'r': 0.031194295900178252}}\n",
      "{'rouge-1': {'f': 0.03394255833770767, 'p': 0.8125, 'r': 0.017333333333333333}, 'rouge-2': {'f': 0.012931034269563766, 'p': 0.6, 'r': 0.006535947712418301}, 'rouge-l': {'f': 0.0060501680778789, 'p': 0.625, 'r': 0.006049606775559589}}\n",
      "{'rouge-1': {'f': 0.40718562536053643, 'p': 0.9444444444444444, 'r': 0.2595419847328244}, 'rouge-2': {'f': 0.31627906691790164, 'p': 0.918918918918919, 'r': 0.19101123595505617}, 'rouge-l': {'f': 0.15315250403638891, 'p': 0.9473684210526315, 'r': 0.15}}\n",
      "{'rouge-1': {'f': 0.18487394783383945, 'p': 0.9565217391304348, 'r': 0.10232558139534884}, 'rouge-2': {'f': 0.12953367738882254, 'p': 0.8771929824561403, 'r': 0.06993006993006994}, 'rouge-l': {'f': 0.05472037789785209, 'p': 0.7166666666666667, 'r': 0.05443037974683544}}\n",
      "{'rouge-1': {'f': 0.19321148638002852, 'p': 0.925, 'r': 0.10787172011661808}, 'rouge-2': {'f': 0.1190476177503008, 'p': 0.8536585365853658, 'r': 0.06398537477148081}, 'rouge-l': {'f': 0.039405788941142966, 'p': 0.5952380952380952, 'r': 0.03924646781789639}}\n",
      "{'rouge-1': {'f': 0.016222479538219235, 'p': 0.875, 'r': 0.008187134502923977}, 'rouge-2': {'f': 0.0067114092758974835, 'p': 0.5555555555555556, 'r': 0.00337609723160027}, 'rouge-l': {'f': 0.003757190847346651, 'p': 0.6, 'r': 0.003757044458359424}}\n",
      "{'rouge-1': {'f': 0.27190332074040946, 'p': 0.9183673469387755, 'r': 0.1595744680851064}, 'rouge-2': {'f': 0.17910447570705718, 'p': 0.84, 'r': 0.10023866348448687}, 'rouge-l': {'f': 0.07141355871249717, 'p': 0.6470588235294118, 'r': 0.07066381156316917}}\n",
      "{'rouge-1': {'f': 0.013129102628214647, 'p': 0.6, 'r': 0.00663716814159292}, 'rouge-2': {'f': 0.005148005020133209, 'p': 0.4, 'r': 0.0025906735751295338}, 'rouge-l': {'f': 0.004667753426845883, 'p': 0.5714285714285714, 'r': 0.004667444574095682}}\n",
      "{'rouge-1': {'f': 0.6956521692408225, 'p': 0.935064935064935, 'r': 0.5538461538461539}, 'rouge-2': {'f': 0.6397058778073639, 'p': 0.9157894736842105, 'r': 0.4915254237288136}, 'rouge-l': {'f': 0.285043450872701, 'p': 0.6666666666666666, 'r': 0.2619047619047619}}\n",
      "{'rouge-1': {'f': 0.09661835642423913, 'p': 0.8571428571428571, 'r': 0.051194539249146756}, 'rouge-2': {'f': 0.05794205721163951, 'p': 0.7631578947368421, 'r': 0.030114226375908618}, 'rouge-l': {'f': 0.03187610543121285, 'p': 0.8717948717948718, 'r': 0.031835205992509365}}\n",
      "{'rouge-1': {'f': 0.029678482743594574, 'p': 0.8181818181818182, 'r': 0.015113350125944584}, 'rouge-2': {'f': 0.016553066955018778, 'p': 0.7083333333333334, 'r': 0.008374384236453201}, 'rouge-l': {'f': 0.008490855483100425, 'p': 0.7307692307692307, 'r': 0.008489722966934763}}\n",
      "{'rouge-1': {'f': 0.2096774173102382, 'p': 0.9069767441860465, 'r': 0.11854103343465046}, 'rouge-2': {'f': 0.1401050772983766, 'p': 0.851063829787234, 'r': 0.07633587786259542}, 'rouge-l': {'f': 0.06327948119404982, 'p': 0.7916666666666666, 'r': 0.06291390728476821}}\n",
      "{'rouge-1': {'f': 0.005571030474934247, 'p': 0.3333333333333333, 'r': 0.0028089887640449437}, 'rouge-2': {'f': 0.003367003233230175, 'p': 0.25, 'r': 0.001694915254237288}, 'rouge-l': {'f': 0.005900162959082038, 'p': 0.6666666666666666, 'r': 0.0058997050147492625}}\n",
      "{'rouge-1': {'f': 0.22343324027351902, 'p': 0.8723404255319149, 'r': 0.128125}, 'rouge-2': {'f': 0.1521335789916736, 'p': 0.803921568627451, 'r': 0.08401639344262295}, 'rouge-l': {'f': 0.04975482479936152, 'p': 0.5769230769230769, 'r': 0.04942339373970346}}\n",
      "{'rouge-1': {'f': 0.0, 'p': 0.0, 'r': 0.0}, 'rouge-2': {'f': 0.0, 'p': 0.0, 'r': 0.0}, 'rouge-l': {'f': 0.0, 'p': 0.0, 'r': 0.0}}\n",
      "{'rouge-1': {'f': 0.0, 'p': 0.0, 'r': 0.0}, 'rouge-2': {'f': 0.0, 'p': 0.0, 'r': 0.0}, 'rouge-l': {'f': 0.0, 'p': 0.0, 'r': 0.0}}\n",
      "{'rouge-1': {'f': 0.05804749274120898, 'p': 0.8461538461538461, 'r': 0.030054644808743168}, 'rouge-2': {'f': 0.025903203469131626, 'p': 0.7307692307692307, 'r': 0.0131852879944483}, 'rouge-l': {'f': 0.009716562425451526, 'p': 0.6296296296296297, 'r': 0.009714285714285713}}\n",
      "{'rouge-1': {'f': 0.053486150296850325, 'p': 0.8484848484848485, 'r': 0.027613412228796843}, 'rouge-2': {'f': 0.026388124976751123, 'p': 0.7058823529411765, 'r': 0.013445378151260505}, 'rouge-l': {'f': 0.012591957549805636, 'p': 0.7142857142857143, 'r': 0.012588116817724069}}\n",
      "{'rouge-1': {'f': 0.0018181817818842983, 'p': 0.5, 'r': 0.0009107468123861566}, 'rouge-2': {'f': 0.0004741583499468631, 'p': 0.25, 'r': 0.00023730422401518748}, 'rouge-l': {'f': 0.0006406160406451388, 'p': 0.5, 'r': 0.0006406149903907751}}\n",
      "{'rouge-1': {'f': 0.4182692274612843, 'p': 1.0, 'r': 0.26443768996960487}, 'rouge-2': {'f': 0.3159557634466632, 'p': 0.9615384615384616, 'r': 0.1890359168241966}, 'rouge-l': {'f': 0.15106742581540833, 'p': 0.8333333333333334, 'r': 0.14729950900163666}}\n",
      "{'rouge-1': {'f': 0.10241820660813543, 'p': 0.9, 'r': 0.05429864253393665}, 'rouge-2': {'f': 0.06045751563160805, 'p': 0.8222222222222222, 'r': 0.031382527565733676}, 'rouge-l': {'f': 0.027119363700318783, 'p': 0.782608695652174, 'r': 0.02708803611738149}}\n",
      "{'rouge-1': {'f': 0.1017751467947481, 'p': 0.8431372549019608, 'r': 0.05415617128463476}, 'rouge-2': {'f': 0.0567951311297539, 'p': 0.7636363636363637, 'r': 0.02949438202247191}, 'rouge-l': {'f': 0.024034030854391757, 'p': 0.6785714285714286, 'r': 0.024005053695514846}}\n",
      "{'rouge-1': {'f': 0.0033528917857662314, 'p': 0.4, 'r': 0.0016835016835016834}, 'rouge-2': {'f': 0.0009144946869360885, 'p': 0.16666666666666666, 'r': 0.0004585052728106373}, 'rouge-l': {'f': 0.0012536671940105398, 'p': 0.42857142857142855, 'r': 0.0012536564981195152}}\n",
      "{'rouge-1': {'f': 0.16996047262314679, 'p': 0.9148936170212766, 'r': 0.09368191721132897}, 'rouge-2': {'f': 0.12035851343748209, 'p': 0.8703703703703703, 'r': 0.06464924346629987}, 'rouge-l': {'f': 0.047054023232767354, 'p': 0.6607142857142857, 'r': 0.04683544303797468}}\n",
      "{'rouge-1': {'f': 0.3167155396603057, 'p': 0.9152542372881356, 'r': 0.19148936170212766}, 'rouge-2': {'f': 0.2409177796802533, 'p': 0.8873239436619719, 'r': 0.13938053097345132}, 'rouge-l': {'f': 0.10968391266533714, 'p': 0.7638888888888888, 'r': 0.10784313725490197}}\n",
      "{'rouge-1': {'f': 0.3170163141615184, 'p': 0.918918918918919, 'r': 0.19154929577464788}, 'rouge-2': {'f': 0.22603719377201442, 'p': 0.8876404494382022, 'r': 0.12950819672131147}, 'rouge-l': {'f': 0.08694640254389104, 'p': 0.6666666666666666, 'r': 0.08571428571428572}}\n",
      "{'rouge-1': {'f': 0.09950248650543923, 'p': 0.8888888888888888, 'r': 0.052700922266139656}, 'rouge-2': {'f': 0.05799256438129932, 'p': 0.8297872340425532, 'r': 0.030046224961479198}, 'rouge-l': {'f': 0.025704153425134456, 'p': 0.7708333333333334, 'r': 0.025676613462873005}}\n",
      "{'rouge-1': {'f': 0.02494802464103717, 'p': 0.8, 'r': 0.012671594508975714}, 'rouge-2': {'f': 0.008998874984367114, 'p': 0.5714285714285714, 'r': 0.0045351473922902496}, 'rouge-l': {'f': 0.005655860767354014, 'p': 0.7333333333333333, 'r': 0.005655526992287918}}\n",
      "{'rouge-1': {'f': 0.1994134877556953, 'p': 0.8947368421052632, 'r': 0.11221122112211221}, 'rouge-2': {'f': 0.13584905511278036, 'p': 0.8372093023255814, 'r': 0.07392197125256673}, 'rouge-l': {'f': 0.045857272976083996, 'p': 0.5217391304347826, 'r': 0.04554079696394687}}\n",
      "{'rouge-1': {'f': 0.24685138304005486, 'p': 0.9074074074074074, 'r': 0.14285714285714285}, 'rouge-2': {'f': 0.17190082463307152, 'p': 0.8524590163934426, 'r': 0.09558823529411764}, 'rouge-l': {'f': 0.06183269970198755, 'p': 0.5806451612903226, 'r': 0.061224489795918366}}\n",
      "{'rouge-1': {'f': 0.13043478123969757, 'p': 0.8823529411764706, 'r': 0.07042253521126761}, 'rouge-2': {'f': 0.08006672134788442, 'p': 0.8275862068965517, 'r': 0.042068361086765996}, 'rouge-l': {'f': 0.03447169837573715, 'p': 0.7457627118644068, 'r': 0.03440187646598905}}\n",
      "{'rouge-1': {'f': 0.2987551838439421, 'p': 0.8571428571428571, 'r': 0.18090452261306533}, 'rouge-2': {'f': 0.1899441319222247, 'p': 0.7727272727272727, 'r': 0.10828025477707007}, 'rouge-l': {'f': 0.06780589795629888, 'p': 0.5777777777777777, 'r': 0.06701030927835051}}\n",
      "{'rouge-1': {'f': 0.18045112605574087, 'p': 0.9230769230769231, 'r': 0.1}, 'rouge-2': {'f': 0.12268518387284058, 'p': 0.8688524590163934, 'r': 0.0660024906600249}, 'rouge-l': {'f': 0.04191471046710082, 'p': 0.5806451612903226, 'r': 0.04171494785631518}}\n"
     ]
    },
    {
     "name": "stdout",
     "output_type": "stream",
     "text": [
      "{'rouge-1': {'f': 0.058968058326672665, 'p': 0.8888888888888888, 'r': 0.030495552731893267}, 'rouge-2': {'f': 0.028629856476270272, 'p': 0.75, 'r': 0.014593467685892982}, 'rouge-l': {'f': 0.013694483624471092, 'p': 0.7586206896551724, 'r': 0.013690105787181083}}\n",
      "{'rouge-1': {'f': 0.22790697458290968, 'p': 0.9245283018867925, 'r': 0.129973474801061}, 'rouge-2': {'f': 0.1587301571009206, 'p': 0.8870967741935484, 'r': 0.08716323296354993}, 'rouge-l': {'f': 0.060180446804944915, 'p': 0.6666666666666666, 'r': 0.059743954480796585}}\n",
      "{'rouge-1': {'f': 0.5552050433078248, 'p': 1.0, 'r': 0.38427947598253276}, 'rouge-2': {'f': 0.451476789639837, 'p': 0.9553571428571429, 'r': 0.2955801104972376}, 'rouge-l': {'f': 0.1758525206963592, 'p': 0.6347826086956522, 'r': 0.16743119266055045}}\n",
      "{'rouge-1': {'f': 0.043010752216007635, 'p': 0.8888888888888888, 'r': 0.02203856749311295}, 'rouge-2': {'f': 0.019886363370119207, 'p': 0.7368421052631579, 'r': 0.010079193664506839}, 'rouge-l': {'f': 0.008740421220866256, 'p': 0.7, 'r': 0.008739076154806492}}\n",
      "{'rouge-1': {'f': 0.006568144368678904, 'p': 0.5, 'r': 0.003305785123966942}, 'rouge-2': {'f': 0.001980197921282232, 'p': 0.2, 'r': 0.0009950248756218905}, 'rouge-l': {'f': 0.0036765817803778773, 'p': 0.6666666666666666, 'r': 0.003676470588235294}}\n",
      "{'rouge-1': {'f': 0.26382978469895885, 'p': 0.8857142857142857, 'r': 0.155}, 'rouge-2': {'f': 0.18823529213217996, 'p': 0.8421052631578947, 'r': 0.10596026490066225}, 'rouge-l': {'f': 0.07221553927525635, 'p': 0.6410256410256411, 'r': 0.07142857142857142}}\n",
      "{'rouge-1': {'f': 0.4725274686964136, 'p': 0.9148936170212766, 'r': 0.31851851851851853}, 'rouge-2': {'f': 0.4142857107206634, 'p': 0.8923076923076924, 'r': 0.26976744186046514}, 'rouge-l': {'f': 0.26049162871753573, 'p': 0.9393939393939394, 'r': 0.248}}\n",
      "{'rouge-1': {'f': 0.18592964639314669, 'p': 0.9024390243902439, 'r': 0.10364145658263306}, 'rouge-2': {'f': 0.13029315819536547, 'p': 0.851063829787234, 'r': 0.07054673721340388}, 'rouge-l': {'f': 0.05812706483046657, 'p': 0.72, 'r': 0.05778491171749599}}\n",
      "{'rouge-1': {'f': 0.23880596791160616, 'p': 0.9302325581395349, 'r': 0.136986301369863}, 'rouge-2': {'f': 0.15879016848224528, 'p': 0.875, 'r': 0.08731808731808732}, 'rouge-l': {'f': 0.0670588948235106, 'p': 0.72, 'r': 0.066543438077634}}\n",
      "{'rouge-1': {'f': 0.08913648914921517, 'p': 0.7619047619047619, 'r': 0.047337278106508875}, 'rouge-2': {'f': 0.05776173202309427, 'p': 0.6666666666666666, 'r': 0.03018867924528302}, 'rouge-l': {'f': 0.01983428866922032, 'p': 0.48, 'r': 0.019801980198019802}}\n",
      "{'rouge-1': {'f': 0.1566820260519442, 'p': 0.8947368421052632, 'r': 0.08585858585858586}, 'rouge-2': {'f': 0.10119047504468714, 'p': 0.8292682926829268, 'r': 0.05388272583201268}, 'rouge-l': {'f': 0.03607555523652013, 'p': 0.6190476190476191, 'r': 0.035961272475795295}}\n",
      "{'rouge-1': {'f': 0.01140684391815698, 'p': 0.6, 'r': 0.005758157389635317}, 'rouge-2': {'f': 0.004530011190051422, 'p': 0.3333333333333333, 'r': 0.002280501710376283}, 'rouge-l': {'f': 0.0051869934916302825, 'p': 0.7142857142857143, 'r': 0.005186721991701245}}\n",
      "{'rouge-1': {'f': 0.08069164182411614, 'p': 0.9333333333333333, 'r': 0.04216867469879518}, 'rouge-2': {'f': 0.049429657204817186, 'p': 0.8125, 'r': 0.025490196078431372}, 'rouge-l': {'f': 0.02875125468998261, 'p': 0.9411764705882353, 'r': 0.02872531418312388}}\n",
      "{'rouge-1': {'f': 0.4910179600803184, 'p': 0.8913043478260869, 'r': 0.33884297520661155}, 'rouge-2': {'f': 0.3999999963323959, 'p': 0.8268156424581006, 'r': 0.2638146167557932}, 'rouge-l': {'f': 0.16137378613133496, 'p': 0.47959183673469385, 'r': 0.15136876006441224}}\n",
      "{'rouge-1': {'f': 0.15986394402216672, 'p': 0.94, 'r': 0.08736059479553904}, 'rouge-2': {'f': 0.09735449623954538, 'p': 0.8214285714285714, 'r': 0.05174353205849269}, 'rouge-l': {'f': 0.033250014129292196, 'p': 0.5245901639344263, 'r': 0.033126293995859216}}\n",
      "{'rouge-1': {'f': 0.38095237763990936, 'p': 0.9090909090909091, 'r': 0.24096385542168675}, 'rouge-2': {'f': 0.2975999970173952, 'p': 0.8157894736842105, 'r': 0.18199608610567514}, 'rouge-l': {'f': 0.10349630438712246, 'p': 0.4307692307692308, 'r': 0.0994671403197158}}\n",
      "{'rouge-1': {'f': 0.12993039305688492, 'p': 0.875, 'r': 0.07017543859649122}, 'rouge-2': {'f': 0.07887323832350725, 'p': 0.6666666666666666, 'r': 0.041916167664670656}, 'rouge-l': {'f': 0.03653585030635122, 'p': 0.509090909090909, 'r': 0.03636363636363636}}\n",
      "{'rouge-1': {'f': 0.36526945787066584, 'p': 0.9104477611940298, 'r': 0.22846441947565543}, 'rouge-2': {'f': 0.28513238008271086, 'p': 0.8433734939759037, 'r': 0.1715686274509804}, 'rouge-l': {'f': 0.1354440154440731, 'p': 0.6333333333333333, 'r': 0.1310344827586207}}\n",
      "{'rouge-1': {'f': 0.25806451376989803, 'p': 0.9444444444444444, 'r': 0.14945054945054945}, 'rouge-2': {'f': 0.19711538264839132, 'p': 0.8913043478260869, 'r': 0.11081081081081082}, 'rouge-l': {'f': 0.08905198255712375, 'p': 0.7373737373737373, 'r': 0.08795180722891566}}\n",
      "{'rouge-1': {'f': 0.09635722572755355, 'p': 0.8541666666666666, 'r': 0.05105853051058531}, 'rouge-2': {'f': 0.054952999946023644, 'p': 0.6785714285714286, 'r': 0.028636021100226075}, 'rouge-l': {'f': 0.020320311043540647, 'p': 0.46875, 'r': 0.02028397565922921}}\n",
      "{'rouge-1': {'f': 0.11950790736512429, 'p': 0.8947368421052632, 'r': 0.064030131826742}, 'rouge-2': {'f': 0.06989853346301138, 'p': 0.7209302325581395, 'r': 0.03672985781990521}, 'rouge-l': {'f': 0.028555158573755113, 'p': 0.5306122448979592, 'r': 0.028477546549835708}}\n",
      "{'rouge-1': {'f': 0.23024054766004187, 'p': 0.9305555555555556, 'r': 0.13137254901960785}, 'rouge-2': {'f': 0.1702127641807815, 'p': 0.8636363636363636, 'r': 0.09440993788819876}, 'rouge-l': {'f': 0.0618301577461879, 'p': 0.5698924731182796, 'r': 0.061200923787528866}}\n",
      "{'rouge-1': {'f': 0.23934425996796563, 'p': 0.8902439024390244, 'r': 0.13825757575757575}, 'rouge-2': {'f': 0.16056910384892015, 'p': 0.7821782178217822, 'r': 0.08946772366930918}, 'rouge-l': {'f': 0.06076572839967542, 'p': 0.5132743362831859, 'r': 0.060041407867494824}}\n",
      "{'rouge-1': {'f': 0.1943573647204725, 'p': 0.8378378378378378, 'r': 0.1099290780141844}, 'rouge-2': {'f': 0.12710280219757186, 'p': 0.7555555555555555, 'r': 0.06938775510204082}, 'rouge-l': {'f': 0.042698640353448225, 'p': 0.4791666666666667, 'r': 0.0423963133640553}}\n",
      "{'rouge-1': {'f': 0.06882591022898261, 'p': 0.9444444444444444, 'r': 0.03571428571428571}, 'rouge-2': {'f': 0.033036848297541534, 'p': 0.65, 'r': 0.01694915254237288}, 'rouge-l': {'f': 0.020848068180633332, 'p': 0.7727272727272727, 'r': 0.020833333333333332}}\n",
      "{'rouge-1': {'f': 0.20136518584811705, 'p': 0.9672131147540983, 'r': 0.11238095238095239}, 'rouge-2': {'f': 0.1431818167174587, 'p': 0.9, 'r': 0.07777777777777778}, 'rouge-l': {'f': 0.06551755243894461, 'p': 0.7733333333333333, 'r': 0.06509539842873176}}\n",
      "{'rouge-1': {'f': 0.0041067760988999415, 'p': 0.5, 'r': 0.002061855670103093}, 'rouge-2': {'f': 0.0037267079756490903, 'p': 0.375, 'r': 0.0018726591760299626}, 'rouge-l': {'f': 0.004681292742080415, 'p': 0.7272727272727273, 'r': 0.004681100058513751}}\n",
      "{'rouge-1': {'f': 0.1784172643297552, 'p': 0.8611111111111112, 'r': 0.09951845906902086}, 'rouge-2': {'f': 0.12371133877144182, 'p': 0.7951807228915663, 'r': 0.06707317073170732}, 'rouge-l': {'f': 0.05154623279223363, 'p': 0.6022727272727273, 'r': 0.051207729468599035}}\n",
      "{'rouge-1': {'f': 0.1995565390484806, 'p': 0.9, 'r': 0.11221945137157108}, 'rouge-2': {'f': 0.12427745503980256, 'p': 0.7049180327868853, 'r': 0.06814580031695722}, 'rouge-l': {'f': 0.06803476841370136, 'p': 0.6666666666666666, 'r': 0.06741573033707865}}\n",
      "{'rouge-1': {'f': 0.1966101675573686, 'p': 0.90625, 'r': 0.11026615969581749}, 'rouge-2': {'f': 0.13114753946038402, 'p': 0.7894736842105263, 'r': 0.07151370679380215}, 'rouge-l': {'f': 0.057493887299988604, 'p': 0.6162790697674418, 'r': 0.05705059203444564}}\n",
      "{'rouge-1': {'f': 0.379999996682, 'p': 0.9047619047619048, 'r': 0.24050632911392406}, 'rouge-2': {'f': 0.286863267917077, 'p': 0.8294573643410853, 'r': 0.17341977309562398}, 'rouge-l': {'f': 0.12741989110004132, 'p': 0.5845070422535211, 'r': 0.12314540059347182}}\n",
      "{'rouge-1': {'f': 0.23505975867240206, 'p': 0.8939393939393939, 'r': 0.1353211009174312}, 'rouge-2': {'f': 0.1630434763659322, 'p': 0.7692307692307693, 'r': 0.0911854103343465}, 'rouge-l': {'f': 0.07623761855823616, 'p': 0.6111111111111112, 'r': 0.07523939808481532}}\n"
     ]
    },
    {
     "name": "stdout",
     "output_type": "stream",
     "text": [
      "{'rouge-1': {'f': 0.15946843690511145, 'p': 0.8888888888888888, 'r': 0.08759124087591241}, 'rouge-2': {'f': 0.11513859136937912, 'p': 0.7714285714285715, 'r': 0.06221198156682028}, 'rouge-l': {'f': 0.05985360852149261, 'p': 0.6521739130434783, 'r': 0.0594059405940594}}\n",
      "{'rouge-1': {'f': 0.26161789779743516, 'p': 0.95, 'r': 0.15169660678642716}, 'rouge-2': {'f': 0.19782608496807658, 'p': 0.883495145631068, 'r': 0.11138310893512852}, 'rouge-l': {'f': 0.06906847084289143, 'p': 0.5688073394495413, 'r': 0.06820682068206821}}\n",
      "{'rouge-1': {'f': 0.45768024715401784, 'p': 0.9605263157894737, 'r': 0.3004115226337449}, 'rouge-2': {'f': 0.3597430374698404, 'p': 0.8936170212765957, 'r': 0.225201072386059}, 'rouge-l': {'f': 0.17876750543804104, 'p': 0.7, 'r': 0.17114914425427874}}\n",
      "{'rouge-1': {'f': 0.1743772224622282, 'p': 0.9074074074074074, 'r': 0.09645669291338582}, 'rouge-2': {'f': 0.10998877537993729, 'p': 0.8032786885245902, 'r': 0.05903614457831325}, 'rouge-l': {'f': 0.04257582156086896, 'p': 0.5757575757575758, 'r': 0.042363433667781496}}\n",
      "{'rouge-1': {'f': 0.2983682956373852, 'p': 0.9142857142857143, 'r': 0.17827298050139276}, 'rouge-2': {'f': 0.22699386274059996, 'p': 0.8604651162790697, 'r': 0.13074204946996468}, 'rouge-l': {'f': 0.09607061308648593, 'p': 0.6555555555555556, 'r': 0.0944}}\n",
      "{'rouge-1': {'f': 0.11923076794201183, 'p': 0.8611111111111112, 'r': 0.0640495867768595}, 'rouge-2': {'f': 0.06436781523559255, 'p': 0.717948717948718, 'r': 0.03369434416365824}, 'rouge-l': {'f': 0.02338874307378707, 'p': 0.4666666666666667, 'r': 0.023333333333333334}}\n",
      "{'rouge-1': {'f': 0.17647058642539468, 'p': 0.8769230769230769, 'r': 0.0981067125645439}, 'rouge-2': {'f': 0.11892963185699372, 'p': 0.759493670886076, 'r': 0.06451612903225806}, 'rouge-l': {'f': 0.04267394171808132, 'p': 0.4943820224719101, 'r': 0.04238921001926782}}\n",
      "{'rouge-1': {'f': 0.1818181798177851, 'p': 0.8064516129032258, 'r': 0.10245901639344263}, 'rouge-2': {'f': 0.11458333163411462, 'p': 0.6111111111111112, 'r': 0.06321839080459771}, 'rouge-l': {'f': 0.06263675875429595, 'p': 0.575, 'r': 0.06199460916442048}}\n",
      "{'rouge-1': {'f': 0.12612612481063526, 'p': 0.8909090909090909, 'r': 0.06786703601108034}, 'rouge-2': {'f': 0.07165108943766318, 'p': 0.7540983606557377, 'r': 0.03761242845461979}, 'rouge-l': {'f': 0.03147655608759769, 'p': 0.5942028985507246, 'r': 0.03139356814701378}}\n",
      "{'rouge-1': {'f': 0.09185803655161892, 'p': 0.8461538461538461, 'r': 0.04856512141280353}, 'rouge-2': {'f': 0.04630969531503872, 'p': 0.5714285714285714, 'r': 0.024132730015082957}, 'rouge-l': {'f': 0.022996216942441812, 'p': 0.5333333333333333, 'r': 0.02295552367288379}}\n",
      "{'rouge-1': {'f': 0.3290488402693612, 'p': 0.927536231884058, 'r': 0.2}, 'rouge-2': {'f': 0.2411128261112399, 'p': 0.896551724137931, 'r': 0.1392857142857143}, 'rouge-l': {'f': 0.10658693153253555, 'p': 0.7582417582417582, 'r': 0.10486322188449848}}\n",
      "{'rouge-1': {'f': 0.31512604765173724, 'p': 0.9493670886075949, 'r': 0.1889168765743073}, 'rouge-2': {'f': 0.23184713153474792, 'p': 0.91, 'r': 0.13284671532846715}, 'rouge-l': {'f': 0.08653300940827578, 'p': 0.6226415094339622, 'r': 0.08516129032258064}}\n",
      "{'rouge-1': {'f': 0.16167664514562197, 'p': 0.9473684210526315, 'r': 0.088379705400982}, 'rouge-2': {'f': 0.11141060081361416, 'p': 0.8985507246376812, 'r': 0.05938697318007663}, 'rouge-l': {'f': 0.04011577316526033, 'p': 0.6301369863013698, 'r': 0.03996524761077324}}\n",
      "{'rouge-1': {'f': 0.2246835422362202, 'p': 0.9594594594594594, 'r': 0.12724014336917563}, 'rouge-2': {'f': 0.16014897417882992, 'p': 0.9052631578947369, 'r': 0.08784473953013279}, 'rouge-l': {'f': 0.0547116389691494, 'p': 0.6262626262626263, 'r': 0.05433829973707274}}\n",
      "{'rouge-1': {'f': 0.14850299253595328, 'p': 0.9253731343283582, 'r': 0.08072916666666667}, 'rouge-2': {'f': 0.09234661504832248, 'p': 0.8588235294117647, 'r': 0.04879679144385027}, 'rouge-l': {'f': 0.0381478184779019, 'p': 0.7558139534883721, 'r': 0.038056206088992975}}\n",
      "{'rouge-1': {'f': 0.26067415493760887, 'p': 0.9508196721311475, 'r': 0.15104166666666666}, 'rouge-2': {'f': 0.17771508985364476, 'p': 0.875, 'r': 0.0989010989010989}, 'rouge-l': {'f': 0.06723625233737789, 'p': 0.684931506849315, 'r': 0.06666666666666667}}\n",
      "{'rouge-1': {'f': 0.3219315867549766, 'p': 0.963855421686747, 'r': 0.1932367149758454}, 'rouge-2': {'f': 0.2490842467410002, 'p': 0.918918918918919, 'r': 0.1440677966101695}, 'rouge-l': {'f': 0.0889736727426241, 'p': 0.6206896551724138, 'r': 0.08748481166464156}}\n",
      "{'rouge-1': {'f': 0.3468013438476233, 'p': 0.9626168224299065, 'r': 0.21149897330595482}, 'rouge-2': {'f': 0.24485798010431292, 'p': 0.9398496240601504, 'r': 0.14076576576576577}, 'rouge-l': {'f': 0.08251982216824985, 'p': 0.6071428571428571, 'r': 0.08126195028680688}}\n",
      "{'rouge-1': {'f': 0.1542227646917927, 'p': 0.9264705882352942, 'r': 0.08411214953271028}, 'rouge-2': {'f': 0.09464161346034736, 'p': 0.8831168831168831, 'r': 0.05}, 'rouge-l': {'f': 0.03090002541167966, 'p': 0.5875, 'r': 0.03081967213114754}}\n",
      "{'rouge-1': {'f': 0.05213764285098855, 'p': 0.9615384615384616, 'r': 0.02679528403001072}, 'rouge-2': {'f': 0.02094818053332588, 'p': 0.7307692307692307, 'r': 0.010626398210290829}, 'rouge-l': {'f': 0.01185978947654512, 'p': 0.8888888888888888, 'r': 0.011857707509881422}}\n",
      "{'rouge-1': {'f': 0.04533565774600204, 'p': 0.896551724137931, 'r': 0.023255813953488372}, 'rouge-2': {'f': 0.021857923218921802, 'p': 0.7741935483870968, 'r': 0.011085450346420323}, 'rouge-l': {'f': 0.011273988299815779, 'p': 0.875, 'r': 0.011272141706924315}}\n",
      "{'rouge-1': {'f': 0.196339432091827, 'p': 0.7866666666666666, 'r': 0.11216730038022814}, 'rouge-2': {'f': 0.12316715364558459, 'p': 0.6237623762376238, 'r': 0.06832971800433839}, 'rouge-l': {'f': 0.0604799215455945, 'p': 0.6132075471698113, 'r': 0.05996309963099631}}\n",
      "{'rouge-1': {'f': 0.2233856861668632, 'p': 0.5614035087719298, 'r': 0.1394335511982571}, 'rouge-2': {'f': 0.15384615085266481, 'p': 0.41975308641975306, 'r': 0.09418282548476455}, 'rouge-l': {'f': 0.047591127668710514, 'p': 0.0425531914893617, 'r': 0.07225806451612904}}\n",
      "{'rouge-1': {'f': 0.31023102039102923, 'p': 0.9591836734693877, 'r': 0.18503937007874016}, 'rouge-2': {'f': 0.2420091301392017, 'p': 0.9217391304347826, 'r': 0.1392904073587385}, 'rouge-l': {'f': 0.1124962469225058, 'p': 0.811965811965812, 'r': 0.11072261072261072}}\n",
      "{'rouge-1': {'f': 0.2927374276529197, 'p': 0.9924242424242424, 'r': 0.17169069462647443}, 'rouge-2': {'f': 0.2319702581155705, 'p': 0.968944099378882, 'r': 0.13175675675675674}, 'rouge-l': {'f': 0.12131651309298885, 'p': 0.9386503067484663, 'r': 0.11962470680218922}}\n",
      "{'rouge-1': {'f': 0.18482758448460404, 'p': 0.9710144927536232, 'r': 0.10213414634146341}, 'rouge-2': {'f': 0.1291479807615516, 'p': 0.9230769230769231, 'r': 0.06943105110896818}, 'rouge-l': {'f': 0.04156851577464597, 'p': 0.5802469135802469, 'r': 0.04137323943661972}}\n",
      "{'rouge-1': {'f': 0.40633245058806333, 'p': 1.0, 'r': 0.25496688741721857}, 'rouge-2': {'f': 0.312949637526008, 'p': 0.9456521739130435, 'r': 0.1875}, 'rouge-l': {'f': 0.10058401427128862, 'p': 0.5454545454545454, 'r': 0.09800362976406533}}\n",
      "{'rouge-1': {'f': 0.16743119103158405, 'p': 0.9358974358974359, 'r': 0.09193954659949623}, 'rouge-2': {'f': 0.12536443018538196, 'p': 0.8958333333333334, 'r': 0.06739811912225706}, 'rouge-l': {'f': 0.057757763356441165, 'p': 0.7959183673469388, 'r': 0.05747973470891673}}\n",
      "{'rouge-1': {'f': 0.0983284159598333, 'p': 0.9803921568627451, 'r': 0.051759834368530024}, 'rouge-2': {'f': 0.06213364528769573, 'p': 0.8983050847457628, 'r': 0.03217972070431087}, 'rouge-l': {'f': 0.025086133018138078, 'p': 0.7213114754098361, 'r': 0.025056947608200455}}\n",
      "{'rouge-1': {'f': 0.19428571052146942, 'p': 0.38636363636363635, 'r': 0.1297709923664122}, 'rouge-2': {'f': 0.08163264967063738, 'p': 0.18867924528301888, 'r': 0.052083333333333336}, 'rouge-l': {'f': 0.059972730764598435, 'p': 0.21495327102803738, 'r': 0.05707196029776675}}\n",
      "{'rouge-1': {'f': 0.5144927497324617, 'p': 0.9726027397260274, 'r': 0.3497536945812808}, 'rouge-2': {'f': 0.4149999965125, 'p': 0.9222222222222223, 'r': 0.267741935483871}, 'rouge-l': {'f': 0.15524253470565968, 'p': 0.5268817204301075, 'r': 0.14714714714714713}}\n"
     ]
    },
    {
     "name": "stdout",
     "output_type": "stream",
     "text": [
      "{'rouge-1': {'f': 0.26890756054630677, 'p': 0.927536231884058, 'r': 0.15724815724815724}, 'rouge-2': {'f': 0.20202019997792814, 'p': 0.875, 'r': 0.11419249592169657}, 'rouge-l': {'f': 0.10918522296434745, 'p': 0.9012345679012346, 'r': 0.10782865583456426}}\n",
      "{'rouge-1': {'f': 0.06633906567477016, 'p': 0.9642857142857143, 'r': 0.03435114503816794}, 'rouge-2': {'f': 0.037119524448765415, 'p': 0.8620689655172413, 'r': 0.01896813353566009}, 'rouge-l': {'f': 0.011843498999042064, 'p': 0.5666666666666667, 'r': 0.011838440111420613}}\n",
      "{'rouge-1': {'f': 0.23400935823686175, 'p': 0.9615384615384616, 'r': 0.13321492007104796}, 'rouge-2': {'f': 0.15652173755851478, 'p': 0.9101123595505618, 'r': 0.08562367864693446}, 'rouge-l': {'f': 0.064380425067782, 'p': 0.7282608695652174, 'r': 0.06393129770992366}}\n",
      "{'rouge-1': {'f': 0.6618704990756172, 'p': 0.9583333333333334, 'r': 0.5054945054945055}, 'rouge-2': {'f': 0.6220095649713835, 'p': 0.948905109489051, 'r': 0.4626334519572954}, 'rouge-l': {'f': 0.4232564037902421, 'p': 0.9436619718309859, 'r': 0.3872832369942196}}\n",
      "{'rouge-1': {'f': 0.23235293910034607, 'p': 0.9875, 'r': 0.13166666666666665}, 'rouge-2': {'f': 0.17618586469113637, 'p': 0.9285714285714286, 'r': 0.09732620320855614}, 'rouge-l': {'f': 0.0701693319704501, 'p': 0.6868686868686869, 'r': 0.06952965235173825}}\n",
      "{'rouge-1': {'f': 0.19915848343545733, 'p': 0.9726027397260274, 'r': 0.1109375}, 'rouge-2': {'f': 0.130198913682511, 'p': 0.9113924050632911, 'r': 0.07010710808179163}, 'rouge-l': {'f': 0.06306625065672462, 'p': 0.95, 'r': 0.0628099173553719}}\n",
      "{'rouge-1': {'f': 0.031007751611277286, 'p': 0.9333333333333333, 'r': 0.015765765765765764}, 'rouge-2': {'f': 0.013245032915880885, 'p': 0.6666666666666666, 'r': 0.006688963210702341}, 'rouge-l': {'f': 0.006196389705118724, 'p': 0.625, 'r': 0.006195786864931847}}\n",
      "{'rouge-1': {'f': 0.24242423904318158, 'p': 0.5625, 'r': 0.15450643776824036}, 'rouge-2': {'f': 0.11607142572474895, 'p': 0.33766233766233766, 'r': 0.07008086253369272}, 'rouge-l': {'f': 0.09310226715369196, 'p': 0.45, 'r': 0.09022556390977443}}\n",
      "{'rouge-1': {'f': 0.16314199233408785, 'p': 0.9152542372881356, 'r': 0.08955223880597014}, 'rouge-2': {'f': 0.12475633396089585, 'p': 0.8767123287671232, 'r': 0.06715634837355719}, 'rouge-l': {'f': 0.05561725647540347, 'p': 0.7466666666666667, 'r': 0.05533596837944664}}\n",
      "{'rouge-1': {'f': 0.33210331815010996, 'p': 0.9507042253521126, 'r': 0.20119225037257824}, 'rouge-2': {'f': 0.25657370280235553, 'p': 0.930635838150289, 'r': 0.1487985212569316}, 'rouge-l': {'f': 0.13915213359298786, 'p': 0.9428571428571428, 'r': 0.13670256835128416}}\n",
      "{'rouge-1': {'f': 0.46710525937521646, 'p': 0.922077922077922, 'r': 0.31277533039647576}, 'rouge-2': {'f': 0.402843598433099, 'p': 0.9042553191489362, 'r': 0.25914634146341464}, 'rouge-l': {'f': 0.2585011694459746, 'p': 0.9166666666666666, 'r': 0.24581005586592178}}\n",
      "{'rouge-1': {'f': 0.27868852212115025, 'p': 0.9659090909090909, 'r': 0.16283524904214558}, 'rouge-2': {'f': 0.21367521165025297, 'p': 0.9345794392523364, 'r': 0.12062726176115803}, 'rouge-l': {'f': 0.06800887218266162, 'p': 0.5462962962962963, 'r': 0.0671217292377702}}\n",
      "{'rouge-1': {'f': 0.22153845947342016, 'p': 0.9473684210526315, 'r': 0.1254355400696864}, 'rouge-2': {'f': 0.13953488228569097, 'p': 0.896551724137931, 'r': 0.07565470417070805}, 'rouge-l': {'f': 0.04746337787256718, 'p': 0.6292134831460674, 'r': 0.047217537942664416}}\n",
      "{'rouge-1': {'f': 0.1207547158244057, 'p': 0.9795918367346939, 'r': 0.064343163538874}, 'rouge-2': {'f': 0.07389558154360092, 'p': 0.9019607843137255, 'r': 0.038525963149078725}, 'rouge-l': {'f': 0.03837423643447788, 'p': 0.9245283018867925, 'r': 0.03831118060985145}}\n",
      "{'rouge-1': {'f': 0.3046594955511877, 'p': 0.9659090909090909, 'r': 0.18085106382978725}, 'rouge-2': {'f': 0.23622047020514456, 'p': 0.9210526315789473, 'r': 0.13548387096774195}, 'rouge-l': {'f': 0.1034206589249039, 'p': 0.7372881355932204, 'r': 0.10175438596491228}}\n",
      "{'rouge-1': {'f': 0.2599704555325105, 'p': 0.946236559139785, 'r': 0.1506849315068493}, 'rouge-2': {'f': 0.21193232208457666, 'p': 0.9153846153846154, 'r': 0.11983887210473314}, 'rouge-l': {'f': 0.11291329624939068, 'p': 0.927536231884058, 'r': 0.11149825783972125}}\n",
      "{'rouge-1': {'f': 0.21065989651282568, 'p': 0.9540229885057471, 'r': 0.11840228245363767}, 'rouge-2': {'f': 0.15014577109537694, 'p': 0.9196428571428571, 'r': 0.08174603174603175}, 'rouge-l': {'f': 0.07459702033677917, 'p': 0.865546218487395, 'r': 0.07410071942446043}}\n",
      "{'rouge-1': {'f': 0.39655172085612367, 'p': 0.9583333333333334, 'r': 0.25}, 'rouge-2': {'f': 0.31641790760414346, 'p': 0.9217391304347826, 'r': 0.19099099099099098}, 'rouge-l': {'f': 0.12871621816288473, 'p': 0.6271186440677966, 'r': 0.12478920741989882}}\n",
      "{'rouge-1': {'f': 0.3105590027736198, 'p': 0.704225352112676, 'r': 0.199203187250996}, 'rouge-2': {'f': 0.22466960059257898, 'p': 0.6296296296296297, 'r': 0.13672922252010725}, 'rouge-l': {'f': 0.09801739479164495, 'p': 0.4642857142857143, 'r': 0.0948905109489051}}\n",
      "{'rouge-1': {'f': 0.46277665631762405, 'p': 0.9663865546218487, 'r': 0.30423280423280424}, 'rouge-2': {'f': 0.40970350064512034, 'p': 0.9440993788819876, 'r': 0.26161790017211706}, 'rouge-l': {'f': 0.2002062116723508, 'p': 0.7034883720930233, 'r': 0.19025157232704404}}\n"
     ]
    }
   ],
   "source": [
    "# Rouge scores for KL Summary\n",
    "for i in range(308):\n",
    "    id_i = i+1\n",
    "    kl_summ = es.get(index=\"duc_data\", doc_type='test', id=id_i)['_source']['KL_Summary']\n",
    "    gold_summ = es.get(index=\"duc_data\", doc_type='test', id=id_i)['_source']['gold_summary']\n",
    "    ops = check_output([\"rouge.exe\", kl_summ, gold_summ])\n",
    "    print(json.loads(ops.decode('utf-8'))[0])"
   ]
  },
  {
   "cell_type": "code",
   "execution_count": 115,
   "metadata": {},
   "outputs": [
    {
     "name": "stdout",
     "output_type": "stream",
     "text": [
      "{'rouge-1': {'f': 0.2671854710207406, 'p': 0.9626168224299065, 'r': 0.15512048192771086}, 'rouge-2': {'f': 0.20662460373846894, 'p': 0.9492753623188406, 'r': 0.11592920353982301}, 'rouge-l': {'f': 0.1049561381947785, 'p': 0.9714285714285714, 'r': 0.1038961038961039}}\n",
      "{'rouge-1': {'f': 0.7535211219837333, 'p': 0.9553571428571429, 'r': 0.622093023255814}, 'rouge-2': {'f': 0.6635513973163596, 'p': 0.9466666666666667, 'r': 0.5107913669064749}, 'rouge-l': {'f': 0.48189499239126865, 'p': 0.9683544303797469, 'r': 0.43714285714285717}}\n",
      "{'rouge-1': {'f': 0.3478260839313222, 'p': 0.9361702127659575, 'r': 0.21359223300970873}, 'rouge-2': {'f': 0.29620252894725213, 'p': 0.9212598425196851, 'r': 0.17647058823529413}, 'rouge-l': {'f': 0.1672250847945494, 'p': 0.9555555555555556, 'r': 0.16329113924050634}}\n",
      "{'rouge-1': {'f': 0.5058823490209343, 'p': 0.945054945054945, 'r': 0.3453815261044177}, 'rouge-2': {'f': 0.3892100159495993, 'p': 0.926605504587156, 'r': 0.24634146341463414}, 'rouge-l': {'f': 0.2318585466562926, 'p': 0.954954954954955, 'r': 0.22268907563025211}}\n",
      "{'rouge-1': {'f': 0.3838862527071495, 'p': 0.9529411764705882, 'r': 0.2403560830860534}, 'rouge-2': {'f': 0.30171072823704986, 'p': 0.9326923076923077, 'r': 0.17996289424860853}, 'rouge-l': {'f': 0.17452716240644262, 'p': 0.963302752293578, 'r': 0.17017828200972449}}\n",
      "{'rouge-1': {'f': 0.47887323570783585, 'p': 0.9659090909090909, 'r': 0.31835205992509363}, 'rouge-2': {'f': 0.37757009025794397, 'p': 0.9439252336448598, 'r': 0.23598130841121495}, 'rouge-l': {'f': 0.21830752866295433, 'p': 0.9545454545454546, 'r': 0.21042084168336672}}\n",
      "{'rouge-1': {'f': 0.3176470560719723, 'p': 0.9642857142857143, 'r': 0.19014084507042253}, 'rouge-2': {'f': 0.23379923539279496, 'p': 0.92, 'r': 0.1339155749636099}, 'rouge-l': {'f': 0.1226516722761194, 'p': 0.9509803921568627, 'r': 0.12094763092269327}}\n",
      "{'rouge-1': {'f': 0.38616714375337396, 'p': 0.9571428571428572, 'r': 0.24187725631768953}, 'rouge-2': {'f': 0.2930402904114506, 'p': 0.9411764705882353, 'r': 0.1735357917570499}, 'rouge-l': {'f': 0.1469764430282488, 'p': 0.9418604651162791, 'r': 0.14412811387900357}}\n",
      "{'rouge-1': {'f': 0.3421052602789561, 'p': 0.9811320754716981, 'r': 0.20717131474103587}, 'rouge-2': {'f': 0.2378854602937181, 'p': 0.9152542372881356, 'r': 0.13670886075949368}, 'rouge-l': {'f': 0.12950108701915947, 'p': 0.95, 'r': 0.12751677852348994}}\n",
      "{'rouge-1': {'f': 0.45086704840656233, 'p': 0.9512195121951219, 'r': 0.29545454545454547}, 'rouge-2': {'f': 0.3582089520734713, 'p': 0.9142857142857143, 'r': 0.22273781902552203}, 'rouge-l': {'f': 0.21127184721979173, 'p': 0.9532710280373832, 'r': 0.204}}\n",
      "{'rouge-1': {'f': 0.46085010823876804, 'p': 0.9716981132075472, 'r': 0.3020527859237537}, 'rouge-2': {'f': 0.36615384299095866, 'p': 0.9296875, 'r': 0.22796934865900384}, 'rouge-l': {'f': 0.21418992928414896, 'p': 0.9538461538461539, 'r': 0.20666666666666667}}\n",
      "{'rouge-1': {'f': 0.34042552896713224, 'p': 0.9473684210526315, 'r': 0.207492795389049}, 'rouge-2': {'f': 0.2615155993797704, 'p': 0.9361702127659575, 'r': 0.15198618307426598}, 'rouge-l': {'f': 0.14052180924389598, 'p': 0.9595959595959596, 'r': 0.1380813953488372}}\n",
      "{'rouge-1': {'f': 0.48899755121980387, 'p': 0.9615384615384616, 'r': 0.32786885245901637}, 'rouge-2': {'f': 0.396039600609254, 'p': 0.9302325581395349, 'r': 0.25157232704402516}, 'rouge-l': {'f': 0.24771508613344012, 'p': 0.9624060150375939, 'r': 0.23703703703703705}}\n",
      "{'rouge-1': {'f': 0.38518518189739376, 'p': 0.9285714285714286, 'r': 0.24299065420560748}, 'rouge-2': {'f': 0.2810304423513539, 'p': 0.9090909090909091, 'r': 0.16620498614958448}, 'rouge-l': {'f': 0.1486776159190356, 'p': 0.9420289855072463, 'r': 0.14573991031390135}}\n",
      "{'rouge-1': {'f': 0.2668863237386993, 'p': 0.9310344827586207, 'r': 0.15576923076923077}, 'rouge-2': {'f': 0.1970649875752102, 'p': 0.9038461538461539, 'r': 0.11058823529411765}, 'rouge-l': {'f': 0.10466025526345489, 'p': 0.9444444444444444, 'r': 0.10355329949238579}}\n",
      "{'rouge-1': {'f': 0.3320463292004443, 'p': 0.9662921348314607, 'r': 0.20046620046620048}, 'rouge-2': {'f': 0.2740384590698965, 'p': 0.95, 'r': 0.1601123595505618}, 'rouge-l': {'f': 0.13610547239755663, 'p': 0.9590163934426229, 'r': 0.13386727688787187}}\n",
      "{'rouge-1': {'f': 0.445497626765796, 'p': 0.9591836734693877, 'r': 0.29012345679012347}, 'rouge-2': {'f': 0.3655913947089318, 'p': 0.937007874015748, 'r': 0.22709923664122136}, 'rouge-l': {'f': 0.20403386993614744, 'p': 0.9615384615384616, 'r': 0.19747235387045814}}\n",
      "{'rouge-1': {'f': 0.3669250615064533, 'p': 0.9594594594594594, 'r': 0.2268370607028754}, 'rouge-2': {'f': 0.30956521467971276, 'p': 0.956989247311828, 'r': 0.18464730290456433}, 'rouge-l': {'f': 0.15909389178104913, 'p': 0.9583333333333334, 'r': 0.155668358714044}}\n",
      "{'rouge-1': {'f': 0.4079601956416921, 'p': 0.9534883720930233, 'r': 0.25949367088607594}, 'rouge-2': {'f': 0.32907347953128036, 'p': 0.9363636363636364, 'r': 0.1996124031007752}, 'rouge-l': {'f': 0.1839974259022892, 'p': 0.9553571428571429, 'r': 0.17892976588628762}}\n",
      "{'rouge-1': {'f': 0.22988505536126144, 'p': 0.958904109589041, 'r': 0.13059701492537312}, 'rouge-2': {'f': 0.17311608794803407, 'p': 0.9444444444444444, 'r': 0.0952914798206278}, 'rouge-l': {'f': 0.08366955176393301, 'p': 0.9565217391304348, 'r': 0.08309726156751653}}\n",
      "{'rouge-1': {'f': 0.342424239487787, 'p': 0.9576271186440678, 'r': 0.20848708487084872}, 'rouge-2': {'f': 0.22262118281649582, 'p': 0.9323308270676691, 'r': 0.12640163098878696}, 'rouge-l': {'f': 0.11301515441782033, 'p': 0.9626865671641791, 'r': 0.11168831168831168}}\n",
      "{'rouge-1': {'f': 0.6492537268581533, 'p': 0.9560439560439561, 'r': 0.4915254237288136}, 'rouge-2': {'f': 0.5478036134364256, 'p': 0.9380530973451328, 'r': 0.38686131386861317}, 'rouge-l': {'f': 0.3730355380255762, 'p': 0.9576271186440678, 'r': 0.345565749235474}}\n",
      "{'rouge-1': {'f': 0.060453399823360336, 'p': 0.8571428571428571, 'r': 0.031331592689295036}, 'rouge-2': {'f': 0.03603603562445328, 'p': 0.8571428571428571, 'r': 0.018404907975460124}, 'rouge-l': {'f': 0.017225204459628447, 'p': 0.8666666666666667, 'r': 0.017218543046357615}}\n",
      "{'rouge-1': {'f': 0.5399239502956528, 'p': 0.9466666666666667, 'r': 0.3776595744680851}, 'rouge-2': {'f': 0.46153845782183794, 'p': 0.9354838709677419, 'r': 0.30633802816901406}, 'rouge-l': {'f': 0.29579894115608524, 'p': 0.9595959595959596, 'r': 0.27941176470588236}}\n",
      "{'rouge-1': {'f': 0.5120772907839156, 'p': 0.9636363636363636, 'r': 0.34868421052631576}, 'rouge-2': {'f': 0.4062499966173828, 'p': 0.9420289855072463, 'r': 0.2589641434262948}, 'rouge-l': {'f': 0.2346221188898192, 'p': 0.9571428571428572, 'r': 0.22521008403361345}}\n",
      "{'rouge-1': {'f': 0.4382871501462481, 'p': 0.9666666666666667, 'r': 0.28338762214983715}, 'rouge-2': {'f': 0.3484087072328701, 'p': 0.9541284403669725, 'r': 0.21311475409836064}, 'rouge-l': {'f': 0.19770996440659155, 'p': 0.9636363636363636, 'r': 0.19168173598553345}}\n",
      "{'rouge-1': {'f': 0.35597189393985607, 'p': 0.9620253164556962, 'r': 0.21839080459770116}, 'rouge-2': {'f': 0.2919937179399117, 'p': 0.9393939393939394, 'r': 0.17286245353159851}, 'rouge-l': {'f': 0.16126320626816676, 'p': 0.9603960396039604, 'r': 0.15772357723577235}}\n",
      "{'rouge-1': {'f': 0.4042553158297024, 'p': 0.9620253164556962, 'r': 0.2558922558922559}, 'rouge-2': {'f': 0.3259005117376556, 'p': 0.95, 'r': 0.19668737060041408}, 'rouge-l': {'f': 0.17905081079032198, 'p': 0.9607843137254902, 'r': 0.17437722419928825}}\n",
      "{'rouge-1': {'f': 0.2921348288715062, 'p': 0.9558823529411765, 'r': 0.1724137931034483}, 'rouge-2': {'f': 0.20895522189240368, 'p': 0.9333333333333333, 'r': 0.11764705882352941}, 'rouge-l': {'f': 0.11036450556806178, 'p': 0.9605263157894737, 'r': 0.10911808669656203}}\n",
      "{'rouge-1': {'f': 0.5185185145618046, 'p': 0.9545454545454546, 'r': 0.3559322033898305}, 'rouge-2': {'f': 0.4412811351770495, 'p': 0.9323308270676691, 'r': 0.289044289044289}, 'rouge-l': {'f': 0.2787008764004976, 'p': 0.9635036496350365, 'r': 0.26452905811623245}}\n",
      "{'rouge-1': {'f': 0.29437229177105007, 'p': 0.9577464788732394, 'r': 0.17391304347826086}, 'rouge-2': {'f': 0.2209790189054135, 'p': 0.9404761904761905, 'r': 0.12519809825673534}, 'rouge-l': {'f': 0.11627739233892685, 'p': 0.9647058823529412, 'r': 0.11484593837535013}}\n"
     ]
    },
    {
     "name": "stdout",
     "output_type": "stream",
     "text": [
      "{'rouge-1': {'f': 0.28235293861824223, 'p': 0.9375, 'r': 0.16620498614958448}, 'rouge-2': {'f': 0.20668692809489939, 'p': 0.918918918918919, 'r': 0.11643835616438356}, 'rouge-l': {'f': 0.1121012418219602, 'p': 0.9466666666666667, 'r': 0.11076443057722309}}\n",
      "{'rouge-1': {'f': 0.02173913021975426, 'p': 0.01098901098901099, 'r': 1.0}, 'rouge-2': {'f': 0.0, 'p': 0.0, 'r': 0.0}, 'rouge-l': {'f': 0.00862132478951945, 'p': 0.008620689655172414, 'r': 1.0}}\n",
      "{'rouge-1': {'f': 0.3153153125375376, 'p': 0.9459459459459459, 'r': 0.1891891891891892}, 'rouge-2': {'f': 0.25806451375237577, 'p': 0.9361702127659575, 'r': 0.14965986394557823}, 'rouge-l': {'f': 0.13837059813344543, 'p': 0.9578947368421052, 'r': 0.13602391629297458}}\n",
      "{'rouge-1': {'f': 0.4573002718375339, 'p': 0.9540229885057471, 'r': 0.3007246376811594}, 'rouge-2': {'f': 0.34305317018026477, 'p': 0.9090909090909091, 'r': 0.21141649048625794}, 'rouge-l': {'f': 0.20461097197226666, 'p': 0.9487179487179487, 'r': 0.19786096256684493}}\n",
      "{'rouge-1': {'f': 0.2946428545061384, 'p': 0.9428571428571428, 'r': 0.1746031746031746}, 'rouge-2': {'f': 0.22583731842446833, 'p': 0.921875, 'r': 0.128680479825518}, 'rouge-l': {'f': 0.12137717319288258, 'p': 0.9541984732824428, 'r': 0.11973180076628352}}\n",
      "{'rouge-1': {'f': 0.39900249045366637, 'p': 0.9523809523809523, 'r': 0.25236593059936907}, 'rouge-2': {'f': 0.3239669393017417, 'p': 0.9423076923076923, 'r': 0.19560878243512975}, 'rouge-l': {'f': 0.18789081781007333, 'p': 0.963302752293578, 'r': 0.1826086956521739}}\n",
      "{'rouge-1': {'f': 0.570605183145446, 'p': 0.9611650485436893, 'r': 0.4057377049180328}, 'rouge-2': {'f': 0.46327683242235634, 'p': 0.9318181818181818, 'r': 0.3082706766917293}, 'rouge-l': {'f': 0.2943032464411316, 'p': 0.9555555555555556, 'r': 0.27801724137931033}}\n",
      "{'rouge-1': {'f': 0.23170731490093535, 'p': 0.9344262295081968, 'r': 0.13225058004640372}, 'rouge-2': {'f': 0.15523932573441623, 'p': 0.9090909090909091, 'r': 0.08486562942008487}, 'rouge-l': {'f': 0.0808354750241406, 'p': 0.9411764705882353, 'r': 0.08030112923462986}}\n",
      "{'rouge-1': {'f': 0.4292237408185819, 'p': 0.9591836734693877, 'r': 0.27647058823529413}, 'rouge-2': {'f': 0.35045316917986336, 'p': 0.943089430894309, 'r': 0.21521335807050093}, 'rouge-l': {'f': 0.2077553809717715, 'p': 0.9689922480620154, 'r': 0.20096463022508038}}\n",
      "{'rouge-1': {'f': 0.6094674512727146, 'p': 0.9537037037037037, 'r': 0.44782608695652176}, 'rouge-2': {'f': 0.5232558099468932, 'p': 0.9440559440559441, 'r': 0.36193029490616624}, 'rouge-l': {'f': 0.32560792713179315, 'p': 0.9659863945578231, 'r': 0.3053763440860215}}\n",
      "{'rouge-1': {'f': 0.47382919731773027, 'p': 0.9347826086956522, 'r': 0.3173431734317343}, 'rouge-2': {'f': 0.4042933776051665, 'p': 0.9186991869918699, 'r': 0.2591743119266055}, 'rouge-l': {'f': 0.22707880207468667, 'p': 0.9457364341085271, 'r': 0.2182468694096601}}\n",
      "{'rouge-1': {'f': 0.14988290251556255, 'p': 0.9411764705882353, 'r': 0.08142493638676845}, 'rouge-2': {'f': 0.10264385589129495, 'p': 0.9428571428571428, 'r': 0.054276315789473686}, 'rouge-l': {'f': 0.049984929768794005, 'p': 0.9444444444444444, 'r': 0.04985337243401759}}\n",
      "{'rouge-1': {'f': 0.5042016767993962, 'p': 0.96, 'r': 0.3418803418803419}, 'rouge-2': {'f': 0.4236311204341868, 'p': 0.9423076923076923, 'r': 0.2732342007434944}, 'rouge-l': {'f': 0.2662654576586741, 'p': 0.968944099378882, 'r': 0.25365853658536586}}\n",
      "{'rouge-1': {'f': 0.37765957133898265, 'p': 0.9726027397260274, 'r': 0.23432343234323433}, 'rouge-2': {'f': 0.29491525160494114, 'p': 0.9456521739130435, 'r': 0.1746987951807229}, 'rouge-l': {'f': 0.15502841193694153, 'p': 0.9473684210526315, 'r': 0.15177065767284992}}\n",
      "{'rouge-1': {'f': 0.2228047161367232, 'p': 0.9444444444444444, 'r': 0.1263001485884101}, 'rouge-2': {'f': 0.17133163530241197, 'p': 0.926605504587156, 'r': 0.09439252336448598}, 'rouge-l': {'f': 0.09041638287387971, 'p': 0.9557522123893806, 'r': 0.08970099667774087}}\n",
      "{'rouge-1': {'f': 0.3356401355241796, 'p': 0.9603960396039604, 'r': 0.20335429769392033}, 'rouge-2': {'f': 0.267108165359877, 'p': 0.952755905511811, 'r': 0.15532734274711169}, 'rouge-l': {'f': 0.14215072592955671, 'p': 0.9612403100775194, 'r': 0.13963963963963963}}\n",
      "{'rouge-1': {'f': 0.2832116763180138, 'p': 0.9603960396039604, 'r': 0.1660958904109589}, 'rouge-2': {'f': 0.21818181613932233, 'p': 0.9448818897637795, 'r': 0.12332990750256938}, 'rouge-l': {'f': 0.11636499138269883, 'p': 0.9612403100775194, 'r': 0.11492122335495829}}\n",
      "{'rouge-1': {'f': 0.29084380351781963, 'p': 0.9529411764705882, 'r': 0.1716101694915254}, 'rouge-2': {'f': 0.21428571223373727, 'p': 0.9230769230769231, 'r': 0.12121212121212122}, 'rouge-l': {'f': 0.11256790861641895, 'p': 0.9532710280373832, 'r': 0.11123227917121047}}\n",
      "{'rouge-1': {'f': 0.6126126082298515, 'p': 0.9444444444444444, 'r': 0.4533333333333333}, 'rouge-2': {'f': 0.5333333292469051, 'p': 0.9315068493150684, 'r': 0.37362637362637363}, 'rouge-l': {'f': 0.33251669927182337, 'p': 0.9602649006622517, 'r': 0.3111587982832618}}\n",
      "{'rouge-1': {'f': 0.3667953636561024, 'p': 0.9405940594059405, 'r': 0.2278177458033573}, 'rouge-2': {'f': 0.28607594673799075, 'p': 0.9186991869918699, 'r': 0.16941529235382308}, 'rouge-l': {'f': 0.16113178243486792, 'p': 0.952755905511811, 'r': 0.15755208333333334}}\n",
      "{'rouge-1': {'f': 0.38073394175963726, 'p': 0.9540229885057471, 'r': 0.23782234957020057}, 'rouge-2': {'f': 0.30344827315534845, 'p': 0.9401709401709402, 'r': 0.18092105263157895}, 'rouge-l': {'f': 0.16972917778658778, 'p': 0.9666666666666667, 'r': 0.1657142857142857}}\n",
      "{'rouge-1': {'f': 0.5779036784726626, 'p': 0.9444444444444444, 'r': 0.4163265306122449}, 'rouge-2': {'f': 0.47513811773782516, 'p': 0.9280575539568345, 'r': 0.3193069306930693}, 'rouge-l': {'f': 0.3068368046095221, 'p': 0.9586206896551724, 'r': 0.288981288981289}}\n",
      "{'rouge-1': {'f': 0.37583892303950284, 'p': 0.9655172413793104, 'r': 0.23333333333333334}, 'rouge-2': {'f': 0.3088455744771393, 'p': 0.944954128440367, 'r': 0.18458781362007168}, 'rouge-l': {'f': 0.16231938188987902, 'p': 0.954954954954955, 'r': 0.15868263473053892}}\n",
      "{'rouge-1': {'f': 0.2830482090342461, 'p': 0.978494623655914, 'r': 0.16545454545454547}, 'rouge-2': {'f': 0.20555555360912214, 'p': 0.940677966101695, 'r': 0.11538461538461539}, 'rouge-l': {'f': 0.1090998280882653, 'p': 0.9666666666666667, 'r': 0.10790697674418605}}\n",
      "{'rouge-1': {'f': 0.2731411204676235, 'p': 0.9574468085106383, 'r': 0.1592920353982301}, 'rouge-2': {'f': 0.20656370459006648, 'p': 0.9304347826086956, 'r': 0.11617806731813246}, 'rouge-l': {'f': 0.11118223906198245, 'p': 0.9568965517241379, 'r': 0.1099009900990099}}\n",
      "{'rouge-1': {'f': 0.5283018827894467, 'p': 0.9545454545454546, 'r': 0.3652173913043478}, 'rouge-2': {'f': 0.4271047192955235, 'p': 0.9454545454545454, 'r': 0.27586206896551724}, 'rouge-l': {'f': 0.2500674763833407, 'p': 0.956140350877193, 'r': 0.23903508771929824}}\n",
      "{'rouge-1': {'f': 0.2815356464714631, 'p': 0.9506172839506173, 'r': 0.16523605150214593}, 'rouge-2': {'f': 0.22195985624100065, 'p': 0.94, 'r': 0.12583668005354753}, 'rouge-l': {'f': 0.1182557282187366, 'p': 0.9611650485436893, 'r': 0.11674528301886793}}\n",
      "{'rouge-1': {'f': 0.3629893207605654, 'p': 0.9532710280373832, 'r': 0.22417582417582418}, 'rouge-2': {'f': 0.28666666405483954, 'p': 0.9280575539568345, 'r': 0.16951379763469118}, 'rouge-l': {'f': 0.1605043533874952, 'p': 0.9583333333333334, 'r': 0.15699658703071673}}\n",
      "{'rouge-1': {'f': 0.24357239292838034, 'p': 0.967741935483871, 'r': 0.1393188854489164}, 'rouge-2': {'f': 0.18589743413343404, 'p': 0.9508196721311475, 'r': 0.10301953818827708}, 'rouge-l': {'f': 0.09488238333337333, 'p': 0.96875, 'r': 0.09408194233687406}}\n",
      "{'rouge-1': {'f': 0.73359072888657, 'p': 0.9693877551020408, 'r': 0.5900621118012422}, 'rouge-2': {'f': 0.6723646677952291, 'p': 0.9516129032258065, 'r': 0.5198237885462555}, 'rouge-l': {'f': 0.4473586241659159, 'p': 0.9606299212598425, 'r': 0.4080267558528428}}\n",
      "{'rouge-1': {'f': 0.28571428314527514, 'p': 0.9438202247191011, 'r': 0.1683366733466934}, 'rouge-2': {'f': 0.21325051556427865, 'p': 0.9279279279279279, 'r': 0.12046783625730995}, 'rouge-l': {'f': 0.11648567424299242, 'p': 0.9568965517241379, 'r': 0.11502590673575129}}\n",
      "{'rouge-1': {'f': 0.3977695134535869, 'p': 0.963963963963964, 'r': 0.2505854800936768}, 'rouge-2': {'f': 0.3085983482628354, 'p': 0.9424460431654677, 'r': 0.18450704225352113}, 'rouge-l': {'f': 0.16755143502283534, 'p': 0.9645390070921985, 'r': 0.16365824308062576}}\n"
     ]
    },
    {
     "name": "stdout",
     "output_type": "stream",
     "text": [
      "{'rouge-1': {'f': 0.2287581678087488, 'p': 0.9459459459459459, 'r': 0.13011152416356878}, 'rouge-2': {'f': 0.16580310715077454, 'p': 0.9090909090909091, 'r': 0.09122006841505131}, 'rouge-l': {'f': 0.08360163131509506, 'p': 0.9333333333333333, 'r': 0.08300395256916997}}\n",
      "{'rouge-1': {'f': 0.5449438161362202, 'p': 0.9509803921568627, 'r': 0.38188976377952755}, 'rouge-2': {'f': 0.4682395606919609, 'p': 0.9416058394160584, 'r': 0.3115942028985507}, 'rouge-l': {'f': 0.32831508046695845, 'p': 0.9655172413793104, 'r': 0.3076923076923077}}\n",
      "{'rouge-1': {'f': 0.36904761598836294, 'p': 0.9789473684210527, 'r': 0.2273838630806846}, 'rouge-2': {'f': 0.280052837693391, 'p': 0.9724770642201835, 'r': 0.16358024691358025}, 'rouge-l': {'f': 0.14876012806813005, 'p': 0.9727272727272728, 'r': 0.14597544338335608}}\n",
      "{'rouge-1': {'f': 0.38147138649184426, 'p': 0.9722222222222222, 'r': 0.23728813559322035}, 'rouge-2': {'f': 0.29111530928963236, 'p': 0.9390243902439024, 'r': 0.17225950782997762}, 'rouge-l': {'f': 0.15941859103652617, 'p': 0.9651162790697675, 'r': 0.15601503759398497}}\n",
      "{'rouge-1': {'f': 0.27436822855028736, 'p': 0.9382716049382716, 'r': 0.160676532769556}, 'rouge-2': {'f': 0.21653084775030124, 'p': 0.9207920792079208, 'r': 0.12269129287598944}, 'rouge-l': {'f': 0.10867021257236865, 'p': 0.9514563106796117, 'r': 0.1074561403508772}}\n",
      "{'rouge-1': {'f': 0.30528375464416885, 'p': 0.9512195121951219, 'r': 0.18181818181818182}, 'rouge-2': {'f': 0.23949044359881538, 'p': 0.9215686274509803, 'r': 0.1376281112737921}, 'rouge-l': {'f': 0.12492060737153152, 'p': 0.941747572815534, 'r': 0.12309644670050761}}\n",
      "{'rouge-1': {'f': 0.2684309994568344, 'p': 0.9466666666666667, 'r': 0.15638766519823788}, 'rouge-2': {'f': 0.1890315034080787, 'p': 0.9204545454545454, 'r': 0.10533159947984395}, 'rouge-l': {'f': 0.09576555825925669, 'p': 0.9555555555555556, 'r': 0.09492273730684327}}\n",
      "{'rouge-1': {'f': 0.5526315748063106, 'p': 0.9438202247191011, 'r': 0.39069767441860465}, 'rouge-2': {'f': 0.47511311832220887, 'p': 0.9130434782608695, 'r': 0.3211009174311927}, 'rouge-l': {'f': 0.3209814178004074, 'p': 0.9516129032258065, 'r': 0.3010204081632653}}\n",
      "{'rouge-1': {'f': 0.5612903184599376, 'p': 0.9666666666666667, 'r': 0.39545454545454545}, 'rouge-2': {'f': 0.47855530098476934, 'p': 0.954954954954955, 'r': 0.3192771084337349}, 'rouge-l': {'f': 0.275687253055361, 'p': 0.9649122807017544, 'r': 0.2619047619047619}}\n",
      "{'rouge-1': {'f': 0.33816424827183833, 'p': 0.9459459459459459, 'r': 0.20588235294117646}, 'rouge-2': {'f': 0.26791277013033654, 'p': 0.9347826086956522, 'r': 0.15636363636363637}, 'rouge-l': {'f': 0.1443588884336747, 'p': 0.956989247311828, 'r': 0.14171974522292993}}\n",
      "{'rouge-1': {'f': 0.42890442543042046, 'p': 0.9583333333333334, 'r': 0.27627627627627627}, 'rouge-2': {'f': 0.3595839493529449, 'p': 0.937984496124031, 'r': 0.22242647058823528}, 'rouge-l': {'f': 0.2037755838068748, 'p': 0.9626865671641791, 'r': 0.19724770642201836}}\n",
      "{'rouge-1': {'f': 0.299638986497413, 'p': 0.9431818181818182, 'r': 0.1781115879828326}, 'rouge-2': {'f': 0.2522522498960295, 'p': 0.9245283018867925, 'r': 0.14605067064083457}, 'rouge-l': {'f': 0.13538850443998332, 'p': 0.9532710280373832, 'r': 0.13315926892950392}}\n",
      "{'rouge-1': {'f': 0.2696245709228995, 'p': 0.9404761904761905, 'r': 0.15737051792828685}, 'rouge-2': {'f': 0.19957081351813905, 'p': 0.9207920792079208, 'r': 0.11191335740072202}, 'rouge-l': {'f': 0.10368141031722919, 'p': 0.9514563106796117, 'r': 0.10261780104712041}}\n",
      "{'rouge-1': {'f': 0.4547677225174408, 'p': 0.9489795918367347, 'r': 0.2990353697749196}, 'rouge-2': {'f': 0.3616352169866699, 'p': 0.9274193548387096, 'r': 0.224609375}, 'rouge-l': {'f': 0.21161867514881902, 'p': 0.9534883720930233, 'r': 0.20431893687707642}}\n",
      "{'rouge-1': {'f': 0.4129930360325365, 'p': 0.9468085106382979, 'r': 0.26409495548961426}, 'rouge-2': {'f': 0.34700315154454725, 'p': 0.9322033898305084, 'r': 0.2131782945736434}, 'rouge-l': {'f': 0.19434084360480886, 'p': 0.9583333333333334, 'r': 0.1885245901639344}}\n",
      "{'rouge-1': {'f': 0.4023668605187144, 'p': 0.9315068493150684, 'r': 0.25660377358490566}, 'rouge-2': {'f': 0.33061224192511457, 'p': 0.9101123595505618, 'r': 0.20199501246882792}, 'rouge-l': {'f': 0.18597610633089445, 'p': 0.945054945054945, 'r': 0.18067226890756302}}\n",
      "{'rouge-1': {'f': 0.48538011316558943, 'p': 0.9540229885057471, 'r': 0.3254901960784314}, 'rouge-2': {'f': 0.38112522359979056, 'p': 0.9292035398230089, 'r': 0.23972602739726026}, 'rouge-l': {'f': 0.22882499358526825, 'p': 0.9666666666666667, 'r': 0.22011385199240988}}\n",
      "{'rouge-1': {'f': 0.46735394816594045, 'p': 0.9444444444444444, 'r': 0.3105022831050228}, 'rouge-2': {'f': 0.3679245250962309, 'p': 0.9176470588235294, 'r': 0.23008849557522124}, 'rouge-l': {'f': 0.21009408824132875, 'p': 0.9540229885057471, 'r': 0.20293398533007334}}\n",
      "{'rouge-1': {'f': 0.23828647709051287, 'p': 0.967391304347826, 'r': 0.13587786259541984}, 'rouge-2': {'f': 0.1716227681146356, 'p': 0.9528301886792453, 'r': 0.09430438842203548}, 'rouge-l': {'f': 0.08811328828709604, 'p': 0.9636363636363636, 'r': 0.08745874587458746}}\n",
      "{'rouge-1': {'f': 0.07407407336076818, 'p': 0.038461538461538464, 'r': 1.0}, 'rouge-2': {'f': 0.0, 'p': 0.0, 'r': 0.0}, 'rouge-l': {'f': 0.03452234522341763, 'p': 0.034482758620689655, 'r': 1.0}}\n",
      "{'rouge-1': {'f': 0.42739725679024215, 'p': 0.9512195121951219, 'r': 0.2756183745583039}, 'rouge-2': {'f': 0.3508771899328409, 'p': 0.9345794392523364, 'r': 0.2159827213822894}, 'rouge-l': {'f': 0.2055380961038349, 'p': 0.9636363636363636, 'r': 0.19887429643527205}}\n",
      "{'rouge-1': {'f': 0.08943089340541711, 'p': 0.9428571428571428, 'r': 0.04694167852062589}, 'rouge-2': {'f': 0.06435643498988389, 'p': 0.9512195121951219, 'r': 0.033304867634500426}, 'rouge-l': {'f': 0.03111204940753129, 'p': 0.9523809523809523, 'r': 0.03108003108003108}}\n",
      "{'rouge-1': {'f': 0.11764705769158648, 'p': 0.9767441860465116, 'r': 0.06259314456035768}, 'rouge-2': {'f': 0.08389261663057128, 'p': 0.9803921568627451, 'r': 0.04382120946538125}, 'rouge-l': {'f': 0.038941244540005686, 'p': 0.9615384615384616, 'r': 0.038880248833592534}}\n",
      "{'rouge-1': {'f': 0.32443531544746573, 'p': 0.9518072289156626, 'r': 0.19554455445544555}, 'rouge-2': {'f': 0.23622047018011036, 'p': 0.9090909090909091, 'r': 0.13574660633484162}, 'rouge-l': {'f': 0.12504996469840382, 'p': 0.9405940594059405, 'r': 0.12321660181582361}}\n",
      "{'rouge-1': {'f': 0.401028274278124, 'p': 0.9397590361445783, 'r': 0.2549019607843137}, 'rouge-2': {'f': 0.33707864869535653, 'p': 0.9210526315789473, 'r': 0.206286836935167}, 'rouge-l': {'f': 0.19824464636771494, 'p': 0.9572649572649573, 'r': 0.19210977701543738}}\n",
      "{'rouge-1': {'f': 0.38069704772549223, 'p': 0.9466666666666667, 'r': 0.23825503355704697}, 'rouge-2': {'f': 0.3035714258255103, 'p': 0.9239130434782609, 'r': 0.18162393162393162}, 'rouge-l': {'f': 0.1689525250048134, 'p': 0.9479166666666666, 'r': 0.16485507246376813}}\n",
      "{'rouge-1': {'f': 0.18973561249053697, 'p': 0.9384615384615385, 'r': 0.10553633217993079}, 'rouge-2': {'f': 0.1506442006705164, 'p': 0.9156626506024096, 'r': 0.08207343412526998}, 'rouge-l': {'f': 0.0769352256629072, 'p': 0.9523809523809523, 'r': 0.07648183556405354}}\n",
      "{'rouge-1': {'f': 0.5614035046583564, 'p': 0.9696969696969697, 'r': 0.3950617283950617}, 'rouge-2': {'f': 0.45186640107039894, 'p': 0.9426229508196722, 'r': 0.2971576227390181}, 'rouge-l': {'f': 0.2939142625696144, 'p': 0.96, 'r': 0.2777777777777778}}\n",
      "{'rouge-1': {'f': 0.17021276431247173, 'p': 0.9411764705882353, 'r': 0.0935672514619883}, 'rouge-2': {'f': 0.12467532341588802, 'p': 0.9230769230769231, 'r': 0.06685236768802229}, 'rouge-l': {'f': 0.06233934399735933, 'p': 0.95, 'r': 0.06209150326797386}}\n",
      "{'rouge-1': {'f': 0.2926829242735806, 'p': 0.972972972972973, 'r': 0.1722488038277512}, 'rouge-2': {'f': 0.20259740069434984, 'p': 0.9512195121951219, 'r': 0.11337209302325581}, 'rouge-l': {'f': 0.10137877470578142, 'p': 0.9518072289156626, 'r': 0.10038119440914867}}\n",
      "{'rouge-1': {'f': 0.07734806545343549, 'p': 0.875, 'r': 0.04046242774566474}, 'rouge-2': {'f': 0.050909090344198354, 'p': 0.875, 'r': 0.026217228464419477}, 'rouge-l': {'f': 0.02489483544599072, 'p': 0.8823529411764706, 'r': 0.024875621890547265}}\n"
     ]
    },
    {
     "name": "stdout",
     "output_type": "stream",
     "text": [
      "{'rouge-1': {'f': 0.09538461442078107, 'p': 0.9393939393939394, 'r': 0.050243111831442464}, 'rouge-2': {'f': 0.05970149192310371, 'p': 0.9411764705882353, 'r': 0.030828516377649325}, 'rouge-l': {'f': 0.028253802489309792, 'p': 0.9428571428571428, 'r': 0.028229255774165955}}\n",
      "{'rouge-1': {'f': 0.5250965211168588, 'p': 0.9577464788732394, 'r': 0.3617021276595745}, 'rouge-2': {'f': 0.41208790865837464, 'p': 0.9375, 'r': 0.2640845070422535}, 'rouge-l': {'f': 0.23392830552633426, 'p': 0.9506172839506173, 'r': 0.22448979591836735}}\n",
      "{'rouge-1': {'f': 0.41916167323084375, 'p': 0.958904109589041, 'r': 0.2681992337164751}, 'rouge-2': {'f': 0.32926828982459194, 'p': 0.9529411764705882, 'r': 0.19901719901719903}, 'rouge-l': {'f': 0.16905421089577574, 'p': 0.9534883720930233, 'r': 0.16498993963782696}}\n",
      "{'rouge-1': {'f': 0.649999995528125, 'p': 0.9629629629629629, 'r': 0.49056603773584906}, 'rouge-2': {'f': 0.5527426118886752, 'p': 0.9424460431654677, 'r': 0.39104477611940297}, 'rouge-l': {'f': 0.3576365657791168, 'p': 0.9574468085106383, 'r': 0.33251231527093594}}\n",
      "{'rouge-1': {'f': 0.3582089521886835, 'p': 0.96, 'r': 0.22018348623853212}, 'rouge-2': {'f': 0.2706766892446656, 'p': 0.9310344827586207, 'r': 0.15835777126099707}, 'rouge-l': {'f': 0.14593977319698073, 'p': 0.9572649572649573, 'r': 0.1432225063938619}}\n",
      "{'rouge-1': {'f': 0.3524590133593961, 'p': 0.945054945054945, 'r': 0.21662468513853905}, 'rouge-2': {'f': 0.2721437715526802, 'p': 0.9217391304347826, 'r': 0.15963855421686746}, 'rouge-l': {'f': 0.15047023205562116, 'p': 0.9576271186440678, 'r': 0.1475195822454308}}\n",
      "{'rouge-1': {'f': 0.5387205346932853, 'p': 0.963855421686747, 'r': 0.37383177570093457}, 'rouge-2': {'f': 0.4302600437212526, 'p': 0.9285714285714286, 'r': 0.28}, 'rouge-l': {'f': 0.2450148277733103, 'p': 0.9494949494949495, 'r': 0.2344139650872818}}\n",
      "{'rouge-1': {'f': 0.75829383408998, 'p': 0.963855421686747, 'r': 0.625}, 'rouge-2': {'f': 0.6622073533226698, 'p': 0.9519230769230769, 'r': 0.5076923076923077}, 'rouge-l': {'f': 0.4182805476906092, 'p': 0.9532710280373832, 'r': 0.38345864661654133}}\n",
      "{'rouge-1': {'f': 0.42226487179976496, 'p': 0.9565217391304348, 'r': 0.270935960591133}, 'rouge-2': {'f': 0.3405275749721662, 'p': 0.9403973509933775, 'r': 0.20790629575402636}, 'rouge-l': {'f': 0.19577141610281135, 'p': 0.967948717948718, 'r': 0.189937106918239}}\n",
      "{'rouge-1': {'f': 0.36046511322614333, 'p': 0.9587628865979382, 'r': 0.22195704057279236}, 'rouge-2': {'f': 0.2838709651784059, 'p': 0.9401709401709402, 'r': 0.16717325227963525}, 'rouge-l': {'f': 0.150312267208652, 'p': 0.9495798319327731, 'r': 0.14732724902216426}}\n",
      "{'rouge-1': {'f': 0.4694835643844916, 'p': 0.9615384615384616, 'r': 0.3105590062111801}, 'rouge-2': {'f': 0.39109697605303806, 'p': 0.9461538461538461, 'r': 0.24649298597194388}, 'rouge-l': {'f': 0.2251468314080937, 'p': 0.9621212121212122, 'r': 0.2167235494880546}}\n",
      "{'rouge-1': {'f': 0.4151785679855908, 'p': 0.9393939393939394, 'r': 0.2664756446991404}, 'rouge-2': {'f': 0.3515509570333975, 'p': 0.9224806201550387, 'r': 0.21715328467153286}, 'rouge-l': {'f': 0.20652640900811225, 'p': 0.9555555555555556, 'r': 0.1996904024767802}}\n",
      "{'rouge-1': {'f': 0.4141176436400278, 'p': 0.946236559139785, 'r': 0.26506024096385544}, 'rouge-2': {'f': 0.33128834063306867, 'p': 0.9310344827586207, 'r': 0.20149253731343283}, 'rouge-l': {'f': 0.18983749265506394, 'p': 0.959349593495935, 'r': 0.184375}}\n",
      "{'rouge-1': {'f': 0.5525525484489895, 'p': 0.9583333333333334, 'r': 0.3881856540084388}, 'rouge-2': {'f': 0.4758220464875098, 'p': 0.9318181818181818, 'r': 0.3194805194805195}, 'rouge-l': {'f': 0.3228695224702006, 'p': 0.9637681159420289, 'r': 0.30296127562642367}}\n",
      "{'rouge-1': {'f': 0.2870228981973545, 'p': 0.9494949494949495, 'r': 0.16906474820143885}, 'rouge-2': {'f': 0.21828908347933704, 'p': 0.9327731092436975, 'r': 0.12360801781737193}, 'rouge-l': {'f': 0.11527534594475916, 'p': 0.9583333333333334, 'r': 0.11386138613861387}}\n",
      "{'rouge-1': {'f': 0.4113475143266883, 'p': 0.9456521739130435, 'r': 0.2628398791540785}, 'rouge-2': {'f': 0.32305432898074665, 'p': 0.9243697478991597, 'r': 0.19572953736654805}, 'rouge-l': {'f': 0.1826511776481643, 'p': 0.9508196721311475, 'r': 0.1776416539050536}}\n",
      "{'rouge-1': {'f': 0.38421052311578957, 'p': 0.9605263157894737, 'r': 0.24013157894736842}, 'rouge-2': {'f': 0.3196046100322162, 'p': 0.941747572815534, 'r': 0.19246031746031747}, 'rouge-l': {'f': 0.17649470202908094, 'p': 0.9622641509433962, 'r': 0.17200674536256325}}\n",
      "{'rouge-1': {'f': 0.28240740485093024, 'p': 0.9384615384615385, 'r': 0.16621253405994552}, 'rouge-2': {'f': 0.22641509219857564, 'p': 0.9285714285714286, 'r': 0.12892561983471074}, 'rouge-l': {'f': 0.12360692313384619, 'p': 0.9565217391304348, 'r': 0.12188365650969529}}\n",
      "{'rouge-1': {'f': 0.245421243185874, 'p': 0.9571428571428572, 'r': 0.1407563025210084}, 'rouge-2': {'f': 0.1790341561066647, 'p': 0.9382716049382716, 'r': 0.09895833333333333}, 'rouge-l': {'f': 0.09060808074005426, 'p': 0.9642857142857143, 'r': 0.08990011098779134}}\n",
      "{'rouge-1': {'f': 0.4163568738574647, 'p': 0.9333333333333333, 'r': 0.2679425837320574}, 'rouge-2': {'f': 0.30617283667928674, 'p': 0.8985507246376812, 'r': 0.18452380952380953}, 'rouge-l': {'f': 0.17727052251107828, 'p': 0.9444444444444444, 'r': 0.17258883248730963}}\n",
      "{'rouge-1': {'f': 0.3170731679323022, 'p': 0.9420289855072463, 'r': 0.1906158357771261}, 'rouge-2': {'f': 0.2441314531155635, 'p': 0.9285714285714286, 'r': 0.14054054054054055}, 'rouge-l': {'f': 0.1280489957557973, 'p': 0.9540229885057471, 'r': 0.12613981762917933}}\n",
      "{'rouge-1': {'f': 0.3276595716432775, 'p': 0.9625, 'r': 0.19743589743589743}, 'rouge-2': {'f': 0.2525107580892079, 'p': 0.946236559139785, 'r': 0.1456953642384106}, 'rouge-l': {'f': 0.13052986782347845, 'p': 0.9578947368421052, 'r': 0.1285310734463277}}\n",
      "{'rouge-1': {'f': 0.3214285686112883, 'p': 0.9473684210526315, 'r': 0.1935483870967742}, 'rouge-2': {'f': 0.23196605154748737, 'p': 0.9213483146067416, 'r': 0.13268608414239483}, 'rouge-l': {'f': 0.12035511787064408, 'p': 0.9354838709677419, 'r': 0.11869031377899045}}\n",
      "{'rouge-1': {'f': 0.26086956285097485, 'p': 0.9512195121951219, 'r': 0.1511627906976744}, 'rouge-2': {'f': 0.19812304293740987, 'p': 0.9313725490196079, 'r': 0.11085180863477247}, 'rouge-l': {'f': 0.09893427536816708, 'p': 0.9611650485436893, 'r': 0.09801980198019802}}\n",
      "{'rouge-1': {'f': 0.293286216479604, 'p': 0.9540229885057471, 'r': 0.1732776617954071}, 'rouge-2': {'f': 0.23201855931048507, 'p': 0.9345794392523364, 'r': 0.13245033112582782}, 'rouge-l': {'f': 0.12237168742443859, 'p': 0.9545454545454546, 'r': 0.1206896551724138}}\n",
      "{'rouge-1': {'f': 0.4593837498440945, 'p': 0.9534883720930233, 'r': 0.3025830258302583}, 'rouge-2': {'f': 0.3821892360615584, 'p': 0.9279279279279279, 'r': 0.24065420560747663}, 'rouge-l': {'f': 0.22378996389999595, 'p': 0.956140350877193, 'r': 0.21541501976284586}}\n",
      "{'rouge-1': {'f': 0.34368529720081104, 'p': 0.9325842696629213, 'r': 0.21065989847715735}, 'rouge-2': {'f': 0.2703448250507111, 'p': 0.9074074074074074, 'r': 0.15883306320907617}, 'rouge-l': {'f': 0.15316104143369114, 'p': 0.9459459459459459, 'r': 0.15}}\n",
      "{'rouge-1': {'f': 0.37681159104286965, 'p': 0.9578947368421052, 'r': 0.2345360824742268}, 'rouge-2': {'f': 0.3026134773543174, 'p': 0.9401709401709402, 'r': 0.18032786885245902}, 'rouge-l': {'f': 0.16875443087426253, 'p': 0.9672131147540983, 'r': 0.164804469273743}}\n",
      "{'rouge-1': {'f': 0.01869158859987772, 'p': 0.009433962264150943, 'r': 1.0}, 'rouge-2': {'f': 0.0, 'p': 0.0, 'r': 0.0}, 'rouge-l': {'f': 0.008000507903731953, 'p': 0.008, 'r': 1.0}}\n",
      "{'rouge-1': {'f': 0.02083333312717014, 'p': 0.010526315789473684, 'r': 1.0}, 'rouge-2': {'f': 0.0, 'p': 0.0, 'r': 0.0}, 'rouge-l': {'f': 0.008772598874814467, 'p': 0.008771929824561403, 'r': 1.0}}\n",
      "{'rouge-1': {'f': 0.5698005656538502, 'p': 0.970873786407767, 'r': 0.4032258064516129}, 'rouge-2': {'f': 0.49108910512647785, 'p': 0.96875, 'r': 0.32891246684350134}, 'rouge-l': {'f': 0.30581981132288927, 'p': 0.9776119402985075, 'r': 0.28854625550660795}}\n",
      "{'rouge-1': {'f': 0.32535884699617684, 'p': 0.2595419847328244, 'r': 0.4358974358974359}, 'rouge-2': {'f': 0.1433962218155929, 'p': 0.11176470588235295, 'r': 0.2}, 'rouge-l': {'f': 0.1990447032100151, 'p': 0.1781609195402299, 'r': 0.31958762886597936}}\n"
     ]
    },
    {
     "name": "stdout",
     "output_type": "stream",
     "text": [
      "{'rouge-1': {'f': 0.33578431072484144, 'p': 0.9133333333333333, 'r': 0.2057057057057057}, 'rouge-2': {'f': 0.23918918688138244, 'p': 0.8984771573604061, 'r': 0.13795791114575215}, 'rouge-l': {'f': 0.12847530517476846, 'p': 0.9142857142857143, 'r': 0.12639894667544438}}\n",
      "{'rouge-1': {'f': 0.2012578593890669, 'p': 0.7804878048780488, 'r': 0.11552346570397112}, 'rouge-2': {'f': 0.14827586038026164, 'p': 0.7962962962962963, 'r': 0.0817490494296578}, 'rouge-l': {'f': 0.07603598063134985, 'p': 0.8198198198198198, 'r': 0.07545605306799337}}\n",
      "{'rouge-1': {'f': 0.3847283375144525, 'p': 0.9776119402985075, 'r': 0.23948811700182815}, 'rouge-2': {'f': 0.3202725696318445, 'p': 0.9641025641025641, 'r': 0.1920326864147089}, 'rouge-l': {'f': 0.1918812112488956, 'p': 0.9875518672199171, 'r': 0.1865203761755486}}\n",
      "{'rouge-1': {'f': 0.2631578901113574, 'p': 0.2066115702479339, 'r': 0.36231884057971014}, 'rouge-2': {'f': 0.065040645811356, 'p': 0.05063291139240506, 'r': 0.09090909090909091}, 'rouge-l': {'f': 0.16808414993178894, 'p': 0.15060240963855423, 'r': 0.2777777777777778}}\n",
      "{'rouge-1': {'f': 0.6995073845567716, 'p': 0.9726027397260274, 'r': 0.5461538461538461}, 'rouge-2': {'f': 0.5829457322034012, 'p': 0.9591836734693877, 'r': 0.41870824053452116}, 'rouge-l': {'f': 0.3953408084065713, 'p': 0.975609756097561, 'r': 0.36496350364963503}}\n",
      "{'rouge-1': {'f': 0.0246913577808261, 'p': 0.0125, 'r': 1.0}, 'rouge-2': {'f': 0.0, 'p': 0.0, 'r': 0.0}, 'rouge-l': {'f': 0.009616265062909041, 'p': 0.009615384615384616, 'r': 1.0}}\n",
      "{'rouge-1': {'f': 0.13451327200789415, 'p': 0.5, 'r': 0.07770961145194274}, 'rouge-2': {'f': 0.04897159470703864, 'p': 0.25, 'r': 0.02714440825190011}, 'rouge-l': {'f': 0.03875943137810501, 'p': 0.40375586854460094, 'r': 0.03844434510505141}}\n",
      "{'rouge-1': {'f': 0.5439999956480001, 'p': 0.85, 'r': 0.4}, 'rouge-2': {'f': 0.455026451037765, 'p': 0.8269230769230769, 'r': 0.31386861313868614}, 'rouge-l': {'f': 0.32373838251305886, 'p': 0.8648648648648649, 'r': 0.30094043887147337}}\n",
      "{'rouge-1': {'f': 0.15900382990582934, 'p': 0.9651162790697675, 'r': 0.08663883089770355}, 'rouge-2': {'f': 0.12199216445602122, 'p': 0.9646017699115044, 'r': 0.06511350059737156}, 'rouge-l': {'f': 0.05194984374679584, 'p': 0.9741379310344828, 'r': 0.051811095827602016}}\n",
      "{'rouge-1': {'f': 0.2488188953886292, 'p': 0.9634146341463414, 'r': 0.14285714285714285}, 'rouge-2': {'f': 0.16330275070238198, 'p': 0.9368421052631579, 'r': 0.08944723618090453}, 'rouge-l': {'f': 0.08135408140378209, 'p': 0.9479166666666666, 'r': 0.08081705150976909}}\n",
      "{'rouge-1': {'f': 0.3051771089814313, 'p': 0.9333333333333333, 'r': 0.18241042345276873}, 'rouge-2': {'f': 0.2346368692411459, 'p': 0.9, 'r': 0.1349036402569593}, 'rouge-l': {'f': 0.13362038542129698, 'p': 0.9154929577464789, 'r': 0.13131313131313133}}\n",
      "{'rouge-1': {'f': 0.35164834857580607, 'p': 0.927536231884058, 'r': 0.21694915254237288}, 'rouge-2': {'f': 0.2654545429685951, 'p': 0.9125, 'r': 0.15531914893617021}, 'rouge-l': {'f': 0.14406883772359932, 'p': 0.9285714285714286, 'r': 0.14130434782608695}}\n",
      "{'rouge-1': {'f': 0.6122448935057061, 'p': 0.9146341463414634, 'r': 0.4601226993865031}, 'rouge-2': {'f': 0.5380116917205295, 'p': 0.9019607843137255, 'r': 0.38333333333333336}, 'rouge-l': {'f': 0.36491121625665396, 'p': 0.9333333333333333, 'r': 0.33793103448275863}}\n",
      "{'rouge-1': {'f': 0.39999999664688096, 'p': 0.9387755102040817, 'r': 0.2541436464088398}, 'rouge-2': {'f': 0.3405483375548102, 'p': 0.9291338582677166, 'r': 0.20848056537102475}, 'rouge-l': {'f': 0.20023514395312347, 'p': 0.9393939393939394, 'r': 0.19375}}\n",
      "{'rouge-1': {'f': 0.3874091976994648, 'p': 0.9411764705882353, 'r': 0.24390243902439024}, 'rouge-2': {'f': 0.32398753602003083, 'p': 0.9122807017543859, 'r': 0.19696969696969696}, 'rouge-l': {'f': 0.2000746406776389, 'p': 0.9396551724137931, 'r': 0.1936056838365897}}\n",
      "{'rouge-1': {'f': 0.49616367895971386, 'p': 0.9326923076923077, 'r': 0.33797909407665505}, 'rouge-2': {'f': 0.4232081875802282, 'p': 0.9185185185185185, 'r': 0.2749445676274945}, 'rouge-l': {'f': 0.2948136009895792, 'p': 0.9452054794520548, 'r': 0.2782258064516129}}\n",
      "{'rouge-1': {'f': 0.5934065890909579, 'p': 0.9418604651162791, 'r': 0.43315508021390375}, 'rouge-2': {'f': 0.5103448235704584, 'p': 0.9173553719008265, 'r': 0.3535031847133758}, 'rouge-l': {'f': 0.35607981969966623, 'p': 0.937984496124031, 'r': 0.33060109289617484}}\n",
      "{'rouge-1': {'f': 0.4329501880718134, 'p': 0.9576271186440678, 'r': 0.27970297029702973}, 'rouge-2': {'f': 0.3769230737384945, 'p': 0.9483870967741935, 'r': 0.2352}, 'rouge-l': {'f': 0.23260538109936682, 'p': 0.9556962025316456, 'r': 0.22337278106508876}}\n",
      "{'rouge-1': {'f': 0.46498599074045316, 'p': 0.9651162790697675, 'r': 0.3062730627306273}, 'rouge-2': {'f': 0.35316698348606146, 'p': 0.9292929292929293, 'r': 0.21800947867298578}, 'rouge-l': {'f': 0.19234787085924518, 'p': 0.94, 'r': 0.1865079365079365}}\n",
      "{'rouge-1': {'f': 0.6335403682332859, 'p': 0.9532710280373832, 'r': 0.4744186046511628}, 'rouge-2': {'f': 0.5315904098273694, 'p': 0.9172932330827067, 'r': 0.37423312883435583}, 'rouge-l': {'f': 0.36800052717428544, 'p': 0.9333333333333333, 'r': 0.34054054054054056}}\n",
      "{'rouge-1': {'f': 0.6319702556764003, 'p': 0.9042553191489362, 'r': 0.4857142857142857}, 'rouge-2': {'f': 0.5372340383070678, 'p': 0.8782608695652174, 'r': 0.38697318007662834}, 'rouge-l': {'f': 0.3687658655626786, 'p': 0.9159663865546218, 'r': 0.340625}}\n",
      "{'rouge-1': {'f': 0.47404062827611865, 'p': 0.9375, 'r': 0.31722054380664655}, 'rouge-2': {'f': 0.3842917218318977, 'p': 0.9319727891156463, 'r': 0.2420494699646643}, 'rouge-l': {'f': 0.23722549700308537, 'p': 0.948051948051948, 'r': 0.22741433021806853}}\n",
      "{'rouge-1': {'f': 0.5303030262906847, 'p': 0.9545454545454546, 'r': 0.36713286713286714}, 'rouge-2': {'f': 0.45375217784417465, 'p': 0.9420289855072463, 'r': 0.2988505747126437}, 'rouge-l': {'f': 0.29868610328404305, 'p': 0.9444444444444444, 'r': 0.2815734989648033}}\n",
      "{'rouge-1': {'f': 0.4444444408196544, 'p': 0.9345794392523364, 'r': 0.2915451895043732}, 'rouge-2': {'f': 0.3495440698331963, 'p': 0.905511811023622, 'r': 0.21657250470809794}, 'rouge-l': {'f': 0.21462441045332206, 'p': 0.9312977099236641, 'r': 0.20677966101694914}}\n",
      "{'rouge-1': {'f': 0.42060085494962146, 'p': 0.9607843137254902, 'r': 0.2692307692307692}, 'rouge-2': {'f': 0.3392857113139527, 'p': 0.9344262295081968, 'r': 0.20727272727272728}, 'rouge-l': {'f': 0.19695794701759536, 'p': 0.9512195121951219, 'r': 0.19086460032626426}}\n",
      "{'rouge-1': {'f': 0.2567094492516159, 'p': 0.9565217391304348, 'r': 0.14824797843665768}, 'rouge-2': {'f': 0.1829608920458163, 'p': 0.9097222222222222, 'r': 0.10170807453416149}, 'rouge-l': {'f': 0.08456253858162889, 'p': 0.9379310344827586, 'r': 0.08395061728395062}}\n",
      "{'rouge-1': {'f': 0.5989010945787043, 'p': 0.9478260869565217, 'r': 0.43775100401606426}, 'rouge-2': {'f': 0.5133079807468665, 'p': 0.9121621621621622, 'r': 0.35714285714285715}, 'rouge-l': {'f': 0.3585205327843735, 'p': 0.9342105263157895, 'r': 0.3325526932084309}}\n",
      "{'rouge-1': {'f': 0.21534653261644085, 'p': 0.9354838709677419, 'r': 0.12167832167832168}, 'rouge-2': {'f': 0.17168674531939507, 'p': 0.9344262295081968, 'r': 0.0945273631840796}, 'rouge-l': {'f': 0.08984631220044478, 'p': 0.952, 'r': 0.08913857677902622}}\n",
      "{'rouge-1': {'f': 0.5552050431466131, 'p': 0.9361702127659575, 'r': 0.39461883408071746}, 'rouge-2': {'f': 0.4791208752581573, 'p': 0.9159663865546218, 'r': 0.3244047619047619}, 'rouge-l': {'f': 0.32901833397973496, 'p': 0.943089430894309, 'r': 0.3076923076923077}}\n",
      "{'rouge-1': {'f': 0.46437994349941875, 'p': 0.9361702127659575, 'r': 0.3087719298245614}, 'rouge-2': {'f': 0.352136749061933, 'p': 0.9279279279279279, 'r': 0.21729957805907174}, 'rouge-l': {'f': 0.20335536426458403, 'p': 0.9469026548672567, 'r': 0.19669117647058823}}\n",
      "{'rouge-1': {'f': 0.510385752734285, 'p': 0.945054945054945, 'r': 0.34959349593495936}, 'rouge-2': {'f': 0.42510121098133063, 'p': 0.9051724137931034, 'r': 0.2777777777777778}, 'rouge-l': {'f': 0.26020225075092274, 'p': 0.940677966101695, 'r': 0.24776785714285715}}\n",
      "{'rouge-1': {'f': 0.38929440061212056, 'p': 0.9411764705882353, 'r': 0.24539877300613497}, 'rouge-2': {'f': 0.33052276268438135, 'p': 0.9333333333333333, 'r': 0.20081967213114754}, 'rouge-l': {'f': 0.19787530072624895, 'p': 0.9532710280373832, 'r': 0.19172932330827067}}\n"
     ]
    },
    {
     "name": "stdout",
     "output_type": "stream",
     "text": [
      "{'rouge-1': {'f': 0.37453183200150103, 'p': 0.9345794392523364, 'r': 0.234192037470726}, 'rouge-2': {'f': 0.2987341744997276, 'p': 0.921875, 'r': 0.1782477341389728}, 'rouge-l': {'f': 0.1809789719911671, 'p': 0.9457364341085271, 'r': 0.17604617604617603}}\n",
      "{'rouge-1': {'f': 0.3206106842536129, 'p': 0.9655172413793104, 'r': 0.19221967963386727}, 'rouge-2': {'f': 0.25313282977644613, 'p': 0.9528301886792453, 'r': 0.14595375722543352}, 'rouge-l': {'f': 0.14170548673049677, 'p': 0.9629629629629629, 'r': 0.1392235609103079}}\n",
      "{'rouge-1': {'f': 0.32653060938760725, 'p': 0.9454545454545454, 'r': 0.19734345351043645}, 'rouge-2': {'f': 0.2554973798470437, 'p': 0.9384615384615385, 'r': 0.1478787878787879}, 'rouge-l': {'f': 0.14850339562985776, 'p': 0.9548872180451128, 'r': 0.14564220183486237}}\n",
      "{'rouge-1': {'f': 0.3071553200960013, 'p': 0.9263157894736842, 'r': 0.18410041841004185}, 'rouge-2': {'f': 0.21548821339193158, 'p': 0.9056603773584906, 'r': 0.12229299363057325}, 'rouge-l': {'f': 0.11537793428809383, 'p': 0.9345794392523364, 'r': 0.11389521640091116}}\n",
      "{'rouge-1': {'f': 0.4269141496955766, 'p': 0.968421052631579, 'r': 0.27380952380952384}, 'rouge-2': {'f': 0.3466257638676654, 'p': 0.9416666666666667, 'r': 0.212406015037594}, 'rouge-l': {'f': 0.20499488808569924, 'p': 0.9596774193548387, 'r': 0.19833333333333333}}\n",
      "{'rouge-1': {'f': 0.0, 'p': 0.0, 'r': 0.0}, 'rouge-2': {'f': 0.0, 'p': 0.0, 'r': 0.0}, 'rouge-l': {'f': 0.0, 'p': 0.0, 'r': 0.0}}\n",
      "{'rouge-1': {'f': 0.6829268246281975, 'p': 0.9333333333333333, 'r': 0.5384615384615384}, 'rouge-2': {'f': 0.5939675130480565, 'p': 0.927536231884058, 'r': 0.43686006825938567}, 'rouge-l': {'f': 0.426558193017554, 'p': 0.9432624113475178, 'r': 0.39002932551319647}}\n",
      "{'rouge-1': {'f': 0.2044444425038025, 'p': 0.9387755102040817, 'r': 0.11471321695760599}, 'rouge-2': {'f': 0.13302216902948336, 'p': 0.926829268292683, 'r': 0.07165304839723445}, 'rouge-l': {'f': 0.06577286831207566, 'p': 0.937984496124031, 'r': 0.06547619047619048}}\n",
      "{'rouge-1': {'f': 0.5152354531337238, 'p': 0.9587628865979382, 'r': 0.3522727272727273}, 'rouge-2': {'f': 0.42828282473755747, 'p': 0.9298245614035088, 'r': 0.2782152230971129}, 'rouge-l': {'f': 0.269901579455033, 'p': 0.9478260869565217, 'r': 0.2564705882352941}}\n",
      "{'rouge-1': {'f': 0.24111674905305475, 'p': 0.95, 'r': 0.1380813953488372}, 'rouge-2': {'f': 0.16810683260626627, 'p': 0.9304347826086956, 'r': 0.0924006908462867}, 'rouge-l': {'f': 0.08875901518561094, 'p': 0.9482758620689655, 'r': 0.08807045636509207}}\n",
      "{'rouge-1': {'f': 0.27848101013233756, 'p': 0.9390243902439024, 'r': 0.16348195329087048}, 'rouge-2': {'f': 0.21303257935612843, 'p': 0.8947368421052632, 'r': 0.12091038406827881}, 'rouge-l': {'f': 0.12049113513122879, 'p': 0.9285714285714286, 'r': 0.11879895561357702}}\n",
      "{'rouge-1': {'f': 0.3502824828896195, 'p': 0.9587628865979382, 'r': 0.21428571428571427}, 'rouge-2': {'f': 0.27122641263094077, 'p': 0.9426229508196722, 'r': 0.1584022038567493}, 'rouge-l': {'f': 0.14696066871156896, 'p': 0.9606299212598425, 'r': 0.14420803782505912}}\n",
      "{'rouge-1': {'f': 0.4978165899985699, 'p': 0.9421487603305785, 'r': 0.33827893175074186}, 'rouge-2': {'f': 0.42553191132449814, 'p': 0.9150326797385621, 'r': 0.27722772277227725}, 'rouge-l': {'f': 0.2906952076843226, 'p': 0.9426751592356688, 'r': 0.274582560296846}}\n",
      "{'rouge-1': {'f': 0.636904757402388, 'p': 0.9304347826086956, 'r': 0.4841628959276018}, 'rouge-2': {'f': 0.5477178381170262, 'p': 0.9103448275862069, 'r': 0.3916913946587537}, 'rouge-l': {'f': 0.41410410464879893, 'p': 0.934640522875817, 'r': 0.3793103448275862}}\n",
      "{'rouge-1': {'f': 0.39697542201478697, 'p': 0.9459459459459459, 'r': 0.2511961722488038}, 'rouge-2': {'f': 0.31435079446349906, 'p': 0.9324324324324325, 'r': 0.18904109589041096}, 'rouge-l': {'f': 0.18356958826083322, 'p': 0.9548387096774194, 'r': 0.17852834740651388}}\n",
      "{'rouge-1': {'f': 0.16619718148141244, 'p': 0.9365079365079365, 'r': 0.09119010819165378}, 'rouge-2': {'f': 0.12544169481472175, 'p': 0.8987341772151899, 'r': 0.06742640075973409}, 'rouge-l': {'f': 0.06449963473742218, 'p': 0.9259259259259259, 'r': 0.0642123287671233}}\n",
      "{'rouge-1': {'f': 0.5460992866261758, 'p': 0.927710843373494, 'r': 0.3869346733668342}, 'rouge-2': {'f': 0.4265402806945038, 'p': 0.8823529411764706, 'r': 0.28125}, 'rouge-l': {'f': 0.2763532763533636, 'p': 0.9150943396226415, 'r': 0.261455525606469}}\n",
      "{'rouge-1': {'f': 0.32270168572369934, 'p': 0.945054945054945, 'r': 0.19457013574660634}, 'rouge-2': {'f': 0.2595596731061578, 'p': 0.9105691056910569, 'r': 0.15135135135135136}, 'rouge-l': {'f': 0.14835042550948518, 'p': 0.9384615384615385, 'r': 0.14541120381406436}}\n",
      "{'rouge-1': {'f': 0.2542113300253044, 'p': 0.9651162790697675, 'r': 0.14638447971781304}, 'rouge-2': {'f': 0.18461538284622786, 'p': 0.9411764705882353, 'r': 0.1023454157782516}, 'rouge-l': {'f': 0.09875205197088135, 'p': 0.9519230769230769, 'r': 0.09782608695652174}}\n",
      "{'rouge-1': {'f': 0.3249097444509247, 'p': 0.9473684210526315, 'r': 0.19607843137254902}, 'rouge-2': {'f': 0.24862486019453428, 'p': 0.9416666666666667, 'r': 0.1432192648922687}, 'rouge-l': {'f': 0.14242527956674414, 'p': 0.9523809523809523, 'r': 0.13986013986013987}}\n",
      "{'rouge-1': {'f': 0.4605543673223891, 'p': 0.9473684210526315, 'r': 0.30422535211267604}, 'rouge-2': {'f': 0.36078431063696875, 'p': 0.9452054794520548, 'r': 0.22294022617124395}, 'rouge-l': {'f': 0.21574162520677936, 'p': 0.959731543624161, 'r': 0.2081513828238719}}\n",
      "{'rouge-1': {'f': 0.5010799096850758, 'p': 0.9354838709677419, 'r': 0.3421828908554572}, 'rouge-2': {'f': 0.4401114169986267, 'p': 0.9294117647058824, 'r': 0.28832116788321166}, 'rouge-l': {'f': 0.2730172505131255, 'p': 0.9444444444444444, 'r': 0.25914634146341464}}\n",
      "{'rouge-1': {'f': 0.10029940021801832, 'p': 0.9710144927536232, 'r': 0.05288082083662194}, 'rouge-2': {'f': 0.05970149193409377, 'p': 0.958904109589041, 'r': 0.030809859154929578}, 'rouge-l': {'f': 0.02856128435228162, 'p': 0.972972972972973, 'r': 0.028537455410225922}}\n",
      "{'rouge-1': {'f': 0.21005916964794652, 'p': 0.9594594594594594, 'r': 0.11794019933554817}, 'rouge-2': {'f': 0.14358974218410403, 'p': 0.9438202247191011, 'r': 0.07770582793709528}, 'rouge-l': {'f': 0.07480494355122311, 'p': 0.96875, 'r': 0.0744}}\n",
      "{'rouge-1': {'f': 0.37943262095197683, 'p': 0.963963963963964, 'r': 0.23620309050772628}, 'rouge-2': {'f': 0.31542856866351027, 'p': 0.9517241379310345, 'r': 0.18904109589041096}, 'rouge-l': {'f': 0.18166037583518044, 'p': 0.972972972972973, 'r': 0.1769041769041769}}\n",
      "{'rouge-1': {'f': 0.3725490164791234, 'p': 0.9595959595959596, 'r': 0.23114355231143552}, 'rouge-2': {'f': 0.3257485001554449, 'p': 0.951048951048951, 'r': 0.19653179190751446}, 'rouge-l': {'f': 0.1968075740833119, 'p': 0.9743589743589743, 'r': 0.19095477386934673}}\n",
      "{'rouge-1': {'f': 0.2608695628997439, 'p': 0.975, 'r': 0.15057915057915058}, 'rouge-2': {'f': 0.1869747881699739, 'p': 0.967391304347826, 'r': 0.10348837209302325}, 'rouge-l': {'f': 0.09560344349137799, 'p': 0.9789473684210527, 'r': 0.09480122324159021}}\n",
      "{'rouge-1': {'f': 0.5760517757535007, 'p': 0.967391304347826, 'r': 0.41013824884792627}, 'rouge-2': {'f': 0.45916114420303206, 'p': 0.9369369369369369, 'r': 0.30409356725146197}, 'rouge-l': {'f': 0.29528589578361975, 'p': 0.9642857142857143, 'r': 0.27906976744186046}}\n",
      "{'rouge-1': {'f': 0.3423423394460678, 'p': 0.9743589743589743, 'r': 0.20765027322404372}, 'rouge-2': {'f': 0.2517123265030963, 'p': 0.9671052631578947, 'r': 0.14468503937007873}, 'rouge-l': {'f': 0.13362359392088102, 'p': 0.9810126582278481, 'r': 0.13157894736842105}}\n",
      "{'rouge-1': {'f': 0.23665223447828107, 'p': 0.9534883720930233, 'r': 0.13509060955518945}, 'rouge-2': {'f': 0.15397082506371346, 'p': 0.9313725490196079, 'r': 0.08392226148409894}, 'rouge-l': {'f': 0.08444575690903543, 'p': 0.963302752293578, 'r': 0.08386581469648563}}\n",
      "{'rouge-1': {'f': 0.6666666621225683, 'p': 0.9550561797752809, 'r': 0.5120481927710844}, 'rouge-2': {'f': 0.5873417678633553, 'p': 0.943089430894309, 'r': 0.4264705882352941}, 'rouge-l': {'f': 0.3982352530757589, 'p': 0.968503937007874, 'r': 0.36716417910447763}}\n",
      "{'rouge-1': {'f': 0.3133235697522558, 'p': 0.963963963963964, 'r': 0.18706293706293706}, 'rouge-2': {'f': 0.24368230820784845, 'p': 0.9375, 'r': 0.1400414937759336}, 'rouge-l': {'f': 0.13252730393659945, 'p': 0.9662162162162162, 'r': 0.13047445255474452}}\n"
     ]
    },
    {
     "name": "stdout",
     "output_type": "stream",
     "text": [
      "{'rouge-1': {'f': 0.22784809914124277, 'p': 0.9428571428571428, 'r': 0.12958115183246074}, 'rouge-2': {'f': 0.16905443958338806, 'p': 0.9147286821705426, 'r': 0.0931333859510655}, 'rouge-l': {'f': 0.069015473128603, 'p': 0.9548872180451128, 'r': 0.06868577609518658}}\n",
      "{'rouge-1': {'f': 0.2727272702808706, 'p': 0.9557522123893806, 'r': 0.15905743740795286}, 'rouge-2': {'f': 0.21536144375598784, 'p': 0.9407894736842105, 'r': 0.12159863945578231}, 'rouge-l': {'f': 0.11667476310859837, 'p': 0.9681528662420382, 'r': 0.1152388172858226}}\n",
      "{'rouge-1': {'f': 0.2736248212319941, 'p': 0.9509803921568627, 'r': 0.15980230642504117}, 'rouge-2': {'f': 0.22164048656439128, 'p': 0.9338235294117647, 'r': 0.12574257425742574}, 'rouge-l': {'f': 0.11918411580460116, 'p': 0.9635036496350365, 'r': 0.11764705882352941}}\n",
      "{'rouge-1': {'f': 0.24242424022364586, 'p': 0.9629629629629629, 'r': 0.13866666666666666}, 'rouge-2': {'f': 0.1729372920735353, 'p': 0.9492753623188406, 'r': 0.09513435003631082}, 'rouge-l': {'f': 0.08219830670381521, 'p': 0.9712230215827338, 'r': 0.08166969147005444}}\n",
      "{'rouge-1': {'f': 0.6497461884377336, 'p': 0.9696969696969697, 'r': 0.48854961832061067}, 'rouge-2': {'f': 0.5691699563030199, 'p': 0.96, 'r': 0.4044943820224719}, 'rouge-l': {'f': 0.34335011590046055, 'p': 0.9746835443037974, 'r': 0.32083333333333336}}\n",
      "{'rouge-1': {'f': 0.28514851232232136, 'p': 0.96, 'r': 0.16744186046511628}, 'rouge-2': {'f': 0.19499999810078128, 'p': 0.9176470588235294, 'r': 0.10909090909090909}, 'rouge-l': {'f': 0.10749988912756725, 'p': 0.9545454545454546, 'r': 0.10632911392405063}}\n",
      "{'rouge-1': {'f': 0.38604650840010823, 'p': 0.9540229885057471, 'r': 0.24198250728862974}, 'rouge-2': {'f': 0.3262839850446327, 'p': 0.9391304347826087, 'r': 0.19744058500914077}, 'rouge-l': {'f': 0.18562403049094583, 'p': 0.9663865546218487, 'r': 0.18053375196232338}}\n",
      "{'rouge-1': {'f': 0.13695652042592157, 'p': 0.9692307692307692, 'r': 0.07368421052631578}, 'rouge-2': {'f': 0.09131832706780123, 'p': 0.9594594594594594, 'r': 0.04794058068872384}, 'rouge-l': {'f': 0.04580677925855792, 'p': 0.9733333333333334, 'r': 0.045710707576706325}}\n",
      "{'rouge-1': {'f': 0.45822102061188164, 'p': 0.9550561797752809, 'r': 0.30141843971631205}, 'rouge-2': {'f': 0.4044943786429184, 'p': 0.9391304347826087, 'r': 0.2577565632458234}, 'rouge-l': {'f': 0.2531766323591379, 'p': 0.9658119658119658, 'r': 0.24197002141327623}}\n",
      "{'rouge-1': {'f': 0.3333333304828993, 'p': 0.9680851063829787, 'r': 0.2013274336283186}, 'rouge-2': {'f': 0.27716186006066834, 'p': 0.9615384615384616, 'r': 0.16191709844559585}, 'rouge-l': {'f': 0.1584675166576663, 'p': 0.9779411764705882, 'r': 0.15519253208868145}}\n",
      "{'rouge-1': {'f': 0.8209606937815831, 'p': 0.9494949494949495, 'r': 0.7230769230769231}, 'rouge-2': {'f': 0.7599999951620001, 'p': 0.926829268292683, 'r': 0.6440677966101694}, 'rouge-l': {'f': 0.5522250319890617, 'p': 0.9615384615384616, 'r': 0.49603174603174605}}\n",
      "{'rouge-1': {'f': 0.37414029948683997, 'p': 0.9645390070921985, 'r': 0.23208191126279865}, 'rouge-2': {'f': 0.30069929803561607, 'p': 0.9502762430939227, 'r': 0.1786085150571132}, 'rouge-l': {'f': 0.1716997580796377, 'p': 0.9728260869565217, 'r': 0.16760299625468164}}\n",
      "{'rouge-1': {'f': 0.1960784295436553, 'p': 0.9629629629629629, 'r': 0.109151973131822}, 'rouge-2': {'f': 0.14888787871616496, 'p': 0.9479768786127167, 'r': 0.08078817733990148}, 'rouge-l': {'f': 0.07638861271565336, 'p': 0.9714285714285714, 'r': 0.07596067917783736}}\n",
      "{'rouge-1': {'f': 0.4105011899442359, 'p': 0.9555555555555556, 'r': 0.2613981762917933}, 'rouge-2': {'f': 0.35348836904493725, 'p': 0.9421487603305785, 'r': 0.21755725190839695}, 'rouge-l': {'f': 0.2070757945400696, 'p': 0.968, 'r': 0.20033112582781457}}\n",
      "{'rouge-1': {'f': 0.4799999962447424, 'p': 0.957983193277311, 'r': 0.3202247191011236}, 'rouge-2': {'f': 0.4111405801504268, 'p': 0.9451219512195121, 'r': 0.2627118644067797}, 'rouge-l': {'f': 0.25299861629298637, 'p': 0.9704142011834319, 'r': 0.24188790560471976}}\n",
      "{'rouge-1': {'f': 0.43749999644970416, 'p': 0.9479166666666666, 'r': 0.284375}, 'rouge-2': {'f': 0.36781608876982114, 'p': 0.9256198347107438, 'r': 0.22950819672131148}, 'rouge-l': {'f': 0.20968045038472774, 'p': 0.9609375, 'r': 0.2026359143327842}}\n",
      "{'rouge-1': {'f': 0.0, 'p': 0.0, 'r': 0.0}, 'rouge-2': {'f': 0.0, 'p': 0.0, 'r': 0.0}, 'rouge-l': {'f': 0.0, 'p': 0.0, 'r': 0.0}}\n",
      "{'rouge-1': {'f': 0.0, 'p': 0.0, 'r': 0.0}, 'rouge-2': {'f': 0.0, 'p': 0.0, 'r': 0.0}, 'rouge-l': {'f': 0.0, 'p': 0.0, 'r': 0.0}}\n",
      "{'rouge-1': {'f': 0.2350119882607871, 'p': 0.9607843137254902, 'r': 0.13387978142076504}, 'rouge-2': {'f': 0.15306122300110148, 'p': 0.9448818897637795, 'r': 0.08327550312283137}, 'rouge-l': {'f': 0.0735274469923918, 'p': 0.9696969696969697, 'r': 0.07314285714285715}}\n",
      "{'rouge-1': {'f': 0.19823008665323832, 'p': 0.9655172413793104, 'r': 0.11045364891518737}, 'rouge-2': {'f': 0.14107883680089556, 'p': 0.951048951048951, 'r': 0.0761904761904762}, 'rouge-l': {'f': 0.07185837113269794, 'p': 0.9726027397260274, 'r': 0.07150050352467271}}\n",
      "{'rouge-1': {'f': 0.0582781451046533, 'p': 0.9565217391304348, 'r': 0.030054644808743168}, 'rouge-2': {'f': 0.03538998798848704, 'p': 0.9382716049382716, 'r': 0.018035121025154248}, 'rouge-l': {'f': 0.01687460976910324, 'p': 0.9634146341463414, 'r': 0.01686952808029041}}\n",
      "{'rouge-1': {'f': 0.43026004382453376, 'p': 0.9680851063829787, 'r': 0.2765957446808511}, 'rouge-2': {'f': 0.3518518488534999, 'p': 0.957983193277311, 'r': 0.21550094517958412}, 'rouge-l': {'f': 0.20804577821200285, 'p': 0.9761904761904762, 'r': 0.20130932896890344}}\n",
      "{'rouge-1': {'f': 0.2941176444784833, 'p': 0.9663865546218487, 'r': 0.17345399698340874}, 'rouge-2': {'f': 0.22322097171878974, 'p': 0.9551282051282052, 'r': 0.1263782866836302}, 'rouge-l': {'f': 0.12121487781479161, 'p': 0.9754601226993865, 'r': 0.11963882618510158}}\n",
      "{'rouge-1': {'f': 0.21276595547537208, 'p': 0.9595959595959596, 'r': 0.11964735516372796}, 'rouge-2': {'f': 0.15711525926227163, 'p': 0.9457364341085271, 'r': 0.08567415730337079}, 'rouge-l': {'f': 0.08266086445012773, 'p': 0.9701492537313433, 'r': 0.082122552116235}}\n",
      "{'rouge-1': {'f': 0.19530658410886625, 'p': 0.9699248120300752, 'r': 0.10858585858585859}, 'rouge-2': {'f': 0.1386643967868366, 'p': 0.9588235294117647, 'r': 0.07473635946813388}, 'rouge-l': {'f': 0.07054126206262723, 'p': 0.9767441860465116, 'r': 0.07020476389469285}}\n",
      "{'rouge-1': {'f': 0.28252787853532985, 'p': 0.9620253164556962, 'r': 0.1655773420479303}, 'rouge-2': {'f': 0.2211421607581545, 'p': 0.9479166666666666, 'r': 0.12517193947730398}, 'rouge-l': {'f': 0.1218710405295205, 'p': 0.9693877551020408, 'r': 0.12025316455696203}}\n",
      "{'rouge-1': {'f': 0.4456521703314036, 'p': 0.9534883720930233, 'r': 0.2907801418439716}, 'rouge-2': {'f': 0.3548387065998639, 'p': 0.9339622641509434, 'r': 0.21902654867256638}, 'rouge-l': {'f': 0.21106194999551633, 'p': 0.9629629629629629, 'r': 0.20392156862745098}}\n",
      "{'rouge-1': {'f': 0.4872881318644966, 'p': 0.9829059829059829, 'r': 0.323943661971831}, 'rouge-2': {'f': 0.3895424804288949, 'p': 0.9612903225806452, 'r': 0.2442622950819672}, 'rouge-l': {'f': 0.23173300758298296, 'p': 0.975, 'r': 0.22285714285714286}}\n",
      "{'rouge-1': {'f': 0.25799086526545006, 'p': 0.9658119658119658, 'r': 0.14888010540184454}, 'rouge-2': {'f': 0.19999999812322478, 'p': 0.9539473684210527, 'r': 0.11171032357473036}, 'rouge-l': {'f': 0.10586899187115797, 'p': 0.9741935483870968, 'r': 0.10478834142956281}}\n",
      "{'rouge-1': {'f': 0.07512690281149219, 'p': 0.9736842105263158, 'r': 0.03907074973600845}, 'rouge-2': {'f': 0.04756637120653537, 'p': 0.9772727272727273, 'r': 0.024376417233560092}, 'rouge-l': {'f': 0.023148881604159337, 'p': 0.9782608695652174, 'r': 0.02313624678663239}}\n",
      "{'rouge-1': {'f': 0.3186813158913477, 'p': 0.9508196721311475, 'r': 0.19141914191419143}, 'rouge-2': {'f': 0.258407077266129, 'p': 0.9358974358974359, 'r': 0.14989733059548255}, 'rouge-l': {'f': 0.14695815884467647, 'p': 0.9620253164556962, 'r': 0.1442125237191651}}\n",
      "{'rouge-1': {'f': 0.4404494346687539, 'p': 0.9607843137254902, 'r': 0.2857142857142857}, 'rouge-2': {'f': 0.3770250336330175, 'p': 0.9481481481481482, 'r': 0.23529411764705882}, 'rouge-l': {'f': 0.24114943228523658, 'p': 0.9714285714285714, 'r': 0.23129251700680273}}\n"
     ]
    },
    {
     "name": "stdout",
     "output_type": "stream",
     "text": [
      "{'rouge-1': {'f': 0.21914008120182904, 'p': 0.9634146341463414, 'r': 0.12363067292644757}, 'rouge-2': {'f': 0.15607401297457882, 'p': 0.9509803921568627, 'r': 0.08501314636283962}, 'rouge-l': {'f': 0.08024289256792118, 'p': 0.9714285714285714, 'r': 0.0797498045347928}}\n",
      "{'rouge-1': {'f': 0.5874125831793732, 'p': 0.9655172413793104, 'r': 0.4221105527638191}, 'rouge-2': {'f': 0.48815165495923274, 'p': 0.9537037037037037, 'r': 0.32802547770700635}, 'rouge-l': {'f': 0.3030914528763508, 'p': 0.9736842105263158, 'r': 0.2860824742268041}}\n",
      "{'rouge-1': {'f': 0.33160621478160496, 'p': 0.9696969696969697, 'r': 0.2}, 'rouge-2': {'f': 0.26795283790168517, 'p': 0.9615384615384616, 'r': 0.15566625155666253}, 'rouge-l': {'f': 0.15243018325433555, 'p': 0.9772727272727273, 'r': 0.14947856315179606}}\n",
      "{'rouge-1': {'f': 0.17129629467273771, 'p': 0.961038961038961, 'r': 0.0940279542566709}, 'rouge-2': {'f': 0.11103853577437509, 'p': 0.9239130434782609, 'r': 0.05906879777623349}, 'rouge-l': {'f': 0.05618535753232862, 'p': 0.9574468085106383, 'r': 0.056004978220286245}}\n",
      "{'rouge-1': {'f': 0.41580041241108057, 'p': 0.9615384615384616, 'r': 0.26525198938992045}, 'rouge-2': {'f': 0.32765399451733096, 'p': 0.946969696969697, 'r': 0.19809825673534073}, 'rouge-l': {'f': 0.1918574063748255, 'p': 0.9703703703703703, 'r': 0.18634423897581792}}\n",
      "{'rouge-1': {'f': 0.5981873069143219, 'p': 0.9705882352941176, 'r': 0.43231441048034935}, 'rouge-2': {'f': 0.5111561827103177, 'p': 0.9618320610687023, 'r': 0.34806629834254144}, 'rouge-l': {'f': 0.33018271281912664, 'p': 0.9782608695652174, 'r': 0.30963302752293576}}\n",
      "{'rouge-1': {'f': 0.1913043460559701, 'p': 0.9746835443037974, 'r': 0.10606060606060606}, 'rouge-2': {'f': 0.13028878316609696, 'p': 0.97, 'r': 0.06983441324694024}, 'rouge-l': {'f': 0.06328999130301195, 'p': 0.9805825242718447, 'r': 0.06304619225967541}}\n",
      "{'rouge-1': {'f': 0.2011834300726953, 'p': 0.9577464788732394, 'r': 0.11239669421487604}, 'rouge-2': {'f': 0.15187557034007484, 'p': 0.9431818181818182, 'r': 0.08258706467661692}, 'rouge-l': {'f': 0.0795295075247298, 'p': 0.9662921348314607, 'r': 0.07904411764705882}}\n",
      "{'rouge-1': {'f': 0.5428571387755102, 'p': 0.95, 'r': 0.38}, 'rouge-2': {'f': 0.4472361772440091, 'p': 0.9270833333333334, 'r': 0.2947019867549669}, 'rouge-l': {'f': 0.2899145299146172, 'p': 0.96, 'r': 0.2742857142857143}}\n",
      "{'rouge-1': {'f': 0.6666666621298046, 'p': 0.9583333333333334, 'r': 0.5111111111111111}, 'rouge-2': {'f': 0.5949367045114966, 'p': 0.9306930693069307, 'r': 0.4372093023255814}, 'rouge-l': {'f': 0.43771101663880463, 'p': 0.9615384615384616, 'r': 0.4}}\n",
      "{'rouge-1': {'f': 0.4166666632672554, 'p': 0.9595959595959596, 'r': 0.2661064425770308}, 'rouge-2': {'f': 0.33623188112829244, 'p': 0.943089430894309, 'r': 0.20458553791887124}, 'rouge-l': {'f': 0.2004214664303054, 'p': 0.968, 'r': 0.1942215088282504}}\n",
      "{'rouge-1': {'f': 0.3902438991364635, 'p': 0.935064935064935, 'r': 0.2465753424657534}, 'rouge-2': {'f': 0.31615119988066986, 'p': 0.9108910891089109, 'r': 0.19126819126819128}, 'rouge-l': {'f': 0.1904136179825573, 'p': 0.9523809523809523, 'r': 0.18484288354898337}}\n",
      "{'rouge-1': {'f': 0.35662650300177096, 'p': 0.961038961038961, 'r': 0.21893491124260356}, 'rouge-2': {'f': 0.27140549026805966, 'p': 0.9438202247191011, 'r': 0.15849056603773584}, 'rouge-l': {'f': 0.14798793151345707, 'p': 0.967032967032967, 'r': 0.14521452145214522}}\n",
      "{'rouge-1': {'f': 0.3846153814348703, 'p': 0.9693877551020408, 'r': 0.2398989898989899}, 'rouge-2': {'f': 0.31746031470021147, 'p': 0.96, 'r': 0.1901743264659271}, 'rouge-l': {'f': 0.18035094206330415, 'p': 0.9694656488549618, 'r': 0.17565698478561548}}\n",
      "{'rouge-1': {'f': 0.37461299997483927, 'p': 0.968, 'r': 0.23224568138195778}, 'rouge-2': {'f': 0.2801556395171199, 'p': 0.9536423841059603, 'r': 0.16419612314709237}, 'rouge-l': {'f': 0.15782680392690834, 'p': 0.9738562091503268, 'r': 0.1545643153526971}}\n",
      "{'rouge-1': {'f': 0.4315545208232084, 'p': 0.9393939393939394, 'r': 0.28012048192771083}, 'rouge-2': {'f': 0.3333333302494332, 'p': 0.875, 'r': 0.20588235294117646}, 'rouge-l': {'f': 0.20604738080433055, 'p': 0.8208955223880597, 'r': 0.19748653500897667}}\n",
      "{'rouge-1': {'f': 0.4360586965721293, 'p': 0.9122807017543859, 'r': 0.2865013774104683}, 'rouge-2': {'f': 0.3517730463946885, 'p': 0.8611111111111112, 'r': 0.22103386809269163}, 'rouge-l': {'f': 0.22127321438659314, 'p': 0.8136645962732919, 'r': 0.2109500805152979}}\n",
      "{'rouge-1': {'f': 0.31415240784280535, 'p': 0.9619047619047619, 'r': 0.18773234200743494}, 'rouge-2': {'f': 0.23402163005133, 'p': 0.9296875, 'r': 0.13385826771653545}, 'rouge-l': {'f': 0.13153841830390614, 'p': 0.9328358208955224, 'r': 0.12939958592132506}}\n",
      "{'rouge-1': {'f': 0.2936708833948406, 'p': 0.9206349206349206, 'r': 0.1746987951807229}, 'rouge-2': {'f': 0.22372881123993105, 'p': 0.8354430379746836, 'r': 0.12915851272015655}, 'rouge-l': {'f': 0.130620802036076, 'p': 0.8, 'r': 0.12788632326820604}}\n",
      "{'rouge-1': {'f': 0.20888888687911114, 'p': 0.9215686274509803, 'r': 0.11779448621553884}, 'rouge-2': {'f': 0.1344307254898286, 'p': 0.8032786885245902, 'r': 0.07335329341317365}, 'rouge-l': {'f': 0.06934791934793359, 'p': 0.7571428571428571, 'r': 0.06883116883116883}}\n",
      "{'rouge-1': {'f': 0.38938052762784875, 'p': 0.9166666666666666, 'r': 0.24719101123595505}, 'rouge-2': {'f': 0.3058350071202264, 'p': 0.8539325842696629, 'r': 0.18627450980392157}, 'rouge-l': {'f': 0.1935697839758785, 'p': 0.8181818181818182, 'r': 0.18620689655172415}}\n",
      "{'rouge-1': {'f': 0.25939849376483975, 'p': 0.8961038961038961, 'r': 0.15164835164835164}, 'rouge-2': {'f': 0.1877256298186547, 'p': 0.8571428571428571, 'r': 0.10540540540540541}, 'rouge-l': {'f': 0.09998493224216115, 'p': 0.845360824742268, 'r': 0.09879518072289156}}\n",
      "{'rouge-1': {'f': 0.15717539707076553, 'p': 0.92, 'r': 0.0859277708592777}, 'rouge-2': {'f': 0.11016949034737185, 'p': 0.8764044943820225, 'r': 0.0587792012057272}, 'rouge-l': {'f': 0.0570233423352401, 'p': 0.865979381443299, 'r': 0.056795131845841784}}\n",
      "{'rouge-1': {'f': 0.23973727198654018, 'p': 0.9358974358974359, 'r': 0.1374764595103578}, 'rouge-2': {'f': 0.16309012704525777, 'p': 0.8636363636363636, 'r': 0.09004739336492891}, 'rouge-l': {'f': 0.08738300433210551, 'p': 0.8229166666666666, 'r': 0.08652792990142388}}\n",
      "{'rouge-1': {'f': 0.21217391103818528, 'p': 0.9384615384615385, 'r': 0.11960784313725491}, 'rouge-2': {'f': 0.15855039476534874, 'p': 0.8974358974358975, 'r': 0.08695652173913043}, 'rouge-l': {'f': 0.08737360243216225, 'p': 0.872093023255814, 'r': 0.08660508083140878}}\n",
      "{'rouge-1': {'f': 0.30015797511586295, 'p': 0.9047619047619048, 'r': 0.17992424242424243}, 'rouge-2': {'f': 0.24124513376366413, 'p': 0.8551724137931035, 'r': 0.1404303510758777}, 'rouge-l': {'f': 0.13965586772833882, 'p': 0.8407643312101911, 'r': 0.13664596273291926}}\n",
      "{'rouge-1': {'f': 0.3029411736408305, 'p': 0.8879310344827587, 'r': 0.18262411347517732}, 'rouge-2': {'f': 0.23725834558764025, 'p': 0.8544303797468354, 'r': 0.1377551020408163}, 'rouge-l': {'f': 0.1393997399323985, 'p': 0.8409090909090909, 'r': 0.13640552995391705}}\n",
      "{'rouge-1': {'f': 0.1790476173551746, 'p': 0.9591836734693877, 'r': 0.09873949579831932}, 'rouge-2': {'f': 0.1167883199192226, 'p': 0.8727272727272727, 'r': 0.06258148631029987}, 'rouge-l': {'f': 0.061591199987127566, 'p': 0.819672131147541, 'r': 0.061274509803921566}}\n",
      "{'rouge-1': {'f': 0.3395638599477393, 'p': 0.9316239316239316, 'r': 0.20761904761904762}, 'rouge-2': {'f': 0.2857142830060569, 'p': 0.8846153846153846, 'r': 0.17037037037037037}, 'rouge-l': {'f': 0.16619940571975378, 'p': 0.8622754491017964, 'r': 0.16161616161616163}}\n",
      "{'rouge-1': {'f': 0.22784809910892098, 'p': 0.9264705882352942, 'r': 0.12989690721649486}, 'rouge-2': {'f': 0.18171620681294548, 'p': 0.8950276243093923, 'r': 0.10112359550561797}, 'rouge-l': {'f': 0.1012553254525676, 'p': 0.8592964824120602, 'r': 0.10005851375073142}}\n",
      "{'rouge-1': {'f': 0.32360742418461397, 'p': 0.9312977099236641, 'r': 0.1958266452648475}, 'rouge-2': {'f': 0.27068965259833533, 'p': 0.8920454545454546, 'r': 0.15955284552845528}, 'rouge-l': {'f': 0.16386035066890145, 'p': 0.859375, 'r': 0.15942028985507245}}\n",
      "{'rouge-1': {'f': 0.2838983025288172, 'p': 0.9436619718309859, 'r': 0.16708229426433915}, 'rouge-2': {'f': 0.2249657041200058, 'p': 0.8367346938775511, 'r': 0.12995245641838352}, 'rouge-l': {'f': 0.12468834885376533, 'p': 0.7837837837837838, 'r': 0.12219101123595505}}\n"
     ]
    },
    {
     "name": "stdout",
     "output_type": "stream",
     "text": [
      "{'rouge-1': {'f': 0.2087542067267513, 'p': 0.9117647058823529, 'r': 0.11787072243346007}, 'rouge-2': {'f': 0.1501632193028094, 'p': 0.8625, 'r': 0.08224076281287247}, 'rouge-l': {'f': 0.07918969382828066, 'p': 0.8488372093023255, 'r': 0.07857911733046287}}\n",
      "{'rouge-1': {'f': 0.30866807335571167, 'p': 0.9358974358974359, 'r': 0.1848101265822785}, 'rouge-2': {'f': 0.23562412109188408, 'p': 0.875, 'r': 0.13614262560777957}, 'rouge-l': {'f': 0.13630369143634555, 'p': 0.8490566037735849, 'r': 0.13353115727002968}}\n",
      "{'rouge-1': {'f': 0.26614481158543357, 'p': 0.9066666666666666, 'r': 0.1559633027522936}, 'rouge-2': {'f': 0.21304926547314634, 'p': 0.8602150537634409, 'r': 0.12158054711246201}, 'rouge-l': {'f': 0.1211116572175291, 'p': 0.8285714285714286, 'r': 0.11901504787961696}}\n",
      "{'rouge-1': {'f': 0.3212121183941231, 'p': 0.9464285714285714, 'r': 0.19343065693430658}, 'rouge-2': {'f': 0.22619047379850088, 'p': 0.8142857142857143, 'r': 0.1313364055299539}, 'rouge-l': {'f': 0.12697575773802972, 'p': 0.863013698630137, 'r': 0.12475247524752475}}\n",
      "{'rouge-1': {'f': 0.31893687428389317, 'p': 0.9504950495049505, 'r': 0.19161676646706588}, 'rouge-2': {'f': 0.2494714564184125, 'p': 0.9147286821705426, 'r': 0.14443084455324356}, 'rouge-l': {'f': 0.13805403992203338, 'p': 0.8723404255319149, 'r': 0.1353135313531353}}\n",
      "{'rouge-1': {'f': 0.3843648175467115, 'p': 0.921875, 'r': 0.24279835390946503}, 'rouge-2': {'f': 0.27678571149802694, 'p': 0.8266666666666667, 'r': 0.16621983914209115}, 'rouge-l': {'f': 0.17778542555056553, 'p': 0.7608695652173914, 'r': 0.17114914425427874}}\n",
      "{'rouge-1': {'f': 0.34349919442144233, 'p': 0.9304347826086956, 'r': 0.2106299212598425}, 'rouge-2': {'f': 0.2819472589996256, 'p': 0.8910256410256411, 'r': 0.1674698795180723}, 'rouge-l': {'f': 0.17091214075200514, 'p': 0.8764705882352941, 'r': 0.16610925306577481}}\n",
      "{'rouge-1': {'f': 0.3378995404223223, 'p': 0.9367088607594937, 'r': 0.20612813370473537}, 'rouge-2': {'f': 0.2676691703981458, 'p': 0.898989898989899, 'r': 0.15724381625441697}, 'rouge-l': {'f': 0.15403522549866489, 'p': 0.8785046728971962, 'r': 0.1504}}\n",
      "{'rouge-1': {'f': 0.20840950436036357, 'p': 0.9047619047619048, 'r': 0.11776859504132231}, 'rouge-2': {'f': 0.1412803516823093, 'p': 0.8533333333333334, 'r': 0.07701564380264742}, 'rouge-l': {'f': 0.07727169376958422, 'p': 0.8214285714285714, 'r': 0.07666666666666666}}\n",
      "{'rouge-1': {'f': 0.2840409930668462, 'p': 0.9509803921568627, 'r': 0.16695352839931152}, 'rouge-2': {'f': 0.21421800738977115, 'p': 0.904, 'r': 0.12150537634408602}, 'rouge-l': {'f': 0.1173276178618399, 'p': 0.8823529411764706, 'r': 0.11560693641618497}}\n",
      "{'rouge-1': {'f': 0.2827586180204519, 'p': 0.8913043478260869, 'r': 0.1680327868852459}, 'rouge-2': {'f': 0.22828783883405476, 'p': 0.8363636363636363, 'r': 0.13218390804597702}, 'rouge-l': {'f': 0.13495903955189026, 'p': 0.8166666666666667, 'r': 0.1320754716981132}}\n",
      "{'rouge-1': {'f': 0.2216808748584137, 'p': 0.9191919191919192, 'r': 0.1260387811634349}, 'rouge-2': {'f': 0.15601782894858798, 'p': 0.8536585365853658, 'r': 0.08585445625511039}, 'rouge-l': {'f': 0.08655601276882456, 'p': 0.8421052631578947, 'r': 0.08575803981623277}}\n",
      "{'rouge-1': {'f': 0.18290258270259166, 'p': 0.92, 'r': 0.10154525386313466}, 'rouge-2': {'f': 0.1337047339613675, 'p': 0.8727272727272727, 'r': 0.07239819004524888}, 'rouge-l': {'f': 0.0722215278451661, 'p': 0.8333333333333334, 'r': 0.07173601147776183}}\n",
      "{'rouge-1': {'f': 0.4364508357584436, 'p': 0.9381443298969072, 'r': 0.284375}, 'rouge-2': {'f': 0.3299270043156269, 'p': 0.904, 'r': 0.2017857142857143}, 'rouge-l': {'f': 0.18461080200698154, 'p': 0.9365079365079365, 'r': 0.17933130699088146}}\n",
      "{'rouge-1': {'f': 0.2666666641696382, 'p': 0.9117647058823529, 'r': 0.1561712846347607}, 'rouge-2': {'f': 0.17300130878044004, 'p': 0.8461538461538461, 'r': 0.09635036496350365}, 'rouge-l': {'f': 0.09378999997587616, 'p': 0.9, 'r': 0.09290322580645162}}\n",
      "{'rouge-1': {'f': 0.23462088478050602, 'p': 0.9318181818181818, 'r': 0.1342062193126023}, 'rouge-2': {'f': 0.1652173896307902, 'p': 0.8962264150943396, 'r': 0.09099616858237548}, 'rouge-l': {'f': 0.08934999438346504, 'p': 0.9272727272727272, 'r': 0.08861859252823631}}\n",
      "{'rouge-1': {'f': 0.26687116317644627, 'p': 0.925531914893617, 'r': 0.15591397849462366}, 'rouge-2': {'f': 0.19654230924663915, 'p': 0.9, 'r': 0.11031664964249234}, 'rouge-l': {'f': 0.10363605605621246, 'p': 0.936, 'r': 0.10254163014899212}}\n",
      "{'rouge-1': {'f': 0.23112127933308552, 'p': 0.9528301886792453, 'r': 0.13151041666666666}, 'rouge-2': {'f': 0.15431720605625932, 'p': 0.9197080291970803, 'r': 0.08422459893048129}, 'rouge-l': {'f': 0.08073253267838569, 'p': 0.9513888888888888, 'r': 0.08021077283372366}}\n",
      "{'rouge-1': {'f': 0.29321662751250904, 'p': 0.9178082191780822, 'r': 0.17447916666666666}, 'rouge-2': {'f': 0.21947873579178118, 'p': 0.8695652173913043, 'r': 0.12558869701726844}, 'rouge-l': {'f': 0.11762211257183919, 'p': 0.9157894736842105, 'r': 0.116}}\n",
      "{'rouge-1': {'f': 0.313883297016546, 'p': 0.9397590361445783, 'r': 0.18840579710144928}, 'rouge-2': {'f': 0.2396087996281706, 'p': 0.8909090909090909, 'r': 0.1384180790960452}, 'rouge-l': {'f': 0.1271165987083419, 'p': 0.9279279279279279, 'r': 0.12515188335358446}}\n",
      "{'rouge-1': {'f': 0.29166666405387975, 'p': 0.9438202247191011, 'r': 0.17248459958932238}, 'rouge-2': {'f': 0.1929648222011364, 'p': 0.897196261682243, 'r': 0.10810810810810811}, 'rouge-l': {'f': 0.09846183083548857, 'p': 0.9357798165137615, 'r': 0.09751434034416825}}\n",
      "{'rouge-1': {'f': 0.1696969680242718, 'p': 0.9210526315789473, 'r': 0.09345794392523364}, 'rouge-2': {'f': 0.10497237454900644, 'p': 0.8636363636363636, 'r': 0.05588235294117647}, 'rouge-l': {'f': 0.053946682161055484, 'p': 0.9111111111111111, 'r': 0.05377049180327869}}\n",
      "{'rouge-1': {'f': 0.13532338175439224, 'p': 0.9444444444444444, 'r': 0.07288317256162916}, 'rouge-2': {'f': 0.07910208359895232, 'p': 0.891566265060241, 'r': 0.04138702460850112}, 'rouge-l': {'f': 0.0395940144459453, 'p': 0.9302325581395349, 'r': 0.039525691699604744}}\n",
      "{'rouge-1': {'f': 0.11744966326499934, 'p': 0.9459459459459459, 'r': 0.0626118067978533}, 'rouge-2': {'f': 0.07174490620753216, 'p': 0.8709677419354839, 'r': 0.03741339491916859}, 'rouge-l': {'f': 0.034669278515016715, 'p': 0.9148936170212766, 'r': 0.03462157809983897}}\n",
      "{'rouge-1': {'f': 0.2557377025431873, 'p': 0.9285714285714286, 'r': 0.1482889733840304}, 'rouge-2': {'f': 0.19186046321172107, 'p': 0.9, 'r': 0.10737527114967461}, 'rouge-l': {'f': 0.097805264117995, 'p': 0.9292035398230089, 'r': 0.09686346863468635}}\n",
      "{'rouge-1': {'f': 0.24334600538152937, 'p': 0.9552238805970149, 'r': 0.1394335511982571}, 'rouge-2': {'f': 0.17063989791863782, 'p': 0.9066666666666666, 'r': 0.09418282548476455}, 'rouge-l': {'f': 0.09240676799649741, 'p': 0.9342105263157895, 'r': 0.09161290322580645}}\n",
      "{'rouge-1': {'f': 0.3092105235673477, 'p': 0.94, 'r': 0.18503937007874016}, 'rouge-2': {'f': 0.2462941824251589, 'p': 0.9310344827586207, 'r': 0.14191852825229961}, 'rouge-l': {'f': 0.1302588122260547, 'p': 0.9401709401709402, 'r': 0.1282051282051282}}\n",
      "{'rouge-1': {'f': 0.2545454522399019, 'p': 0.9572649572649573, 'r': 0.14678899082568808}, 'rouge-2': {'f': 0.2007547150793137, 'p': 0.9432624113475178, 'r': 0.11233108108108109}, 'rouge-l': {'f': 0.10751203678798431, 'p': 0.951048951048951, 'r': 0.10633307271305707}}\n",
      "{'rouge-1': {'f': 0.15384615233198692, 'p': 0.9322033898305084, 'r': 0.08384146341463415}, 'rouge-2': {'f': 0.12082957498060383, 'p': 0.9305555555555556, 'r': 0.06460945033751206}, 'rouge-l': {'f': 0.06098031825617073, 'p': 0.9324324324324325, 'r': 0.06073943661971831}}\n",
      "{'rouge-1': {'f': 0.4285714250338401, 'p': 0.9333333333333333, 'r': 0.2781456953642384}, 'rouge-2': {'f': 0.3496503465871192, 'p': 0.9259259259259259, 'r': 0.21551724137931033}, 'rouge-l': {'f': 0.2007272805057315, 'p': 0.9385964912280702, 'r': 0.19419237749546278}}\n",
      "{'rouge-1': {'f': 0.131147539677177, 'p': 0.9333333333333333, 'r': 0.07052896725440806}, 'rouge-2': {'f': 0.0892857133250071, 'p': 0.8823529411764706, 'r': 0.047021943573667714}, 'rouge-l': {'f': 0.04653985383772764, 'p': 0.9130434782608695, 'r': 0.04642593957258659}}\n",
      "{'rouge-1': {'f': 0.13102119331395418, 'p': 0.9444444444444444, 'r': 0.07039337474120083}, 'rouge-2': {'f': 0.09127671773629413, 'p': 0.9404761904761905, 'r': 0.04796599878567092}, 'rouge-l': {'f': 0.045659654580746695, 'p': 0.9411764705882353, 'r': 0.04555808656036447}}\n"
     ]
    },
    {
     "name": "stdout",
     "output_type": "stream",
     "text": [
      "{'rouge-1': {'f': 0.49577464402047217, 'p': 0.946236559139785, 'r': 0.33587786259541985}, 'rouge-2': {'f': 0.4166666630385488, 'p': 0.875, 'r': 0.2734375}, 'rouge-l': {'f': 0.2929762737014248, 'p': 0.8951612903225806, 'r': 0.27543424317617865}}\n",
      "{'rouge-1': {'f': 0.5441696072519322, 'p': 0.9625, 'r': 0.3793103448275862}, 'rouge-2': {'f': 0.4498777469419719, 'p': 0.9292929292929293, 'r': 0.2967741935483871}, 'rouge-l': {'f': 0.30972030216994006, 'p': 0.9509803921568627, 'r': 0.2912912912912913}}\n",
      "{'rouge-1': {'f': 0.26890756054630677, 'p': 0.927536231884058, 'r': 0.15724815724815724}, 'rouge-2': {'f': 0.20202019997792814, 'p': 0.875, 'r': 0.11419249592169657}, 'rouge-l': {'f': 0.10918522296434745, 'p': 0.9012345679012346, 'r': 0.10782865583456426}}\n",
      "{'rouge-1': {'f': 0.12765957315024395, 'p': 0.9, 'r': 0.06870229007633588}, 'rouge-2': {'f': 0.09612625434926073, 'p': 0.881578947368421, 'r': 0.05083459787556904}, 'rouge-l': {'f': 0.05168671741308869, 'p': 0.9135802469135802, 'r': 0.05153203342618384}}\n",
      "{'rouge-1': {'f': 0.2503863965040408, 'p': 0.9642857142857143, 'r': 0.1438721136767318}, 'rouge-2': {'f': 0.18007662665132634, 'p': 0.9591836734693877, 'r': 0.09936575052854123}, 'rouge-l': {'f': 0.09235685544612822, 'p': 0.96, 'r': 0.0916030534351145}}\n",
      "{'rouge-1': {'f': 0.6618704990756172, 'p': 0.9583333333333334, 'r': 0.5054945054945055}, 'rouge-2': {'f': 0.6220095649713835, 'p': 0.948905109489051, 'r': 0.4626334519572954}, 'rouge-l': {'f': 0.4232564037902421, 'p': 0.9436619718309859, 'r': 0.3872832369942196}}\n",
      "{'rouge-1': {'f': 0.2150220892545349, 'p': 0.9240506329113924, 'r': 0.12166666666666667}, 'rouge-2': {'f': 0.16536964815979427, 'p': 0.9139784946236559, 'r': 0.09090909090909091}, 'rouge-l': {'f': 0.09179205952020357, 'p': 0.9270833333333334, 'r': 0.09100204498977506}}\n",
      "{'rouge-1': {'f': 0.2280219758966309, 'p': 0.9431818181818182, 'r': 0.1296875}, 'rouge-2': {'f': 0.16637167975908845, 'p': 0.912621359223301, 'r': 0.09152872444011685}, 'rouge-l': {'f': 0.08071620785279626, 'p': 0.9238095238095239, 'r': 0.08016528925619834}}\n",
      "{'rouge-1': {'f': 0.07351351274551352, 'p': 0.918918918918919, 'r': 0.038288288288288286}, 'rouge-2': {'f': 0.05068226065312489, 'p': 0.8863636363636364, 'r': 0.02608695652173913}, 'rouge-l': {'f': 0.025422771854359864, 'p': 0.8913043478260869, 'r': 0.02540272614622057}}\n",
      "{'rouge-1': {'f': 0.4393442586883096, 'p': 0.9305555555555556, 'r': 0.2875536480686695}, 'rouge-2': {'f': 0.36637930713965894, 'p': 0.9139784946236559, 'r': 0.22911051212938005}, 'rouge-l': {'f': 0.23551122304127012, 'p': 0.9278350515463918, 'r': 0.22556390977443608}}\n",
      "{'rouge-1': {'f': 0.09702660300557651, 'p': 0.8611111111111112, 'r': 0.05140961857379768}, 'rouge-2': {'f': 0.06256306687098112, 'p': 0.8157894736842105, 'r': 0.03252885624344176}, 'rouge-l': {'f': 0.032655255235882835, 'p': 0.8461538461538461, 'r': 0.03260869565217391}}\n",
      "{'rouge-1': {'f': 0.33210331815010996, 'p': 0.9507042253521126, 'r': 0.20119225037257824}, 'rouge-2': {'f': 0.25657370280235553, 'p': 0.930635838150289, 'r': 0.1487985212569316}, 'rouge-l': {'f': 0.13915213359298786, 'p': 0.9428571428571428, 'r': 0.13670256835128416}}\n",
      "{'rouge-1': {'f': 0.46710525937521646, 'p': 0.922077922077922, 'r': 0.31277533039647576}, 'rouge-2': {'f': 0.402843598433099, 'p': 0.9042553191489362, 'r': 0.25914634146341464}, 'rouge-l': {'f': 0.2585011694459746, 'p': 0.9166666666666666, 'r': 0.24581005586592178}}\n",
      "{'rouge-1': {'f': 0.2378559442017458, 'p': 0.9466666666666667, 'r': 0.1360153256704981}, 'rouge-2': {'f': 0.18438177692799773, 'p': 0.9139784946236559, 'r': 0.10253317249698432}, 'rouge-l': {'f': 0.10232584023932774, 'p': 0.9270833333333334, 'r': 0.1012514220705347}}\n",
      "{'rouge-1': {'f': 0.25641025408588874, 'p': 0.9550561797752809, 'r': 0.1480836236933798}, 'rouge-2': {'f': 0.18689956152576803, 'p': 0.9385964912280702, 'r': 0.1037827352085354}, 'rouge-l': {'f': 0.09441210014992757, 'p': 0.9487179487179487, 'r': 0.09359190556492411}}\n",
      "{'rouge-1': {'f': 0.1703163000249821, 'p': 0.9210526315789473, 'r': 0.0938337801608579}, 'rouge-2': {'f': 0.1203124987465332, 'p': 0.8953488372093024, 'r': 0.06448911222780569}, 'rouge-l': {'f': 0.06281850728572633, 'p': 0.9195402298850575, 'r': 0.06254886630179828}}\n",
      "{'rouge-1': {'f': 0.23659888866240036, 'p': 0.9014084507042254, 'r': 0.13617021276595745}, 'rouge-2': {'f': 0.19102416377832016, 'p': 0.8829787234042553, 'r': 0.10709677419354839}, 'rouge-l': {'f': 0.10173087012781047, 'p': 0.8865979381443299, 'r': 0.10058479532163743}}\n",
      "{'rouge-1': {'f': 0.2599704555325105, 'p': 0.946236559139785, 'r': 0.1506849315068493}, 'rouge-2': {'f': 0.21193232208457666, 'p': 0.9153846153846154, 'r': 0.11983887210473314}, 'rouge-l': {'f': 0.11291329624939068, 'p': 0.927536231884058, 'r': 0.11149825783972125}}\n",
      "{'rouge-1': {'f': 0.1806451595629886, 'p': 0.9459459459459459, 'r': 0.09985734664764621}, 'rouge-2': {'f': 0.12592592468148148, 'p': 0.9444444444444444, 'r': 0.06746031746031746}, 'rouge-l': {'f': 0.06284589536172247, 'p': 0.9456521739130435, 'r': 0.06258992805755395}}\n",
      "{'rouge-1': {'f': 0.37908496414123727, 'p': 0.9560439560439561, 'r': 0.23641304347826086}, 'rouge-2': {'f': 0.31325300930400823, 'p': 0.9541284403669725, 'r': 0.1873873873873874}, 'rouge-l': {'f': 0.19108013468041785, 'p': 0.9565217391304348, 'r': 0.18549747048903878}}\n",
      "{'rouge-1': {'f': 0.5428571388001634, 'p': 0.9595959595959596, 'r': 0.3784860557768924}, 'rouge-2': {'f': 0.4471544678773383, 'p': 0.9243697478991597, 'r': 0.2949061662198391}, 'rouge-l': {'f': 0.29948911867994554, 'p': 0.943089430894309, 'r': 0.2822384428223844}}\n",
      "{'rouge-1': {'f': 0.3267973827143406, 'p': 0.9259259259259259, 'r': 0.1984126984126984}, 'rouge-2': {'f': 0.2650957265432793, 'p': 0.9183673469387755, 'r': 0.1549053356282272}, 'rouge-l': {'f': 0.1525836121263995, 'p': 0.9313725490196079, 'r': 0.14937106918238993}}\n"
     ]
    }
   ],
   "source": [
    "# Rouge scores for LDA Summary\n",
    "for i in range(308):\n",
    "    id_i = i+1\n",
    "    lda_summ = es.get(index=\"duc_data\", doc_type='test', id=id_i)['_source']['LDA_Summary']\n",
    "    gold_summ = es.get(index=\"duc_data\", doc_type='test', id=id_i)['_source']['gold_summary']\n",
    "    ops = check_output([\"rouge.exe\", lda_summ, gold_summ])\n",
    "    print(json.loads(ops.decode('utf-8'))[0])"
   ]
  },
  {
   "cell_type": "code",
   "execution_count": null,
   "metadata": {},
   "outputs": [],
   "source": []
  }
 ],
 "metadata": {
  "kernelspec": {
   "display_name": "Python 3",
   "language": "python",
   "name": "python3"
  },
  "language_info": {
   "codemirror_mode": {
    "name": "ipython",
    "version": 3
   },
   "file_extension": ".py",
   "mimetype": "text/x-python",
   "name": "python",
   "nbconvert_exporter": "python",
   "pygments_lexer": "ipython3",
   "version": "3.6.4"
  }
 },
 "nbformat": 4,
 "nbformat_minor": 2
}
